{
 "cells": [
  {
   "cell_type": "markdown",
   "id": "f103d7ae",
   "metadata": {},
   "source": [
    "# Analyse de la croissance de capacité solaire en France"
   ]
  },
  {
   "cell_type": "markdown",
   "id": "bcfadb72",
   "metadata": {},
   "source": [
    "La croissance de la capacité solaire en France doit être prise en compte de manière à normaliser la production solaire dans notre modèle."
   ]
  },
  {
   "cell_type": "markdown",
   "id": "feaf5386",
   "metadata": {},
   "source": [
    "### Import des libraries"
   ]
  },
  {
   "cell_type": "code",
   "execution_count": 20,
   "id": "cb7afbcb",
   "metadata": {},
   "outputs": [],
   "source": [
    "import pandas as pd\n",
    "import statsmodels.api as sm\n",
    "import seaborn as sns\n",
    "import numpy as np\n",
    "import matplotlib.pyplot as plt\n",
    "from typing import Optional, Dict\n",
    "import os\n",
    "import logging\n",
    "import warnings\n",
    "from datetime import datetime, timedelta\n",
    "warnings.filterwarnings(\"ignore\")"
   ]
  },
  {
   "cell_type": "code",
   "execution_count": 2,
   "id": "5e107fbc",
   "metadata": {},
   "outputs": [],
   "source": [
    "# Confirmation d'être à la racine du dossier\n",
    "project_root = os.path.abspath(os.path.join(os.getcwd(), os.pardir))\n",
    "os.chdir(project_root)"
   ]
  },
  {
   "cell_type": "markdown",
   "id": "b016d87f",
   "metadata": {},
   "source": [
    "### Filtrage des données solaire et sur la région Occitanie"
   ]
  },
  {
   "cell_type": "code",
   "execution_count": 3,
   "id": "330e3ab5",
   "metadata": {},
   "outputs": [
    {
     "data": {
      "application/vnd.microsoft.datawrangler.viewer.v0+json": {
       "columns": [
        {
         "name": "index",
         "rawType": "int64",
         "type": "integer"
        },
        {
         "name": "idPEPS",
         "rawType": "object",
         "type": "string"
        },
        {
         "name": "nomInstallation",
         "rawType": "object",
         "type": "string"
        },
        {
         "name": "codeEICResourceObject",
         "rawType": "object",
         "type": "string"
        },
        {
         "name": "codeIRIS",
         "rawType": "object",
         "type": "string"
        },
        {
         "name": "codeINSEECommune",
         "rawType": "object",
         "type": "string"
        },
        {
         "name": "commune",
         "rawType": "object",
         "type": "string"
        },
        {
         "name": "codeEPCI",
         "rawType": "object",
         "type": "string"
        },
        {
         "name": "EPCI",
         "rawType": "object",
         "type": "string"
        },
        {
         "name": "codeDepartement",
         "rawType": "object",
         "type": "string"
        },
        {
         "name": "departement",
         "rawType": "object",
         "type": "string"
        },
        {
         "name": "codeRegion",
         "rawType": "float64",
         "type": "float"
        },
        {
         "name": "region",
         "rawType": "object",
         "type": "string"
        },
        {
         "name": "codeIRISCommuneImplantation",
         "rawType": "object",
         "type": "string"
        },
        {
         "name": "codeINSEECommuneImplantation",
         "rawType": "object",
         "type": "string"
        },
        {
         "name": "codeS3RENR",
         "rawType": "object",
         "type": "unknown"
        },
        {
         "name": "dateRaccordement",
         "rawType": "object",
         "type": "string"
        },
        {
         "name": "dateDeraccordement",
         "rawType": "object",
         "type": "unknown"
        },
        {
         "name": "dateMiseEnService",
         "rawType": "object",
         "type": "string"
        },
        {
         "name": "dateDebutVersion",
         "rawType": "object",
         "type": "string"
        },
        {
         "name": "posteSource",
         "rawType": "object",
         "type": "unknown"
        },
        {
         "name": "tensionRaccordement",
         "rawType": "object",
         "type": "string"
        },
        {
         "name": "modeRaccordement",
         "rawType": "object",
         "type": "string"
        },
        {
         "name": "codeFiliere",
         "rawType": "object",
         "type": "string"
        },
        {
         "name": "filiere",
         "rawType": "object",
         "type": "string"
        },
        {
         "name": "codeCombustible",
         "rawType": "object",
         "type": "unknown"
        },
        {
         "name": "combustible",
         "rawType": "object",
         "type": "unknown"
        },
        {
         "name": "codesCombustiblesSecondaires",
         "rawType": "object",
         "type": "unknown"
        },
        {
         "name": "combustiblesSecondaires",
         "rawType": "object",
         "type": "unknown"
        },
        {
         "name": "codeTechnologie",
         "rawType": "object",
         "type": "string"
        },
        {
         "name": "technologie",
         "rawType": "object",
         "type": "string"
        },
        {
         "name": "typeStockage",
         "rawType": "object",
         "type": "unknown"
        },
        {
         "name": "puisMaxInstallee",
         "rawType": "float64",
         "type": "float"
        },
        {
         "name": "puisMaxRacCharge",
         "rawType": "float64",
         "type": "float"
        },
        {
         "name": "puisMaxCharge",
         "rawType": "float64",
         "type": "float"
        },
        {
         "name": "puisMaxRac",
         "rawType": "float64",
         "type": "float"
        },
        {
         "name": "puisMaxInstalleeDisCharge",
         "rawType": "float64",
         "type": "float"
        },
        {
         "name": "nbGroupes",
         "rawType": "float64",
         "type": "float"
        },
        {
         "name": "nbInstallations",
         "rawType": "int64",
         "type": "integer"
        },
        {
         "name": "regime",
         "rawType": "object",
         "type": "string"
        },
        {
         "name": "energieStockable",
         "rawType": "float64",
         "type": "float"
        },
        {
         "name": "capaciteReservoir",
         "rawType": "float64",
         "type": "float"
        },
        {
         "name": "hauteurChute",
         "rawType": "float64",
         "type": "float"
        },
        {
         "name": "productible",
         "rawType": "float64",
         "type": "float"
        },
        {
         "name": "debitMaximal",
         "rawType": "float64",
         "type": "float"
        },
        {
         "name": "codeGestionnaire",
         "rawType": "object",
         "type": "string"
        },
        {
         "name": "gestionnaire",
         "rawType": "object",
         "type": "string"
        },
        {
         "name": "energieAnnuelleGlissanteInjectee",
         "rawType": "float64",
         "type": "float"
        },
        {
         "name": "energieAnnuelleGlissanteProduite",
         "rawType": "float64",
         "type": "float"
        },
        {
         "name": "energieAnnuelleGlissanteSoutiree",
         "rawType": "float64",
         "type": "float"
        },
        {
         "name": "energieAnnuelleGlissanteStockee",
         "rawType": "float64",
         "type": "float"
        },
        {
         "name": "maxPuis",
         "rawType": "float64",
         "type": "float"
        },
        {
         "name": "dateMiseEnservice (format date)",
         "rawType": "object",
         "type": "string"
        }
       ],
       "ref": "80609afa-cba7-47ad-8cfe-03d8835be379",
       "rows": [
        [
         "0",
         "23X160203-000021-222235COR1",
         "Confidentiel",
         "17W0000015765488",
         "2A0010000",
         "2A001",
         "Afa",
         "242010056",
         "CA du Pays Ajaccien",
         "2A",
         "Corse-du-Sud",
         "94.0",
         "Corse",
         "2A0010000",
         "2A001",
         null,
         "17/05/2023",
         null,
         "17/05/2023",
         "26/01/2024",
         null,
         "BT",
         "Direct",
         "SOLAI",
         "Solaire",
         null,
         null,
         null,
         null,
         "PHOTV",
         "Photovoltaïque",
         null,
         "74.7",
         null,
         null,
         null,
         null,
         null,
         "1",
         "En service",
         null,
         null,
         null,
         null,
         null,
         "23X160203-000021",
         "EDF-SEI",
         null,
         null,
         null,
         null,
         "74.7",
         "2023-05-17"
        ],
        [
         "1",
         "23X160203-000021-222303COR1",
         "Confidentiel",
         "17W000002169863B",
         "2A0010000",
         "2A001",
         "Afa",
         "242010056",
         "CA du Pays Ajaccien",
         "2A",
         "Corse-du-Sud",
         "94.0",
         "Corse",
         "2A0010000",
         "2A001",
         null,
         "16/04/2024",
         null,
         "16/04/2024",
         "16/04/2024",
         null,
         "BT",
         "Direct",
         "SOLAI",
         "Solaire",
         null,
         null,
         null,
         null,
         "PHOTV",
         "Photovoltaïque",
         null,
         "100.0",
         null,
         null,
         null,
         null,
         null,
         "1",
         "En service",
         null,
         null,
         null,
         null,
         null,
         "23X160203-000021",
         "EDF-SEI",
         null,
         null,
         null,
         null,
         "100.0",
         "2024-04-16"
        ],
        [
         "2",
         "23X160203-000021-257171272COR1",
         "Confidentiel",
         "17W0000013300061",
         "2A0010000",
         "2A001",
         "Afa",
         "242010056",
         "CA du Pays Ajaccien",
         "2A",
         "Corse-du-Sud",
         "94.0",
         "Corse",
         "2A0010000",
         "2A001",
         null,
         "28/05/2019",
         null,
         "28/05/2019",
         "26/01/2024",
         null,
         "BT",
         "Direct",
         "SOLAI",
         "Solaire",
         null,
         null,
         null,
         null,
         "PHOTV",
         "Photovoltaïque",
         null,
         "99.9",
         null,
         null,
         null,
         null,
         null,
         "1",
         "En service",
         null,
         null,
         null,
         null,
         null,
         "23X160203-000021",
         "EDF-SEI",
         null,
         null,
         null,
         null,
         "99.9",
         "2019-05-28"
        ],
        [
         "3",
         "23X160203-000021-222315COR1",
         "Confidentiel",
         "17W0000021698649",
         "2A0010000",
         "2A001",
         "Afa",
         "242010056",
         "CA du Pays Ajaccien",
         "2A",
         "Corse-du-Sud",
         "94.0",
         "Corse",
         "2A0010000",
         "2A001",
         null,
         "22/05/2024",
         null,
         "22/05/2024",
         "22/05/2024",
         null,
         "BT",
         "Direct",
         "SOLAI",
         "Solaire",
         null,
         null,
         null,
         null,
         "PHOTV",
         "Photovoltaïque",
         null,
         "100.0",
         null,
         null,
         null,
         null,
         null,
         "1",
         "En service",
         null,
         null,
         null,
         null,
         null,
         "23X160203-000021",
         "EDF-SEI",
         null,
         null,
         null,
         null,
         "100.0",
         "2024-05-22"
        ],
        [
         "4",
         "23X160203-000021-COR3161791",
         "Confidentiel",
         "17W000002229049H",
         "2A0010000",
         "2A001",
         "Afa",
         "242010056",
         "CA du Pays Ajaccien",
         "2A",
         "Corse-du-Sud",
         "94.0",
         "Corse",
         "2A0010000",
         "2A001",
         null,
         "16/07/2019",
         null,
         "16/07/2019",
         "16/07/2019",
         null,
         "COURANT CONTINU",
         "Direct",
         "SOLAI",
         "Solaire",
         null,
         null,
         null,
         null,
         "PHOTV",
         "Photovoltaïque",
         null,
         "99.9",
         null,
         null,
         null,
         null,
         null,
         "1",
         "En service",
         null,
         null,
         null,
         null,
         null,
         "23X160203-000021",
         "EDF-SEI",
         "0.0",
         null,
         "0.0",
         null,
         "99.9",
         "2019-07-16"
        ]
       ],
       "shape": {
        "columns": 52,
        "rows": 5
       }
      },
      "text/html": [
       "<div>\n",
       "<style scoped>\n",
       "    .dataframe tbody tr th:only-of-type {\n",
       "        vertical-align: middle;\n",
       "    }\n",
       "\n",
       "    .dataframe tbody tr th {\n",
       "        vertical-align: top;\n",
       "    }\n",
       "\n",
       "    .dataframe thead th {\n",
       "        text-align: right;\n",
       "    }\n",
       "</style>\n",
       "<table border=\"1\" class=\"dataframe\">\n",
       "  <thead>\n",
       "    <tr style=\"text-align: right;\">\n",
       "      <th></th>\n",
       "      <th>idPEPS</th>\n",
       "      <th>nomInstallation</th>\n",
       "      <th>codeEICResourceObject</th>\n",
       "      <th>codeIRIS</th>\n",
       "      <th>codeINSEECommune</th>\n",
       "      <th>commune</th>\n",
       "      <th>codeEPCI</th>\n",
       "      <th>EPCI</th>\n",
       "      <th>codeDepartement</th>\n",
       "      <th>departement</th>\n",
       "      <th>...</th>\n",
       "      <th>productible</th>\n",
       "      <th>debitMaximal</th>\n",
       "      <th>codeGestionnaire</th>\n",
       "      <th>gestionnaire</th>\n",
       "      <th>energieAnnuelleGlissanteInjectee</th>\n",
       "      <th>energieAnnuelleGlissanteProduite</th>\n",
       "      <th>energieAnnuelleGlissanteSoutiree</th>\n",
       "      <th>energieAnnuelleGlissanteStockee</th>\n",
       "      <th>maxPuis</th>\n",
       "      <th>dateMiseEnservice (format date)</th>\n",
       "    </tr>\n",
       "  </thead>\n",
       "  <tbody>\n",
       "    <tr>\n",
       "      <th>0</th>\n",
       "      <td>23X160203-000021-222235COR1</td>\n",
       "      <td>Confidentiel</td>\n",
       "      <td>17W0000015765488</td>\n",
       "      <td>2A0010000</td>\n",
       "      <td>2A001</td>\n",
       "      <td>Afa</td>\n",
       "      <td>242010056</td>\n",
       "      <td>CA du Pays Ajaccien</td>\n",
       "      <td>2A</td>\n",
       "      <td>Corse-du-Sud</td>\n",
       "      <td>...</td>\n",
       "      <td>NaN</td>\n",
       "      <td>NaN</td>\n",
       "      <td>23X160203-000021</td>\n",
       "      <td>EDF-SEI</td>\n",
       "      <td>NaN</td>\n",
       "      <td>NaN</td>\n",
       "      <td>NaN</td>\n",
       "      <td>NaN</td>\n",
       "      <td>74.7</td>\n",
       "      <td>2023-05-17</td>\n",
       "    </tr>\n",
       "    <tr>\n",
       "      <th>1</th>\n",
       "      <td>23X160203-000021-222303COR1</td>\n",
       "      <td>Confidentiel</td>\n",
       "      <td>17W000002169863B</td>\n",
       "      <td>2A0010000</td>\n",
       "      <td>2A001</td>\n",
       "      <td>Afa</td>\n",
       "      <td>242010056</td>\n",
       "      <td>CA du Pays Ajaccien</td>\n",
       "      <td>2A</td>\n",
       "      <td>Corse-du-Sud</td>\n",
       "      <td>...</td>\n",
       "      <td>NaN</td>\n",
       "      <td>NaN</td>\n",
       "      <td>23X160203-000021</td>\n",
       "      <td>EDF-SEI</td>\n",
       "      <td>NaN</td>\n",
       "      <td>NaN</td>\n",
       "      <td>NaN</td>\n",
       "      <td>NaN</td>\n",
       "      <td>100.0</td>\n",
       "      <td>2024-04-16</td>\n",
       "    </tr>\n",
       "    <tr>\n",
       "      <th>2</th>\n",
       "      <td>23X160203-000021-257171272COR1</td>\n",
       "      <td>Confidentiel</td>\n",
       "      <td>17W0000013300061</td>\n",
       "      <td>2A0010000</td>\n",
       "      <td>2A001</td>\n",
       "      <td>Afa</td>\n",
       "      <td>242010056</td>\n",
       "      <td>CA du Pays Ajaccien</td>\n",
       "      <td>2A</td>\n",
       "      <td>Corse-du-Sud</td>\n",
       "      <td>...</td>\n",
       "      <td>NaN</td>\n",
       "      <td>NaN</td>\n",
       "      <td>23X160203-000021</td>\n",
       "      <td>EDF-SEI</td>\n",
       "      <td>NaN</td>\n",
       "      <td>NaN</td>\n",
       "      <td>NaN</td>\n",
       "      <td>NaN</td>\n",
       "      <td>99.9</td>\n",
       "      <td>2019-05-28</td>\n",
       "    </tr>\n",
       "    <tr>\n",
       "      <th>3</th>\n",
       "      <td>23X160203-000021-222315COR1</td>\n",
       "      <td>Confidentiel</td>\n",
       "      <td>17W0000021698649</td>\n",
       "      <td>2A0010000</td>\n",
       "      <td>2A001</td>\n",
       "      <td>Afa</td>\n",
       "      <td>242010056</td>\n",
       "      <td>CA du Pays Ajaccien</td>\n",
       "      <td>2A</td>\n",
       "      <td>Corse-du-Sud</td>\n",
       "      <td>...</td>\n",
       "      <td>NaN</td>\n",
       "      <td>NaN</td>\n",
       "      <td>23X160203-000021</td>\n",
       "      <td>EDF-SEI</td>\n",
       "      <td>NaN</td>\n",
       "      <td>NaN</td>\n",
       "      <td>NaN</td>\n",
       "      <td>NaN</td>\n",
       "      <td>100.0</td>\n",
       "      <td>2024-05-22</td>\n",
       "    </tr>\n",
       "    <tr>\n",
       "      <th>4</th>\n",
       "      <td>23X160203-000021-COR3161791</td>\n",
       "      <td>Confidentiel</td>\n",
       "      <td>17W000002229049H</td>\n",
       "      <td>2A0010000</td>\n",
       "      <td>2A001</td>\n",
       "      <td>Afa</td>\n",
       "      <td>242010056</td>\n",
       "      <td>CA du Pays Ajaccien</td>\n",
       "      <td>2A</td>\n",
       "      <td>Corse-du-Sud</td>\n",
       "      <td>...</td>\n",
       "      <td>NaN</td>\n",
       "      <td>NaN</td>\n",
       "      <td>23X160203-000021</td>\n",
       "      <td>EDF-SEI</td>\n",
       "      <td>0.0</td>\n",
       "      <td>NaN</td>\n",
       "      <td>0.0</td>\n",
       "      <td>NaN</td>\n",
       "      <td>99.9</td>\n",
       "      <td>2019-07-16</td>\n",
       "    </tr>\n",
       "  </tbody>\n",
       "</table>\n",
       "<p>5 rows × 52 columns</p>\n",
       "</div>"
      ],
      "text/plain": [
       "                           idPEPS nomInstallation codeEICResourceObject  \\\n",
       "0     23X160203-000021-222235COR1    Confidentiel      17W0000015765488   \n",
       "1     23X160203-000021-222303COR1    Confidentiel      17W000002169863B   \n",
       "2  23X160203-000021-257171272COR1    Confidentiel      17W0000013300061   \n",
       "3     23X160203-000021-222315COR1    Confidentiel      17W0000021698649   \n",
       "4     23X160203-000021-COR3161791    Confidentiel      17W000002229049H   \n",
       "\n",
       "    codeIRIS codeINSEECommune commune   codeEPCI                 EPCI  \\\n",
       "0  2A0010000            2A001     Afa  242010056  CA du Pays Ajaccien   \n",
       "1  2A0010000            2A001     Afa  242010056  CA du Pays Ajaccien   \n",
       "2  2A0010000            2A001     Afa  242010056  CA du Pays Ajaccien   \n",
       "3  2A0010000            2A001     Afa  242010056  CA du Pays Ajaccien   \n",
       "4  2A0010000            2A001     Afa  242010056  CA du Pays Ajaccien   \n",
       "\n",
       "  codeDepartement   departement  ...  productible debitMaximal  \\\n",
       "0              2A  Corse-du-Sud  ...          NaN          NaN   \n",
       "1              2A  Corse-du-Sud  ...          NaN          NaN   \n",
       "2              2A  Corse-du-Sud  ...          NaN          NaN   \n",
       "3              2A  Corse-du-Sud  ...          NaN          NaN   \n",
       "4              2A  Corse-du-Sud  ...          NaN          NaN   \n",
       "\n",
       "   codeGestionnaire gestionnaire energieAnnuelleGlissanteInjectee  \\\n",
       "0  23X160203-000021      EDF-SEI                              NaN   \n",
       "1  23X160203-000021      EDF-SEI                              NaN   \n",
       "2  23X160203-000021      EDF-SEI                              NaN   \n",
       "3  23X160203-000021      EDF-SEI                              NaN   \n",
       "4  23X160203-000021      EDF-SEI                              0.0   \n",
       "\n",
       "  energieAnnuelleGlissanteProduite energieAnnuelleGlissanteSoutiree  \\\n",
       "0                              NaN                              NaN   \n",
       "1                              NaN                              NaN   \n",
       "2                              NaN                              NaN   \n",
       "3                              NaN                              NaN   \n",
       "4                              NaN                              0.0   \n",
       "\n",
       "  energieAnnuelleGlissanteStockee maxPuis dateMiseEnservice (format date)  \n",
       "0                             NaN    74.7                      2023-05-17  \n",
       "1                             NaN   100.0                      2024-04-16  \n",
       "2                             NaN    99.9                      2019-05-28  \n",
       "3                             NaN   100.0                      2024-05-22  \n",
       "4                             NaN    99.9                      2019-07-16  \n",
       "\n",
       "[5 rows x 52 columns]"
      ]
     },
     "execution_count": 3,
     "metadata": {},
     "output_type": "execute_result"
    }
   ],
   "source": [
    "df = pd.read_csv(\"data/external/registre-national-installation-production-stockage-electricite-agrege.csv\", sep=\";\", low_memory=False)\n",
    "df.head()"
   ]
  },
  {
   "cell_type": "code",
   "execution_count": 4,
   "id": "1ae18a52",
   "metadata": {},
   "outputs": [],
   "source": [
    "def solar_puissance_filter(df_installed_puissance: pd.DataFrame, region_code: int) -> pd.DataFrame: \n",
    "    \"\"\"Retourne le dataset de la puissance solaire installée (après appel api) sur la région de code region_code.\n",
    "\n",
    "    Args:\n",
    "        df_installed_puissance (pd.DataFrame): Dataset issu du registre des infrastructures de production d'énergie (API data.gouv)\n",
    "        region_code (int): Code INSEE de la région\n",
    "\n",
    "    Returns:\n",
    "        df_solar_puissance (pd.DataFrame) : Dataset puissance solaire installée sur la région code_region\n",
    "    \"\"\"\n",
    "    # Solar filter\n",
    "    reg_capacity = df_installed_puissance.groupby([\"codeRegion\", \"dateMiseEnService\", \"filiere\"])[\"puisMaxInstallee\"].sum()\n",
    "    reg_capacity = reg_capacity.reset_index()\n",
    "    df_solar_puissance = reg_capacity[reg_capacity[\"filiere\"]==\"Solaire\"].drop(columns=\"filiere\")\n",
    "    \n",
    "    # Spatial filter\n",
    "    df_solar_puissance = df_solar_puissance[df_solar_puissance[\"codeRegion\"] == region_code]\n",
    "\n",
    "    # Time conversion\n",
    "    df_solar_puissance.loc[:, \"dateMiseEnService\"] = pd.to_datetime(df_solar_puissance[\"dateMiseEnService\"], format=\"%d/%m/%Y\")\n",
    "\n",
    "    return df_solar_puissance"
   ]
  },
  {
   "cell_type": "code",
   "execution_count": 5,
   "id": "057aede0",
   "metadata": {},
   "outputs": [
    {
     "data": {
      "application/vnd.microsoft.datawrangler.viewer.v0+json": {
       "columns": [
        {
         "name": "index",
         "rawType": "int64",
         "type": "integer"
        },
        {
         "name": "codeRegion",
         "rawType": "float64",
         "type": "float"
        },
        {
         "name": "dateMiseEnService",
         "rawType": "object",
         "type": "unknown"
        },
        {
         "name": "puisMaxInstallee",
         "rawType": "float64",
         "type": "float"
        }
       ],
       "ref": "4e33fc54-f007-49d0-9c8a-da0d01ab5c93",
       "rows": [
        [
         "28345",
         "76.0",
         "1900-01-01 00:00:00",
         "936.32"
        ],
        [
         "28358",
         "76.0",
         "2006-01-01 00:00:00",
         "281.17"
        ],
        [
         "28360",
         "76.0",
         "2007-01-01 00:00:00",
         "860.24"
        ],
        [
         "28365",
         "76.0",
         "2014-01-01 00:00:00",
         "279.99"
        ],
        [
         "28370",
         "76.0",
         "2016-01-01 00:00:00",
         "529.77"
        ]
       ],
       "shape": {
        "columns": 3,
        "rows": 5
       }
      },
      "text/html": [
       "<div>\n",
       "<style scoped>\n",
       "    .dataframe tbody tr th:only-of-type {\n",
       "        vertical-align: middle;\n",
       "    }\n",
       "\n",
       "    .dataframe tbody tr th {\n",
       "        vertical-align: top;\n",
       "    }\n",
       "\n",
       "    .dataframe thead th {\n",
       "        text-align: right;\n",
       "    }\n",
       "</style>\n",
       "<table border=\"1\" class=\"dataframe\">\n",
       "  <thead>\n",
       "    <tr style=\"text-align: right;\">\n",
       "      <th></th>\n",
       "      <th>codeRegion</th>\n",
       "      <th>dateMiseEnService</th>\n",
       "      <th>puisMaxInstallee</th>\n",
       "    </tr>\n",
       "  </thead>\n",
       "  <tbody>\n",
       "    <tr>\n",
       "      <th>28345</th>\n",
       "      <td>76.0</td>\n",
       "      <td>1900-01-01 00:00:00</td>\n",
       "      <td>936.32</td>\n",
       "    </tr>\n",
       "    <tr>\n",
       "      <th>28358</th>\n",
       "      <td>76.0</td>\n",
       "      <td>2006-01-01 00:00:00</td>\n",
       "      <td>281.17</td>\n",
       "    </tr>\n",
       "    <tr>\n",
       "      <th>28360</th>\n",
       "      <td>76.0</td>\n",
       "      <td>2007-01-01 00:00:00</td>\n",
       "      <td>860.24</td>\n",
       "    </tr>\n",
       "    <tr>\n",
       "      <th>28365</th>\n",
       "      <td>76.0</td>\n",
       "      <td>2014-01-01 00:00:00</td>\n",
       "      <td>279.99</td>\n",
       "    </tr>\n",
       "    <tr>\n",
       "      <th>28370</th>\n",
       "      <td>76.0</td>\n",
       "      <td>2016-01-01 00:00:00</td>\n",
       "      <td>529.77</td>\n",
       "    </tr>\n",
       "  </tbody>\n",
       "</table>\n",
       "</div>"
      ],
      "text/plain": [
       "       codeRegion    dateMiseEnService  puisMaxInstallee\n",
       "28345        76.0  1900-01-01 00:00:00            936.32\n",
       "28358        76.0  2006-01-01 00:00:00            281.17\n",
       "28360        76.0  2007-01-01 00:00:00            860.24\n",
       "28365        76.0  2014-01-01 00:00:00            279.99\n",
       "28370        76.0  2016-01-01 00:00:00            529.77"
      ]
     },
     "execution_count": 5,
     "metadata": {},
     "output_type": "execute_result"
    }
   ],
   "source": [
    "reg_capacity_occ = solar_puissance_filter(df, 76)\n",
    "reg_capacity_occ.head()"
   ]
  },
  {
   "cell_type": "markdown",
   "id": "abaebec2",
   "metadata": {},
   "source": [
    "### Analyse de la mise en services des infrastructures de production solaire"
   ]
  },
  {
   "cell_type": "markdown",
   "id": "0fe9b044",
   "metadata": {},
   "source": [
    "Analysons maintenant les outliers temporels que nous pourrions retrouver dans le dataframe."
   ]
  },
  {
   "cell_type": "code",
   "execution_count": 6,
   "id": "8bed84b9",
   "metadata": {},
   "outputs": [
    {
     "data": {
      "text/plain": [
       "<Axes: xlabel='dateMiseEnService', ylabel='Count'>"
      ]
     },
     "execution_count": 6,
     "metadata": {},
     "output_type": "execute_result"
    },
    {
     "data": {
      "image/png": "[encoded data removed]",
      "text/plain": [
       "<Figure size 640x480 with 1 Axes>"
      ]
     },
     "metadata": {},
     "output_type": "display_data"
    }
   ],
   "source": [
    "sns.histplot(reg_capacity_occ[\"dateMiseEnService\"])"
   ]
  },
  {
   "cell_type": "markdown",
   "id": "95ec4130",
   "metadata": {},
   "source": [
    "Des outliers temporels sont au nombre de 2 et représentent 1,3MW, soit 0.03% du total des infrastructures recensées dans ce tableau. Nous pouvons donc négliger ces 2 outliers; mais conserver un test simple au regard de la masse de puissance qu'ils représentent."
   ]
  },
  {
   "cell_type": "code",
   "execution_count": 7,
   "id": "9c5bf968",
   "metadata": {},
   "outputs": [],
   "source": [
    "def delete_temporal_outlier(df_solar_puissance: pd.DataFrame) -> pd.DataFrame:\n",
    "    \"\"\"Supprime les outliers temporels basés sur une date de mise en service anormalement ancienne.\n",
    "\n",
    "    Args:\n",
    "        df_solar_puissance (pd.DataFrame): DataFrame contenant les données de production solaire, \n",
    "        avec une colonne 'dateMiseEnService' et 'puisMaxInstallee'.\n",
    "\n",
    "    Returns:\n",
    "        pd.DataFrame: DataFrame nettoyé sans les outliers temporels, sauf s'ils sont significatifs.\n",
    "    \"\"\"\n",
    "    # Filtrage des outliers temporels\n",
    "    filter = (df_solar_puissance[\"dateMiseEnService\"] < pd.Timestamp(\"1990-01-01\"))\n",
    "    ancient_solar_production = df_solar_puissance[filter]\n",
    "    df_puiss = df_solar_puissance[~filter]\n",
    "\n",
    "    # Total des puissances outliers et correctes\n",
    "    total_puiss = df_puiss[\"puisMaxInstallee\"].sum()\n",
    "    outlier_puiss = ancient_solar_production[\"puisMaxInstallee\"].sum()\n",
    "    pourcentage_outliers = outlier_puiss / total_puiss * 100\n",
    "    \n",
    "\n",
    "    if pourcentage_outliers >= 0.01:\n",
    "        \n",
    "        df_solar_puissance.loc[filter, \"dateMiseEnService\"] = df_puiss[\"dateMiseEnService\"].iloc[0]\n",
    "        logging.info(f\"{pourcentage_outliers:.2f}% du total détectés comme outliers temporels -> outliers conservés et initialisés à la première date du dataframe de départ\")\n",
    "        \n",
    "        return df_solar_puissance\n",
    "    \n",
    "    else:\n",
    "        logging.info(f\"{pourcentage_outliers:.2f}% du total détectés comme outliers temporels -> outliers supprimés car négligeables\")\n",
    "\n",
    "    return df_puiss\n"
   ]
  },
  {
   "cell_type": "code",
   "execution_count": 8,
   "id": "9eb62ce6",
   "metadata": {},
   "outputs": [
    {
     "data": {
      "application/vnd.microsoft.datawrangler.viewer.v0+json": {
       "columns": [
        {
         "name": "index",
         "rawType": "int64",
         "type": "integer"
        },
        {
         "name": "codeRegion",
         "rawType": "float64",
         "type": "float"
        },
        {
         "name": "dateMiseEnService",
         "rawType": "object",
         "type": "unknown"
        },
        {
         "name": "puisMaxInstallee",
         "rawType": "float64",
         "type": "float"
        }
       ],
       "ref": "6f95a9ae-623c-4a9b-8ea5-838e0df4a1fe",
       "rows": [
        [
         "28345",
         "76.0",
         "2006-01-01 00:00:00",
         "936.32"
        ],
        [
         "28358",
         "76.0",
         "2006-01-01 00:00:00",
         "281.17"
        ],
        [
         "28360",
         "76.0",
         "2007-01-01 00:00:00",
         "860.24"
        ],
        [
         "28365",
         "76.0",
         "2014-01-01 00:00:00",
         "279.99"
        ],
        [
         "28370",
         "76.0",
         "2016-01-01 00:00:00",
         "529.77"
        ]
       ],
       "shape": {
        "columns": 3,
        "rows": 5
       }
      },
      "text/html": [
       "<div>\n",
       "<style scoped>\n",
       "    .dataframe tbody tr th:only-of-type {\n",
       "        vertical-align: middle;\n",
       "    }\n",
       "\n",
       "    .dataframe tbody tr th {\n",
       "        vertical-align: top;\n",
       "    }\n",
       "\n",
       "    .dataframe thead th {\n",
       "        text-align: right;\n",
       "    }\n",
       "</style>\n",
       "<table border=\"1\" class=\"dataframe\">\n",
       "  <thead>\n",
       "    <tr style=\"text-align: right;\">\n",
       "      <th></th>\n",
       "      <th>codeRegion</th>\n",
       "      <th>dateMiseEnService</th>\n",
       "      <th>puisMaxInstallee</th>\n",
       "    </tr>\n",
       "  </thead>\n",
       "  <tbody>\n",
       "    <tr>\n",
       "      <th>28345</th>\n",
       "      <td>76.0</td>\n",
       "      <td>2006-01-01 00:00:00</td>\n",
       "      <td>936.32</td>\n",
       "    </tr>\n",
       "    <tr>\n",
       "      <th>28358</th>\n",
       "      <td>76.0</td>\n",
       "      <td>2006-01-01 00:00:00</td>\n",
       "      <td>281.17</td>\n",
       "    </tr>\n",
       "    <tr>\n",
       "      <th>28360</th>\n",
       "      <td>76.0</td>\n",
       "      <td>2007-01-01 00:00:00</td>\n",
       "      <td>860.24</td>\n",
       "    </tr>\n",
       "    <tr>\n",
       "      <th>28365</th>\n",
       "      <td>76.0</td>\n",
       "      <td>2014-01-01 00:00:00</td>\n",
       "      <td>279.99</td>\n",
       "    </tr>\n",
       "    <tr>\n",
       "      <th>28370</th>\n",
       "      <td>76.0</td>\n",
       "      <td>2016-01-01 00:00:00</td>\n",
       "      <td>529.77</td>\n",
       "    </tr>\n",
       "  </tbody>\n",
       "</table>\n",
       "</div>"
      ],
      "text/plain": [
       "       codeRegion    dateMiseEnService  puisMaxInstallee\n",
       "28345        76.0  2006-01-01 00:00:00            936.32\n",
       "28358        76.0  2006-01-01 00:00:00            281.17\n",
       "28360        76.0  2007-01-01 00:00:00            860.24\n",
       "28365        76.0  2014-01-01 00:00:00            279.99\n",
       "28370        76.0  2016-01-01 00:00:00            529.77"
      ]
     },
     "execution_count": 8,
     "metadata": {},
     "output_type": "execute_result"
    }
   ],
   "source": [
    "df_solar_puissance = delete_temporal_outlier(reg_capacity_occ)\n",
    "df_solar_puissance.head()"
   ]
  },
  {
   "cell_type": "markdown",
   "id": "648f98b2",
   "metadata": {},
   "source": [
    "Nous considérerons que le registre des infrastructures de production d'énergie maintenu par la gouvernement ne contient pas de valeurs aberrantes concernant leur puissance maximale."
   ]
  },
  {
   "cell_type": "markdown",
   "id": "28732c04",
   "metadata": {},
   "source": []
  },
  {
   "cell_type": "markdown",
   "id": "71c21468",
   "metadata": {},
   "source": [
    "### Courbe cumulée de la capacité dans la région Occitanie"
   ]
  },
  {
   "cell_type": "markdown",
   "id": "f20597e4",
   "metadata": {},
   "source": [
    "Traçons maintenant la courbe cumulée de la puissance maximale mise en service en région Occitanie."
   ]
  },
  {
   "cell_type": "code",
   "execution_count": 9,
   "id": "033242af",
   "metadata": {},
   "outputs": [
    {
     "data": {
      "application/vnd.microsoft.datawrangler.viewer.v0+json": {
       "columns": [
        {
         "name": "index",
         "rawType": "object",
         "type": "string"
        },
        {
         "name": "codeRegion",
         "rawType": "float64",
         "type": "float"
        },
        {
         "name": "puisMaxInstallee",
         "rawType": "float64",
         "type": "float"
        }
       ],
       "ref": "a72557da-9b78-4e5e-8c90-50fbbb1aff70",
       "rows": [
        [
         "count",
         "4060.0",
         "4060.0"
        ],
        [
         "mean",
         "76.0",
         "1184.9456027093595"
        ],
        [
         "std",
         "0.0",
         "2126.5841497707797"
        ],
        [
         "min",
         "76.0",
         "0.0"
        ],
        [
         "25%",
         "76.0",
         "233.9425"
        ],
        [
         "50%",
         "76.0",
         "547.415"
        ],
        [
         "75%",
         "76.0",
         "1217.0"
        ],
        [
         "max",
         "76.0",
         "36883.84"
        ]
       ],
       "shape": {
        "columns": 2,
        "rows": 8
       }
      },
      "text/html": [
       "<div>\n",
       "<style scoped>\n",
       "    .dataframe tbody tr th:only-of-type {\n",
       "        vertical-align: middle;\n",
       "    }\n",
       "\n",
       "    .dataframe tbody tr th {\n",
       "        vertical-align: top;\n",
       "    }\n",
       "\n",
       "    .dataframe thead th {\n",
       "        text-align: right;\n",
       "    }\n",
       "</style>\n",
       "<table border=\"1\" class=\"dataframe\">\n",
       "  <thead>\n",
       "    <tr style=\"text-align: right;\">\n",
       "      <th></th>\n",
       "      <th>codeRegion</th>\n",
       "      <th>puisMaxInstallee</th>\n",
       "    </tr>\n",
       "  </thead>\n",
       "  <tbody>\n",
       "    <tr>\n",
       "      <th>count</th>\n",
       "      <td>4060.0</td>\n",
       "      <td>4060.000000</td>\n",
       "    </tr>\n",
       "    <tr>\n",
       "      <th>mean</th>\n",
       "      <td>76.0</td>\n",
       "      <td>1184.945603</td>\n",
       "    </tr>\n",
       "    <tr>\n",
       "      <th>std</th>\n",
       "      <td>0.0</td>\n",
       "      <td>2126.584150</td>\n",
       "    </tr>\n",
       "    <tr>\n",
       "      <th>min</th>\n",
       "      <td>76.0</td>\n",
       "      <td>0.000000</td>\n",
       "    </tr>\n",
       "    <tr>\n",
       "      <th>25%</th>\n",
       "      <td>76.0</td>\n",
       "      <td>233.942500</td>\n",
       "    </tr>\n",
       "    <tr>\n",
       "      <th>50%</th>\n",
       "      <td>76.0</td>\n",
       "      <td>547.415000</td>\n",
       "    </tr>\n",
       "    <tr>\n",
       "      <th>75%</th>\n",
       "      <td>76.0</td>\n",
       "      <td>1217.000000</td>\n",
       "    </tr>\n",
       "    <tr>\n",
       "      <th>max</th>\n",
       "      <td>76.0</td>\n",
       "      <td>36883.840000</td>\n",
       "    </tr>\n",
       "  </tbody>\n",
       "</table>\n",
       "</div>"
      ],
      "text/plain": [
       "       codeRegion  puisMaxInstallee\n",
       "count      4060.0       4060.000000\n",
       "mean         76.0       1184.945603\n",
       "std           0.0       2126.584150\n",
       "min          76.0          0.000000\n",
       "25%          76.0        233.942500\n",
       "50%          76.0        547.415000\n",
       "75%          76.0       1217.000000\n",
       "max          76.0      36883.840000"
      ]
     },
     "execution_count": 9,
     "metadata": {},
     "output_type": "execute_result"
    }
   ],
   "source": [
    "reg_capacity_occ = reg_capacity_occ.sort_values(by=\"dateMiseEnService\")\n",
    "occ_capacity = reg_capacity_occ.set_index(\"dateMiseEnService\")\n",
    "reg_capacity_occ.describe()"
   ]
  },
  {
   "cell_type": "code",
   "execution_count": 10,
   "id": "fa3e3d9a",
   "metadata": {},
   "outputs": [],
   "source": [
    "occ_capacity[\"puisinstallee_chronique\"] = occ_capacity[\"puisMaxInstallee\"].cumsum()"
   ]
  },
  {
   "cell_type": "code",
   "execution_count": 11,
   "id": "fbbcf987",
   "metadata": {},
   "outputs": [
    {
     "data": {
      "text/plain": [
       "<Axes: xlabel='dateMiseEnService', ylabel='puisinstallee_chronique'>"
      ]
     },
     "execution_count": 11,
     "metadata": {},
     "output_type": "execute_result"
    },
    {
     "data": {
      "image/png": "[encoded data removed]",
      "text/plain": [
       "<Figure size 640x480 with 1 Axes>"
      ]
     },
     "metadata": {},
     "output_type": "display_data"
    }
   ],
   "source": [
    "sns.lineplot(occ_capacity[\"puisinstallee_chronique\"])"
   ]
  },
  {
   "cell_type": "markdown",
   "id": "9fb14674",
   "metadata": {},
   "source": [
    "Nous pouvons remarquer que un point d'inflexion très important en 2008 de la puissance solaire installée en Occitanie. Cela est dû, d'une part à la recrudescence de nombreux projets d'installations solaires dans la région Midi-Pyrénées (anciennement), d'autre part à une simplification des processus administratifs, par une première note de cadrage validée le 23/07/2009 (Doctrine régionale, animé par la DREAL Division Energie Occitanie)."
   ]
  },
  {
   "cell_type": "markdown",
   "id": "19e1b57b",
   "metadata": {},
   "source": []
  },
  {
   "cell_type": "markdown",
   "id": "39986df7",
   "metadata": {},
   "source": [
    "### Capacité sur l'intervalle d'étude 2023 - 2025 "
   ]
  },
  {
   "cell_type": "markdown",
   "id": "fec3cc10",
   "metadata": {},
   "source": [
    "Prenons maintenant l'intervalle d'étude de la production solaire utilisée comme dataset d'entrainement, de validation et de test. Nous utiliserons la puissance maximale mise en service pour normaliser la puissance observée (trend croissante au fil des années)."
   ]
  },
  {
   "cell_type": "code",
   "execution_count": 12,
   "id": "056f862f",
   "metadata": {},
   "outputs": [],
   "source": [
    "def cumulative_solar_puissance(df_solar_puissance: pd.DataFrame, start_date: str, end_date: str, resample_method: str = 'W'):\n",
    "    \"\"\"Retourne l'intervalle pertinent df_total_capacity considéré dans l'appel d'api de la production solaire RTE.\n",
    "\n",
    "    Args:\n",
    "        df_solar_puissance (pd.DataFrame): Dataset filtré des infrastructures de production solaire\n",
    "        start_date (str): date initiale de l'intervalle \n",
    "        end_date (str): date finale de l'intervalle\n",
    "        resample_method (str, optional): Argument donnant l'agrégation temporelle (W pour week, H pour heure...). Defaults to 'W'.\n",
    "\n",
    "    Returns:\n",
    "        df_total_capacity (pd.DataFrame) : Dataset filtré sur l'intervalle (start_date, end_date), munie de la courbe cumulée de puissance associée.\n",
    "    \"\"\"\n",
    "    # Separation de la droite et de la gauche\n",
    "    df_capacity_r = df_solar_puissance[df_solar_puissance[\"dateMiseEnService\"] >= pd.Timestamp(start_date)]\n",
    "    df_capacity_r = df_capacity_r.set_index('dateMiseEnService')\n",
    "    df_capacity_l = df_solar_puissance[df_solar_puissance[\"dateMiseEnService\"] < pd.Timestamp(start_date)]\n",
    "   \n",
    "    # Calcul de la baseline\n",
    "    baseline_capacity = df_capacity_l[\"puisMaxInstallee\"].sum()\n",
    "\n",
    "    # Initialisation de la somme cumulée\n",
    "    df_capacity_r.loc[:, \"chronique_capacity\"] = df_capacity_r[\"puisMaxInstallee\"].cumsum()\n",
    "    df_capacity_r.loc[:, \"chronique_capacity\"] += baseline_capacity\n",
    "\n",
    "    # Resample (optionnel)\n",
    "    df_total_capacity = df_capacity_r[\"chronique_capacity\"].resample(resample_method).transform('mean')/1E3 #MW\n",
    "\n",
    "    # On filtre sur la fin\n",
    "    df_total_capacity = df_total_capacity[df_total_capacity.index < pd.Timestamp(end_date)]\n",
    "    logging.info(f\"DataFrame puissance cumulée sur l'intervalle [{start_date}, {end_date}] créé\")\n",
    "\n",
    "    return df_total_capacity"
   ]
  },
  {
   "cell_type": "code",
   "execution_count": 13,
   "id": "fbf9ff77",
   "metadata": {},
   "outputs": [
    {
     "data": {
      "application/vnd.microsoft.datawrangler.viewer.v0+json": {
       "columns": [
        {
         "name": "dateMiseEnService",
         "rawType": "datetime64[ns]",
         "type": "datetime"
        },
        {
         "name": "chronique_capacity",
         "rawType": "float64",
         "type": "float"
        }
       ],
       "ref": "5bcf3ec8-ae20-4aaf-9183-93bd85f7bbba",
       "rows": [
        [
         "2025-05-23 00:00:00",
         "4800.5373469999995"
        ],
        [
         "2025-05-26 00:00:00",
         "4809.291037"
        ],
        [
         "2025-05-27 00:00:00",
         "4809.291037"
        ],
        [
         "2025-05-28 00:00:00",
         "4809.291037"
        ],
        [
         "2025-05-30 00:00:00",
         "4809.291037"
        ]
       ],
       "shape": {
        "columns": 1,
        "rows": 5
       }
      },
      "text/plain": [
       "dateMiseEnService\n",
       "2025-05-23    4800.537347\n",
       "2025-05-26    4809.291037\n",
       "2025-05-27    4809.291037\n",
       "2025-05-28    4809.291037\n",
       "2025-05-30    4809.291037\n",
       "Name: chronique_capacity, dtype: float64"
      ]
     },
     "execution_count": 13,
     "metadata": {},
     "output_type": "execute_result"
    }
   ],
   "source": [
    "start_date = '2023-01-01'\n",
    "end_date = '2025-06-01'\n",
    "df_total_capacity = cumulative_solar_puissance(reg_capacity_occ, start_date, end_date)\n",
    "df_total_capacity.tail()"
   ]
  },
  {
   "cell_type": "code",
   "execution_count": 14,
   "id": "481f12c5",
   "metadata": {},
   "outputs": [
    {
     "data": {
      "text/plain": [
       "Text(0, 0.5, 'Puissance installée (MW)')"
      ]
     },
     "execution_count": 14,
     "metadata": {},
     "output_type": "execute_result"
    },
    {
     "data": {
      "image/png": "[encoded data removed]",
      "text/plain": [
       "<Figure size 1200x600 with 1 Axes>"
      ]
     },
     "metadata": {},
     "output_type": "display_data"
    }
   ],
   "source": [
    "fig = plt.figure(figsize=(12, 6))\n",
    "sns.lineplot(df_total_capacity)\n",
    "plt.title(f\"Evolution de la puissance solaire installée (agrégée à la semaine) en Occitanie entre le {start_date} et le {end_date}\")\n",
    "plt.xlabel(\"Années\")\n",
    "plt.ylabel(\"Puissance installée (MW)\")"
   ]
  },
  {
   "cell_type": "code",
   "execution_count": 16,
   "id": "fde6f663",
   "metadata": {},
   "outputs": [
    {
     "data": {
      "application/vnd.microsoft.datawrangler.viewer.v0+json": {
       "columns": [
        {
         "name": "dateMiseEnService",
         "rawType": "datetime64[ns]",
         "type": "datetime"
        },
        {
         "name": "chronique_capacity",
         "rawType": "float64",
         "type": "float"
        }
       ],
       "ref": "58095f50-de5c-4120-802b-eb08eba85c82",
       "rows": [
        [
         "2023-01-03 00:00:00",
         "3671.9080519999998"
        ],
        [
         "2023-01-04 00:00:00",
         "3671.9080519999998"
        ],
        [
         "2023-01-05 00:00:00",
         "3671.9080519999998"
        ],
        [
         "2023-01-06 00:00:00",
         "3671.9080519999998"
        ],
        [
         "2023-01-09 00:00:00",
         "3678.8698879999993"
        ]
       ],
       "shape": {
        "columns": 1,
        "rows": 5
       }
      },
      "text/plain": [
       "dateMiseEnService\n",
       "2023-01-03    3671.908052\n",
       "2023-01-04    3671.908052\n",
       "2023-01-05    3671.908052\n",
       "2023-01-06    3671.908052\n",
       "2023-01-09    3678.869888\n",
       "Name: chronique_capacity, dtype: float64"
      ]
     },
     "execution_count": 16,
     "metadata": {},
     "output_type": "execute_result"
    }
   ],
   "source": [
    "df_total_capacity.head()"
   ]
  },
  {
   "cell_type": "code",
   "execution_count": 32,
   "id": "1b1aedc5",
   "metadata": {},
   "outputs": [],
   "source": [
    "def resample_to_hourly_ffill(ts: pd.Series) -> pd.Series :\n",
    "    \"\"\"Convertis une série temporelle (ts) journalière vers une agrégation horaire en ffill\n",
    "\n",
    "    Args:\n",
    "        ts (pd.Series): Série temporelle journalière\n",
    "\n",
    "    Returns:\n",
    "        ts_hourly_ffilled (pd.Series): Série temporelle horaire ffilled\n",
    "    \"\"\"\n",
    "\n",
    "    logging.info(f\"Démarrage de la conversion jours -> heures, avec interpolation ffill\")\n",
    "    # Initialisation\n",
    "    start_date = ts.index.min().date()\n",
    "    end_date = ts.index.max().date()\n",
    "\n",
    "    # Simple vérification\n",
    "    if not isinstance(ts.index, pd.DatetimeIndex):\n",
    "        df.index = pd.to_datetime(ts.index)\n",
    "    \n",
    "    logging.info(f\"Données originales: {len(ts)} jours\")\n",
    "    logging.info(f\"Période: {ts.index.min().date()} à {ts.index.max().date()}\")\n",
    "\n",
    "    # Daterange\n",
    "    hourly_index = pd.date_range(start=ts.index.min().floor('D'),\n",
    "                                 end=ts.index.max().floor('D') + pd.Timedelta(days=1, hours=-1),\n",
    "                                 freq='H')\n",
    "    \n",
    "    logging.info(f\"Après conversion, la longueur du dataset est maintenant de {len(hourly_index)}\")\n",
    "\n",
    "    ts_hourly_ffilled = ts.reindex(hourly_index, method=\"ffill\")\n",
    "\n",
    "    return ts_hourly_ffilled"
   ]
  },
  {
   "cell_type": "code",
   "execution_count": 33,
   "id": "2cb44f53",
   "metadata": {},
   "outputs": [],
   "source": [
    "ts_capacity = resample_to_hourly_ffill(df_total_capacity)"
   ]
  },
  {
   "cell_type": "code",
   "execution_count": 34,
   "id": "9dc5c0c1",
   "metadata": {},
   "outputs": [
    {
     "data": {
      "application/vnd.microsoft.datawrangler.viewer.v0+json": {
       "columns": [
        {
         "name": "index",
         "rawType": "datetime64[ns]",
         "type": "datetime"
        },
        {
         "name": "chronique_capacity",
         "rawType": "float64",
         "type": "float"
        }
       ],
       "ref": "cc398865-6d1d-4eda-8cdd-af4bf8ec8068",
       "rows": [
        [
         "2023-01-03 00:00:00",
         "3671.9080519999998"
        ],
        [
         "2023-01-03 01:00:00",
         "3671.9080519999998"
        ],
        [
         "2023-01-03 02:00:00",
         "3671.9080519999998"
        ],
        [
         "2023-01-03 03:00:00",
         "3671.9080519999998"
        ],
        [
         "2023-01-03 04:00:00",
         "3671.9080519999998"
        ],
        [
         "2023-01-03 05:00:00",
         "3671.9080519999998"
        ],
        [
         "2023-01-03 06:00:00",
         "3671.9080519999998"
        ],
        [
         "2023-01-03 07:00:00",
         "3671.9080519999998"
        ],
        [
         "2023-01-03 08:00:00",
         "3671.9080519999998"
        ],
        [
         "2023-01-03 09:00:00",
         "3671.9080519999998"
        ],
        [
         "2023-01-03 10:00:00",
         "3671.9080519999998"
        ],
        [
         "2023-01-03 11:00:00",
         "3671.9080519999998"
        ],
        [
         "2023-01-03 12:00:00",
         "3671.9080519999998"
        ],
        [
         "2023-01-03 13:00:00",
         "3671.9080519999998"
        ],
        [
         "2023-01-03 14:00:00",
         "3671.9080519999998"
        ],
        [
         "2023-01-03 15:00:00",
         "3671.9080519999998"
        ],
        [
         "2023-01-03 16:00:00",
         "3671.9080519999998"
        ],
        [
         "2023-01-03 17:00:00",
         "3671.9080519999998"
        ],
        [
         "2023-01-03 18:00:00",
         "3671.9080519999998"
        ],
        [
         "2023-01-03 19:00:00",
         "3671.9080519999998"
        ],
        [
         "2023-01-03 20:00:00",
         "3671.9080519999998"
        ],
        [
         "2023-01-03 21:00:00",
         "3671.9080519999998"
        ],
        [
         "2023-01-03 22:00:00",
         "3671.9080519999998"
        ],
        [
         "2023-01-03 23:00:00",
         "3671.9080519999998"
        ],
        [
         "2023-01-04 00:00:00",
         "3671.9080519999998"
        ],
        [
         "2023-01-04 01:00:00",
         "3671.9080519999998"
        ],
        [
         "2023-01-04 02:00:00",
         "3671.9080519999998"
        ],
        [
         "2023-01-04 03:00:00",
         "3671.9080519999998"
        ],
        [
         "2023-01-04 04:00:00",
         "3671.9080519999998"
        ],
        [
         "2023-01-04 05:00:00",
         "3671.9080519999998"
        ],
        [
         "2023-01-04 06:00:00",
         "3671.9080519999998"
        ],
        [
         "2023-01-04 07:00:00",
         "3671.9080519999998"
        ],
        [
         "2023-01-04 08:00:00",
         "3671.9080519999998"
        ],
        [
         "2023-01-04 09:00:00",
         "3671.9080519999998"
        ],
        [
         "2023-01-04 10:00:00",
         "3671.9080519999998"
        ],
        [
         "2023-01-04 11:00:00",
         "3671.9080519999998"
        ],
        [
         "2023-01-04 12:00:00",
         "3671.9080519999998"
        ],
        [
         "2023-01-04 13:00:00",
         "3671.9080519999998"
        ],
        [
         "2023-01-04 14:00:00",
         "3671.9080519999998"
        ],
        [
         "2023-01-04 15:00:00",
         "3671.9080519999998"
        ],
        [
         "2023-01-04 16:00:00",
         "3671.9080519999998"
        ],
        [
         "2023-01-04 17:00:00",
         "3671.9080519999998"
        ],
        [
         "2023-01-04 18:00:00",
         "3671.9080519999998"
        ],
        [
         "2023-01-04 19:00:00",
         "3671.9080519999998"
        ],
        [
         "2023-01-04 20:00:00",
         "3671.9080519999998"
        ],
        [
         "2023-01-04 21:00:00",
         "3671.9080519999998"
        ],
        [
         "2023-01-04 22:00:00",
         "3671.9080519999998"
        ],
        [
         "2023-01-04 23:00:00",
         "3671.9080519999998"
        ],
        [
         "2023-01-05 00:00:00",
         "3671.9080519999998"
        ],
        [
         "2023-01-05 01:00:00",
         "3671.9080519999998"
        ]
       ],
       "shape": {
        "columns": 1,
        "rows": 21096
       }
      },
      "text/plain": [
       "2023-01-03 00:00:00    3671.908052\n",
       "2023-01-03 01:00:00    3671.908052\n",
       "2023-01-03 02:00:00    3671.908052\n",
       "2023-01-03 03:00:00    3671.908052\n",
       "2023-01-03 04:00:00    3671.908052\n",
       "                          ...     \n",
       "2025-05-30 19:00:00    4809.291037\n",
       "2025-05-30 20:00:00    4809.291037\n",
       "2025-05-30 21:00:00    4809.291037\n",
       "2025-05-30 22:00:00    4809.291037\n",
       "2025-05-30 23:00:00    4809.291037\n",
       "Freq: h, Name: chronique_capacity, Length: 21096, dtype: float64"
      ]
     },
     "execution_count": 34,
     "metadata": {},
     "output_type": "execute_result"
    }
   ],
   "source": [
    "ts_capacity"
   ]
  },
  {
   "cell_type": "code",
   "execution_count": 30,
   "id": "7ed313ce",
   "metadata": {},
   "outputs": [
    {
     "data": {
      "text/plain": [
       "Text(0, 0.5, 'Puissance installée (MW)')"
      ]
     },
     "execution_count": 30,
     "metadata": {},
     "output_type": "execute_result"
    },
    {
     "data": {
      "image/png": "[encoded data removed]",
      "text/plain": [
       "<Figure size 1200x600 with 1 Axes>"
      ]
     },
     "metadata": {},
     "output_type": "display_data"
    }
   ],
   "source": [
    "fig = plt.figure(figsize=(12, 6))\n",
    "sns.lineplot(ts_capacity)\n",
    "plt.title(f\"Evolution de la puissance solaire installée en Occitanie entre le {start_date} et le {end_date}\")\n",
    "plt.xlabel(\"Années\")\n",
    "plt.ylabel(\"Puissance installée (MW)\")"
   ]
  },
  {
   "cell_type": "code",
   "execution_count": 31,
   "id": "e40fb7b7",
   "metadata": {},
   "outputs": [],
   "source": [
    "ts_capacity.to_csv(\"data/processed/occitanie_installed_power.csv\")"
   ]
  }
 ],
 "metadata": {
  "kernelspec": {
   "display_name": "solar_forecasting",
   "language": "python",
   "name": "python3"
  },
  "language_info": {
   "codemirror_mode": {
    "name": "ipython",
    "version": 3
   },
   "file_extension": ".py",
   "mimetype": "text/x-python",
   "name": "python",
   "nbconvert_exporter": "python",
   "pygments_lexer": "ipython3",
   "version": "3.12.9"
  }
 },
 "nbformat": 4,
 "nbformat_minor": 5
}
