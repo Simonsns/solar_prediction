{
 "cells": [
  {
   "cell_type": "markdown",
   "id": "f337c6b2",
   "metadata": {},
   "source": [
    "# Prévision de production solaire à h+24 en temps réel (WIP)"
   ]
  },
  {
   "cell_type": "markdown",
   "id": "76da9088",
   "metadata": {},
   "source": [
    "L'objectif de ce projet est de designer un modèle de prévision capable de produire, avec des données publiques de production solaire (RTE) ainsi que des prévisions météorologiques (Open-météo), la production solaire d'une région française à J-1."
   ]
  },
  {
   "cell_type": "markdown",
   "id": "9b50d280",
   "metadata": {},
   "source": [
    "## Source et insights données"
   ]
  },
  {
   "cell_type": "markdown",
   "id": "b5fb6f82",
   "metadata": {},
   "source": [
    "Les données utilisées pour cette analyse et l'entrainement des modèles proviennent de l'API OpenData RTE pour la production solaire régionale, ainsi que de l'API OpenMétéo pour les données météorologiques. Les données sont à la maille horaire et couvrent 2 ans et demi : du 01/01/2023 au 22/05/2025..\n",
    "Les données météorologiques relevées sont issues de l'analyse barycentrique des capacités installées dans la région. Par suite, les mesures de dispersion comme l'écart min-max ou la dispersion (std) sont issues de la moyenne des barycentres départementaux, pour essayer de capturer la variance spatiale sans utiliser (pour l'instant) de CNN. Dans la suite, nous qualifierons de scénario central (SC) les données issues du barycentre régional.\n",
    "\n",
    "Le dataset contient 20 064 records et 49 features (48 imputs et 1 output), détaillées en dessous : \n",
    "\n",
    "**Variables d'entrées**\n",
    "\n",
    "*Variables SC* \n",
    "1. temperature_2m : Température en degrés celsius (°C) ;\n",
    "2. sunshine_duration : Nombre représentant la durée en secondes d'ensoleillement (s) ;\n",
    "3. is_day : Booléen représentant si nous sommes en journée ou dans la nuit ;\n",
    "4. relative_humidity_2m : Nombre représentant l'humidité à 2 mètres du sol (g/m3) ;\n",
    "5. precipitation : Nombre représentant la quantité d'eau tombée par m2 (mm) ; \n",
    "6. surface_pressure : Nombre représentant la pression à la surface (Pascal) ;\n",
    "7. cloud_cover : Pourcentage représentant la couverture nuageuse ou la nébulosité ;\n",
    "8. wind_speed_10m : Vitesse du vent à 10 mètres du sol (m/s) ;\n",
    "9. wind_direction_10m : Direction du vent (degrés) ;\n",
    "10. direct_radiation : Nombre représentant le rayonnement solaire atteignant directement la surface terreste depuis le soleil sans rencontrer d'obstacles (W/m²) ;\n",
    "11. diffuse_radiation : Nombre représentant le rayonnement solaire indirect, induit par la dispersion de la lumière dans les nuages et les particules atmosphériques (W/m²) ;\n",
    "12. direct_normal_irradiance : L'irradiation normale directe (DNI) est la quantité de rayonnement solaire reçue par unité de surface par une surface qui est toujours maintenue perpendiculaire (ou normale) aux rayons qui arrivent en ligne droite depuis la direction du soleil à sa position actuelle dans le ciel (W/m²) ;\n",
    "13. shortwave_radiation : Nombre représentant l'énergie produite par le soleil avec des longueurs d'onde allant de l'infrarouge à l'ultraviolet en passant par le visible (W/m²) ; \n",
    "14. global_tilted_irradiance : L'irradiation solaire est la puissance par unité de surface (densité de puissance de surface) reçue du Soleil sous forme de rayonnement électromagnétique dans la gamme de longueurs d'onde de l'instrument de mesure (W/m²) ;\n",
    "15. terrestrial_radiation : Le rayonnement à ondes longues est un rayonnement thermique électromagnétique émis par la surface de la Terre, l'atmosphère et les nuages. Il est également appelé rayonnement terrestre (W/m²) ; \n",
    "16. apparent_temperature : Nombre représentantla combinaison de l'air ambiant combiné à l'humidité. On peut parler de température ressentie (°C)\n",
    "\n",
    "*Autres variables de dispersion départementales*\n",
    "17. X_delta_minmax : Ecart entre le minimum et le maximum des précédentes valeurs relevées dans les différents départements constitutifs de la région ;\n",
    "18. X_std : Ecart-type des précédentes valeurs relevées dans les différents départements constitutifs de la région ;\n",
    "\n",
    "**Variables de sorties (SC)**\n",
    "\n",
    "1. Solaire (MW) : La production solaire en MWh pour la région étudiée à la maille horaire."
   ]
  },
  {
   "cell_type": "markdown",
   "id": "0cf252bf",
   "metadata": {},
   "source": [
    "### Import des librairies"
   ]
  },
  {
   "cell_type": "code",
   "execution_count": 1,
   "id": "528ac714",
   "metadata": {},
   "outputs": [],
   "source": [
    "# Import de librairies\n",
    "import os\n",
    "import pandas as pd\n",
    "import numpy as np\n",
    "import seaborn as sns\n",
    "import matplotlib.pyplot as plt\n",
    "\n",
    "# Structure du signal temporel\n",
    "import statsmodels.api as sm\n",
    "from statsmodels.graphics.tsaplots import plot_acf, plot_pacf\n",
    "from statsmodels.tsa.stattools import adfuller"
   ]
  },
  {
   "cell_type": "code",
   "execution_count": 2,
   "id": "9d2d62a3",
   "metadata": {},
   "outputs": [],
   "source": [
    "# Confirmation d'être à la racine du dossier\n",
    "project_root = os.path.abspath(os.path.join(os.getcwd(), os.pardir))\n",
    "os.chdir(project_root)"
   ]
  },
  {
   "cell_type": "markdown",
   "id": "346c3967",
   "metadata": {},
   "source": [
    "### Data global inspection "
   ]
  },
  {
   "cell_type": "code",
   "execution_count": 3,
   "id": "e7c49db4",
   "metadata": {},
   "outputs": [],
   "source": [
    "# Import data\n",
    "df = pd.read_csv(\"data/processed/exploratory_solar_dataset.csv\", sep=\";\", index_col=0)"
   ]
  },
  {
   "cell_type": "code",
   "execution_count": 4,
   "id": "7eb01728",
   "metadata": {},
   "outputs": [],
   "source": [
    "def inspect_dataframe(df: pd.DataFrame) -> None:\n",
    "    \n",
    "    \"\"\"Inspection de la structure du dataframe\"\"\"\n",
    "\n",
    "    #Inspection générale\n",
    "    print(f'Shape: {df.shape}') #Forme\n",
    "    print(f'Types de données {df.dtypes.value_counts()}') #dtypes\n",
    "    print(f\"Index: {type(df.index).__name__}\")\n",
    "    \n",
    "    # Regard sur les duplicatas\n",
    "    print(f'Duplicatas : {df.duplicated().sum()} ; {df.duplicated().sum()/len(df)*100:.0f}%')\n",
    "\n",
    "    # Aperçu des données\n",
    "    print(\"\\n--- Premières lignes ---\")\n",
    "    display(df.head())\n",
    "    print(\"\\n--- Dernières lignes ---\")\n",
    "    display(df.tail())\n"
   ]
  },
  {
   "cell_type": "code",
   "execution_count": 5,
   "id": "616b78c7",
   "metadata": {},
   "outputs": [
    {
     "name": "stdout",
     "output_type": "stream",
     "text": [
      "Shape: (20064, 49)\n",
      "Types de données float64    49\n",
      "Name: count, dtype: int64\n",
      "Index: Index\n",
      "Duplicatas : 0 ; 0%\n",
      "\n",
      "--- Premières lignes ---\n"
     ]
    },
    {
     "data": {
      "application/vnd.microsoft.datawrangler.viewer.v0+json": {
       "columns": [
        {
         "name": "index",
         "rawType": "object",
         "type": "string"
        },
        {
         "name": "Solaire (MW)",
         "rawType": "float64",
         "type": "float"
        },
        {
         "name": "temperature_2m_run_13",
         "rawType": "float64",
         "type": "float"
        },
        {
         "name": "sunshine_duration_run_13",
         "rawType": "float64",
         "type": "float"
        },
        {
         "name": "is_day_run_13",
         "rawType": "float64",
         "type": "float"
        },
        {
         "name": "relative_humidity_2m_run_13",
         "rawType": "float64",
         "type": "float"
        },
        {
         "name": "precipitation_run_13",
         "rawType": "float64",
         "type": "float"
        },
        {
         "name": "surface_pressure_run_13",
         "rawType": "float64",
         "type": "float"
        },
        {
         "name": "cloud_cover_run_13",
         "rawType": "float64",
         "type": "float"
        },
        {
         "name": "wind_speed_10m_run_13",
         "rawType": "float64",
         "type": "float"
        },
        {
         "name": "wind_direction_10m_run_13",
         "rawType": "float64",
         "type": "float"
        },
        {
         "name": "direct_radiation_run_13",
         "rawType": "float64",
         "type": "float"
        },
        {
         "name": "diffuse_radiation_run_13",
         "rawType": "float64",
         "type": "float"
        },
        {
         "name": "direct_normal_irradiance_run_13",
         "rawType": "float64",
         "type": "float"
        },
        {
         "name": "shortwave_radiation_run_13",
         "rawType": "float64",
         "type": "float"
        },
        {
         "name": "global_tilted_irradiance_run_13",
         "rawType": "float64",
         "type": "float"
        },
        {
         "name": "terrestrial_radiation_run_13",
         "rawType": "float64",
         "type": "float"
        },
        {
         "name": "apparent_temperature_run_13",
         "rawType": "float64",
         "type": "float"
        },
        {
         "name": "temperature_2m_delta_minmax",
         "rawType": "float64",
         "type": "float"
        },
        {
         "name": "temperature_2m_std",
         "rawType": "float64",
         "type": "float"
        },
        {
         "name": "sunshine_duration_delta_minmax",
         "rawType": "float64",
         "type": "float"
        },
        {
         "name": "sunshine_duration_std",
         "rawType": "float64",
         "type": "float"
        },
        {
         "name": "is_day_delta_minmax",
         "rawType": "float64",
         "type": "float"
        },
        {
         "name": "is_day_std",
         "rawType": "float64",
         "type": "float"
        },
        {
         "name": "relative_humidity_2m_delta_minmax",
         "rawType": "float64",
         "type": "float"
        },
        {
         "name": "relative_humidity_2m_std",
         "rawType": "float64",
         "type": "float"
        },
        {
         "name": "precipitation_delta_minmax",
         "rawType": "float64",
         "type": "float"
        },
        {
         "name": "precipitation_std",
         "rawType": "float64",
         "type": "float"
        },
        {
         "name": "surface_pressure_delta_minmax",
         "rawType": "float64",
         "type": "float"
        },
        {
         "name": "surface_pressure_std",
         "rawType": "float64",
         "type": "float"
        },
        {
         "name": "cloud_cover_delta_minmax",
         "rawType": "float64",
         "type": "float"
        },
        {
         "name": "cloud_cover_std",
         "rawType": "float64",
         "type": "float"
        },
        {
         "name": "wind_speed_10m_delta_minmax",
         "rawType": "float64",
         "type": "float"
        },
        {
         "name": "wind_speed_10m_std",
         "rawType": "float64",
         "type": "float"
        },
        {
         "name": "wind_direction_10m_delta_minmax",
         "rawType": "float64",
         "type": "float"
        },
        {
         "name": "wind_direction_10m_std",
         "rawType": "float64",
         "type": "float"
        },
        {
         "name": "direct_radiation_delta_minmax",
         "rawType": "float64",
         "type": "float"
        },
        {
         "name": "direct_radiation_std",
         "rawType": "float64",
         "type": "float"
        },
        {
         "name": "diffuse_radiation_delta_minmax",
         "rawType": "float64",
         "type": "float"
        },
        {
         "name": "diffuse_radiation_std",
         "rawType": "float64",
         "type": "float"
        },
        {
         "name": "direct_normal_irradiance_delta_minmax",
         "rawType": "float64",
         "type": "float"
        },
        {
         "name": "direct_normal_irradiance_std",
         "rawType": "float64",
         "type": "float"
        },
        {
         "name": "shortwave_radiation_delta_minmax",
         "rawType": "float64",
         "type": "float"
        },
        {
         "name": "shortwave_radiation_std",
         "rawType": "float64",
         "type": "float"
        },
        {
         "name": "global_tilted_irradiance_delta_minmax",
         "rawType": "float64",
         "type": "float"
        },
        {
         "name": "global_tilted_irradiance_std",
         "rawType": "float64",
         "type": "float"
        },
        {
         "name": "terrestrial_radiation_delta_minmax",
         "rawType": "float64",
         "type": "float"
        },
        {
         "name": "terrestrial_radiation_std",
         "rawType": "float64",
         "type": "float"
        },
        {
         "name": "apparent_temperature_delta_minmax",
         "rawType": "float64",
         "type": "float"
        },
        {
         "name": "apparent_temperature_std",
         "rawType": "float64",
         "type": "float"
        }
       ],
       "ref": "086e908d-48ea-4557-a1b1-5b2fd8b8a775",
       "rows": [
        [
         "2023-02-01 01:00:00+01:00",
         "0.0",
         "3.136",
         "0.0",
         "0.0",
         "99.29538",
         "0.0",
         "974.7356",
         "100.0",
         "6.989936",
         "304.50858",
         "0.0",
         "0.0",
         "0.0",
         "0.0",
         "0.0",
         "0.0",
         "0.5081749",
         "8.2125",
         "2.343",
         "0.0",
         "0.0",
         "0.0",
         "0.0",
         "45.1188",
         "12.6121",
         "0.4",
         "0.1121",
         "77.1565",
         "24.6962",
         "97.0",
         "33.9592",
         "17.0646",
         "5.111",
         "144.656",
         "44.3183",
         "0.0",
         "0.0",
         "0.0",
         "0.0",
         "0.0",
         "0.0",
         "0.0",
         "0.0",
         "0.0",
         "0.0",
         "0.0",
         "0.0",
         "9.2179",
         "2.4873"
        ],
        [
         "2023-02-01 02:00:00+01:00",
         "0.0",
         "3.436",
         "0.0",
         "0.0",
         "99.648",
         "0.0",
         "974.41766",
         "100.0",
         "8.0899935",
         "302.27563",
         "0.0",
         "0.0",
         "0.0",
         "0.0",
         "0.0",
         "0.0",
         "0.71394634",
         "8.3125",
         "2.2895",
         "0.0",
         "0.0",
         "0.0",
         "0.0",
         "46.0901",
         "13.481",
         "0.2",
         "0.0555",
         "77.29",
         "24.749",
         "97.0",
         "32.8282",
         "17.0456",
         "5.4139",
         "148.801",
         "49.0035",
         "0.0",
         "0.0",
         "0.0",
         "0.0",
         "0.0",
         "0.0",
         "0.0",
         "0.0",
         "0.0",
         "0.0",
         "0.0",
         "0.0",
         "8.849",
         "2.3038"
        ],
        [
         "2023-02-01 03:00:00+01:00",
         "0.0",
         "3.436",
         "0.0",
         "0.0",
         "99.29709",
         "0.0",
         "974.41766",
         "100.0",
         "9.178235",
         "281.3099",
         "0.0",
         "0.0",
         "0.0",
         "0.0",
         "0.0",
         "0.0",
         "0.54570913",
         "7.2125",
         "2.0268",
         "0.0",
         "0.0",
         "0.0",
         "0.0",
         "45.2433",
         "13.9256",
         "0.4",
         "0.1121",
         "77.0477",
         "24.7034",
         "69.0",
         "26.3804",
         "16.5235",
         "5.2551",
         "149.9315",
         "44.3429",
         "0.0",
         "0.0",
         "0.0",
         "0.0",
         "0.0",
         "0.0",
         "0.0",
         "0.0",
         "0.0",
         "0.0",
         "0.0",
         "0.0",
         "6.6066",
         "1.9406"
        ],
        [
         "2023-02-01 04:00:00+01:00",
         "0.0",
         "3.436",
         "0.0",
         "0.0",
         "98.59856",
         "0.1",
         "974.04",
         "100.0",
         "9.693296",
         "291.80148",
         "0.0",
         "0.0",
         "0.0",
         "0.0",
         "0.0",
         "0.0",
         "0.45161438",
         "6.1125",
         "1.8049",
         "0.0",
         "0.0",
         "0.0",
         "0.0",
         "41.0398",
         "13.493",
         "0.2",
         "0.065",
         "76.8325",
         "24.6432",
         "56.0",
         "24.0376",
         "16.825",
         "5.1948",
         "337.0251",
         "84.9825",
         "0.0",
         "0.0",
         "0.0",
         "0.0",
         "0.0",
         "0.0",
         "0.0",
         "0.0",
         "0.0",
         "0.0",
         "0.0",
         "0.0",
         "5.0427",
         "1.7014"
        ],
        [
         "2023-02-01 05:00:00+01:00",
         "0.0",
         "3.436",
         "0.0",
         "0.0",
         "99.29709",
         "0.6",
         "974.04",
         "100.0",
         "10.587918",
         "305.31128",
         "0.0",
         "0.0",
         "0.0",
         "0.0",
         "0.0",
         "0.0",
         "0.34013033",
         "6.3125",
         "1.8603",
         "0.0",
         "0.0",
         "0.0",
         "0.0",
         "43.8708",
         "14.044",
         "0.3",
         "0.0967",
         "76.8176",
         "24.6293",
         "71.0",
         "24.1337",
         "18.6071",
         "5.4249",
         "132.8228",
         "38.0569",
         "0.0",
         "0.0",
         "0.0",
         "0.0",
         "0.0",
         "0.0",
         "0.0",
         "0.0",
         "0.0",
         "0.0",
         "0.0",
         "0.0",
         "5.8898",
         "1.7487"
        ]
       ],
       "shape": {
        "columns": 49,
        "rows": 5
       }
      },
      "text/html": [
       "<div>\n",
       "<style scoped>\n",
       "    .dataframe tbody tr th:only-of-type {\n",
       "        vertical-align: middle;\n",
       "    }\n",
       "\n",
       "    .dataframe tbody tr th {\n",
       "        vertical-align: top;\n",
       "    }\n",
       "\n",
       "    .dataframe thead th {\n",
       "        text-align: right;\n",
       "    }\n",
       "</style>\n",
       "<table border=\"1\" class=\"dataframe\">\n",
       "  <thead>\n",
       "    <tr style=\"text-align: right;\">\n",
       "      <th></th>\n",
       "      <th>Solaire (MW)</th>\n",
       "      <th>temperature_2m_run_13</th>\n",
       "      <th>sunshine_duration_run_13</th>\n",
       "      <th>is_day_run_13</th>\n",
       "      <th>relative_humidity_2m_run_13</th>\n",
       "      <th>precipitation_run_13</th>\n",
       "      <th>surface_pressure_run_13</th>\n",
       "      <th>cloud_cover_run_13</th>\n",
       "      <th>wind_speed_10m_run_13</th>\n",
       "      <th>wind_direction_10m_run_13</th>\n",
       "      <th>...</th>\n",
       "      <th>direct_normal_irradiance_delta_minmax</th>\n",
       "      <th>direct_normal_irradiance_std</th>\n",
       "      <th>shortwave_radiation_delta_minmax</th>\n",
       "      <th>shortwave_radiation_std</th>\n",
       "      <th>global_tilted_irradiance_delta_minmax</th>\n",
       "      <th>global_tilted_irradiance_std</th>\n",
       "      <th>terrestrial_radiation_delta_minmax</th>\n",
       "      <th>terrestrial_radiation_std</th>\n",
       "      <th>apparent_temperature_delta_minmax</th>\n",
       "      <th>apparent_temperature_std</th>\n",
       "    </tr>\n",
       "  </thead>\n",
       "  <tbody>\n",
       "    <tr>\n",
       "      <th>2023-02-01 01:00:00+01:00</th>\n",
       "      <td>0.0</td>\n",
       "      <td>3.136</td>\n",
       "      <td>0.0</td>\n",
       "      <td>0.0</td>\n",
       "      <td>99.29538</td>\n",
       "      <td>0.0</td>\n",
       "      <td>974.73560</td>\n",
       "      <td>100.0</td>\n",
       "      <td>6.989936</td>\n",
       "      <td>304.50858</td>\n",
       "      <td>...</td>\n",
       "      <td>0.0</td>\n",
       "      <td>0.0</td>\n",
       "      <td>0.0</td>\n",
       "      <td>0.0</td>\n",
       "      <td>0.0</td>\n",
       "      <td>0.0</td>\n",
       "      <td>0.0</td>\n",
       "      <td>0.0</td>\n",
       "      <td>9.2179</td>\n",
       "      <td>2.4873</td>\n",
       "    </tr>\n",
       "    <tr>\n",
       "      <th>2023-02-01 02:00:00+01:00</th>\n",
       "      <td>0.0</td>\n",
       "      <td>3.436</td>\n",
       "      <td>0.0</td>\n",
       "      <td>0.0</td>\n",
       "      <td>99.64800</td>\n",
       "      <td>0.0</td>\n",
       "      <td>974.41766</td>\n",
       "      <td>100.0</td>\n",
       "      <td>8.089994</td>\n",
       "      <td>302.27563</td>\n",
       "      <td>...</td>\n",
       "      <td>0.0</td>\n",
       "      <td>0.0</td>\n",
       "      <td>0.0</td>\n",
       "      <td>0.0</td>\n",
       "      <td>0.0</td>\n",
       "      <td>0.0</td>\n",
       "      <td>0.0</td>\n",
       "      <td>0.0</td>\n",
       "      <td>8.8490</td>\n",
       "      <td>2.3038</td>\n",
       "    </tr>\n",
       "    <tr>\n",
       "      <th>2023-02-01 03:00:00+01:00</th>\n",
       "      <td>0.0</td>\n",
       "      <td>3.436</td>\n",
       "      <td>0.0</td>\n",
       "      <td>0.0</td>\n",
       "      <td>99.29709</td>\n",
       "      <td>0.0</td>\n",
       "      <td>974.41766</td>\n",
       "      <td>100.0</td>\n",
       "      <td>9.178235</td>\n",
       "      <td>281.30990</td>\n",
       "      <td>...</td>\n",
       "      <td>0.0</td>\n",
       "      <td>0.0</td>\n",
       "      <td>0.0</td>\n",
       "      <td>0.0</td>\n",
       "      <td>0.0</td>\n",
       "      <td>0.0</td>\n",
       "      <td>0.0</td>\n",
       "      <td>0.0</td>\n",
       "      <td>6.6066</td>\n",
       "      <td>1.9406</td>\n",
       "    </tr>\n",
       "    <tr>\n",
       "      <th>2023-02-01 04:00:00+01:00</th>\n",
       "      <td>0.0</td>\n",
       "      <td>3.436</td>\n",
       "      <td>0.0</td>\n",
       "      <td>0.0</td>\n",
       "      <td>98.59856</td>\n",
       "      <td>0.1</td>\n",
       "      <td>974.04000</td>\n",
       "      <td>100.0</td>\n",
       "      <td>9.693296</td>\n",
       "      <td>291.80148</td>\n",
       "      <td>...</td>\n",
       "      <td>0.0</td>\n",
       "      <td>0.0</td>\n",
       "      <td>0.0</td>\n",
       "      <td>0.0</td>\n",
       "      <td>0.0</td>\n",
       "      <td>0.0</td>\n",
       "      <td>0.0</td>\n",
       "      <td>0.0</td>\n",
       "      <td>5.0427</td>\n",
       "      <td>1.7014</td>\n",
       "    </tr>\n",
       "    <tr>\n",
       "      <th>2023-02-01 05:00:00+01:00</th>\n",
       "      <td>0.0</td>\n",
       "      <td>3.436</td>\n",
       "      <td>0.0</td>\n",
       "      <td>0.0</td>\n",
       "      <td>99.29709</td>\n",
       "      <td>0.6</td>\n",
       "      <td>974.04000</td>\n",
       "      <td>100.0</td>\n",
       "      <td>10.587918</td>\n",
       "      <td>305.31128</td>\n",
       "      <td>...</td>\n",
       "      <td>0.0</td>\n",
       "      <td>0.0</td>\n",
       "      <td>0.0</td>\n",
       "      <td>0.0</td>\n",
       "      <td>0.0</td>\n",
       "      <td>0.0</td>\n",
       "      <td>0.0</td>\n",
       "      <td>0.0</td>\n",
       "      <td>5.8898</td>\n",
       "      <td>1.7487</td>\n",
       "    </tr>\n",
       "  </tbody>\n",
       "</table>\n",
       "<p>5 rows × 49 columns</p>\n",
       "</div>"
      ],
      "text/plain": [
       "                           Solaire (MW)  temperature_2m_run_13  \\\n",
       "2023-02-01 01:00:00+01:00           0.0                  3.136   \n",
       "2023-02-01 02:00:00+01:00           0.0                  3.436   \n",
       "2023-02-01 03:00:00+01:00           0.0                  3.436   \n",
       "2023-02-01 04:00:00+01:00           0.0                  3.436   \n",
       "2023-02-01 05:00:00+01:00           0.0                  3.436   \n",
       "\n",
       "                           sunshine_duration_run_13  is_day_run_13  \\\n",
       "2023-02-01 01:00:00+01:00                       0.0            0.0   \n",
       "2023-02-01 02:00:00+01:00                       0.0            0.0   \n",
       "2023-02-01 03:00:00+01:00                       0.0            0.0   \n",
       "2023-02-01 04:00:00+01:00                       0.0            0.0   \n",
       "2023-02-01 05:00:00+01:00                       0.0            0.0   \n",
       "\n",
       "                           relative_humidity_2m_run_13  precipitation_run_13  \\\n",
       "2023-02-01 01:00:00+01:00                     99.29538                   0.0   \n",
       "2023-02-01 02:00:00+01:00                     99.64800                   0.0   \n",
       "2023-02-01 03:00:00+01:00                     99.29709                   0.0   \n",
       "2023-02-01 04:00:00+01:00                     98.59856                   0.1   \n",
       "2023-02-01 05:00:00+01:00                     99.29709                   0.6   \n",
       "\n",
       "                           surface_pressure_run_13  cloud_cover_run_13  \\\n",
       "2023-02-01 01:00:00+01:00                974.73560               100.0   \n",
       "2023-02-01 02:00:00+01:00                974.41766               100.0   \n",
       "2023-02-01 03:00:00+01:00                974.41766               100.0   \n",
       "2023-02-01 04:00:00+01:00                974.04000               100.0   \n",
       "2023-02-01 05:00:00+01:00                974.04000               100.0   \n",
       "\n",
       "                           wind_speed_10m_run_13  wind_direction_10m_run_13  \\\n",
       "2023-02-01 01:00:00+01:00               6.989936                  304.50858   \n",
       "2023-02-01 02:00:00+01:00               8.089994                  302.27563   \n",
       "2023-02-01 03:00:00+01:00               9.178235                  281.30990   \n",
       "2023-02-01 04:00:00+01:00               9.693296                  291.80148   \n",
       "2023-02-01 05:00:00+01:00              10.587918                  305.31128   \n",
       "\n",
       "                           ...  direct_normal_irradiance_delta_minmax  \\\n",
       "2023-02-01 01:00:00+01:00  ...                                    0.0   \n",
       "2023-02-01 02:00:00+01:00  ...                                    0.0   \n",
       "2023-02-01 03:00:00+01:00  ...                                    0.0   \n",
       "2023-02-01 04:00:00+01:00  ...                                    0.0   \n",
       "2023-02-01 05:00:00+01:00  ...                                    0.0   \n",
       "\n",
       "                           direct_normal_irradiance_std  \\\n",
       "2023-02-01 01:00:00+01:00                           0.0   \n",
       "2023-02-01 02:00:00+01:00                           0.0   \n",
       "2023-02-01 03:00:00+01:00                           0.0   \n",
       "2023-02-01 04:00:00+01:00                           0.0   \n",
       "2023-02-01 05:00:00+01:00                           0.0   \n",
       "\n",
       "                           shortwave_radiation_delta_minmax  \\\n",
       "2023-02-01 01:00:00+01:00                               0.0   \n",
       "2023-02-01 02:00:00+01:00                               0.0   \n",
       "2023-02-01 03:00:00+01:00                               0.0   \n",
       "2023-02-01 04:00:00+01:00                               0.0   \n",
       "2023-02-01 05:00:00+01:00                               0.0   \n",
       "\n",
       "                           shortwave_radiation_std  \\\n",
       "2023-02-01 01:00:00+01:00                      0.0   \n",
       "2023-02-01 02:00:00+01:00                      0.0   \n",
       "2023-02-01 03:00:00+01:00                      0.0   \n",
       "2023-02-01 04:00:00+01:00                      0.0   \n",
       "2023-02-01 05:00:00+01:00                      0.0   \n",
       "\n",
       "                           global_tilted_irradiance_delta_minmax  \\\n",
       "2023-02-01 01:00:00+01:00                                    0.0   \n",
       "2023-02-01 02:00:00+01:00                                    0.0   \n",
       "2023-02-01 03:00:00+01:00                                    0.0   \n",
       "2023-02-01 04:00:00+01:00                                    0.0   \n",
       "2023-02-01 05:00:00+01:00                                    0.0   \n",
       "\n",
       "                           global_tilted_irradiance_std  \\\n",
       "2023-02-01 01:00:00+01:00                           0.0   \n",
       "2023-02-01 02:00:00+01:00                           0.0   \n",
       "2023-02-01 03:00:00+01:00                           0.0   \n",
       "2023-02-01 04:00:00+01:00                           0.0   \n",
       "2023-02-01 05:00:00+01:00                           0.0   \n",
       "\n",
       "                           terrestrial_radiation_delta_minmax  \\\n",
       "2023-02-01 01:00:00+01:00                                 0.0   \n",
       "2023-02-01 02:00:00+01:00                                 0.0   \n",
       "2023-02-01 03:00:00+01:00                                 0.0   \n",
       "2023-02-01 04:00:00+01:00                                 0.0   \n",
       "2023-02-01 05:00:00+01:00                                 0.0   \n",
       "\n",
       "                           terrestrial_radiation_std  \\\n",
       "2023-02-01 01:00:00+01:00                        0.0   \n",
       "2023-02-01 02:00:00+01:00                        0.0   \n",
       "2023-02-01 03:00:00+01:00                        0.0   \n",
       "2023-02-01 04:00:00+01:00                        0.0   \n",
       "2023-02-01 05:00:00+01:00                        0.0   \n",
       "\n",
       "                           apparent_temperature_delta_minmax  \\\n",
       "2023-02-01 01:00:00+01:00                             9.2179   \n",
       "2023-02-01 02:00:00+01:00                             8.8490   \n",
       "2023-02-01 03:00:00+01:00                             6.6066   \n",
       "2023-02-01 04:00:00+01:00                             5.0427   \n",
       "2023-02-01 05:00:00+01:00                             5.8898   \n",
       "\n",
       "                           apparent_temperature_std  \n",
       "2023-02-01 01:00:00+01:00                    2.4873  \n",
       "2023-02-01 02:00:00+01:00                    2.3038  \n",
       "2023-02-01 03:00:00+01:00                    1.9406  \n",
       "2023-02-01 04:00:00+01:00                    1.7014  \n",
       "2023-02-01 05:00:00+01:00                    1.7487  \n",
       "\n",
       "[5 rows x 49 columns]"
      ]
     },
     "metadata": {},
     "output_type": "display_data"
    },
    {
     "name": "stdout",
     "output_type": "stream",
     "text": [
      "\n",
      "--- Dernières lignes ---\n"
     ]
    },
    {
     "data": {
      "application/vnd.microsoft.datawrangler.viewer.v0+json": {
       "columns": [
        {
         "name": "index",
         "rawType": "object",
         "type": "string"
        },
        {
         "name": "Solaire (MW)",
         "rawType": "float64",
         "type": "float"
        },
        {
         "name": "temperature_2m_run_13",
         "rawType": "float64",
         "type": "float"
        },
        {
         "name": "sunshine_duration_run_13",
         "rawType": "float64",
         "type": "float"
        },
        {
         "name": "is_day_run_13",
         "rawType": "float64",
         "type": "float"
        },
        {
         "name": "relative_humidity_2m_run_13",
         "rawType": "float64",
         "type": "float"
        },
        {
         "name": "precipitation_run_13",
         "rawType": "float64",
         "type": "float"
        },
        {
         "name": "surface_pressure_run_13",
         "rawType": "float64",
         "type": "float"
        },
        {
         "name": "cloud_cover_run_13",
         "rawType": "float64",
         "type": "float"
        },
        {
         "name": "wind_speed_10m_run_13",
         "rawType": "float64",
         "type": "float"
        },
        {
         "name": "wind_direction_10m_run_13",
         "rawType": "float64",
         "type": "float"
        },
        {
         "name": "direct_radiation_run_13",
         "rawType": "float64",
         "type": "float"
        },
        {
         "name": "diffuse_radiation_run_13",
         "rawType": "float64",
         "type": "float"
        },
        {
         "name": "direct_normal_irradiance_run_13",
         "rawType": "float64",
         "type": "float"
        },
        {
         "name": "shortwave_radiation_run_13",
         "rawType": "float64",
         "type": "float"
        },
        {
         "name": "global_tilted_irradiance_run_13",
         "rawType": "float64",
         "type": "float"
        },
        {
         "name": "terrestrial_radiation_run_13",
         "rawType": "float64",
         "type": "float"
        },
        {
         "name": "apparent_temperature_run_13",
         "rawType": "float64",
         "type": "float"
        },
        {
         "name": "temperature_2m_delta_minmax",
         "rawType": "float64",
         "type": "float"
        },
        {
         "name": "temperature_2m_std",
         "rawType": "float64",
         "type": "float"
        },
        {
         "name": "sunshine_duration_delta_minmax",
         "rawType": "float64",
         "type": "float"
        },
        {
         "name": "sunshine_duration_std",
         "rawType": "float64",
         "type": "float"
        },
        {
         "name": "is_day_delta_minmax",
         "rawType": "float64",
         "type": "float"
        },
        {
         "name": "is_day_std",
         "rawType": "float64",
         "type": "float"
        },
        {
         "name": "relative_humidity_2m_delta_minmax",
         "rawType": "float64",
         "type": "float"
        },
        {
         "name": "relative_humidity_2m_std",
         "rawType": "float64",
         "type": "float"
        },
        {
         "name": "precipitation_delta_minmax",
         "rawType": "float64",
         "type": "float"
        },
        {
         "name": "precipitation_std",
         "rawType": "float64",
         "type": "float"
        },
        {
         "name": "surface_pressure_delta_minmax",
         "rawType": "float64",
         "type": "float"
        },
        {
         "name": "surface_pressure_std",
         "rawType": "float64",
         "type": "float"
        },
        {
         "name": "cloud_cover_delta_minmax",
         "rawType": "float64",
         "type": "float"
        },
        {
         "name": "cloud_cover_std",
         "rawType": "float64",
         "type": "float"
        },
        {
         "name": "wind_speed_10m_delta_minmax",
         "rawType": "float64",
         "type": "float"
        },
        {
         "name": "wind_speed_10m_std",
         "rawType": "float64",
         "type": "float"
        },
        {
         "name": "wind_direction_10m_delta_minmax",
         "rawType": "float64",
         "type": "float"
        },
        {
         "name": "wind_direction_10m_std",
         "rawType": "float64",
         "type": "float"
        },
        {
         "name": "direct_radiation_delta_minmax",
         "rawType": "float64",
         "type": "float"
        },
        {
         "name": "direct_radiation_std",
         "rawType": "float64",
         "type": "float"
        },
        {
         "name": "diffuse_radiation_delta_minmax",
         "rawType": "float64",
         "type": "float"
        },
        {
         "name": "diffuse_radiation_std",
         "rawType": "float64",
         "type": "float"
        },
        {
         "name": "direct_normal_irradiance_delta_minmax",
         "rawType": "float64",
         "type": "float"
        },
        {
         "name": "direct_normal_irradiance_std",
         "rawType": "float64",
         "type": "float"
        },
        {
         "name": "shortwave_radiation_delta_minmax",
         "rawType": "float64",
         "type": "float"
        },
        {
         "name": "shortwave_radiation_std",
         "rawType": "float64",
         "type": "float"
        },
        {
         "name": "global_tilted_irradiance_delta_minmax",
         "rawType": "float64",
         "type": "float"
        },
        {
         "name": "global_tilted_irradiance_std",
         "rawType": "float64",
         "type": "float"
        },
        {
         "name": "terrestrial_radiation_delta_minmax",
         "rawType": "float64",
         "type": "float"
        },
        {
         "name": "terrestrial_radiation_std",
         "rawType": "float64",
         "type": "float"
        },
        {
         "name": "apparent_temperature_delta_minmax",
         "rawType": "float64",
         "type": "float"
        },
        {
         "name": "apparent_temperature_std",
         "rawType": "float64",
         "type": "float"
        }
       ],
       "ref": "5e93f9fd-24ef-4e8f-b83c-25524c06b073",
       "rows": [
        [
         "2025-05-16 21:00:00+02:00",
         "73.5",
         "14.036",
         "1684.2335",
         "1.0",
         "73.322",
         "0.0",
         "962.17224",
         "54.0",
         "7.0591216",
         "289.35907",
         "19.0",
         "31.0",
         "145.99649",
         "50.0",
         "50.0",
         "133.49867",
         "12.836828",
         "7.3895",
         "2.3238",
         "2815.2368",
         "854.1775",
         "0.0",
         "0.0",
         "25.1673",
         "8.0953",
         "0.0",
         "0.0",
         "72.723",
         "23.5306",
         "100.0",
         "30.2038",
         "16.8091",
         "5.4716",
         "353.1122",
         "120.8523",
         "27.0",
         "7.3615",
         "14.0",
         "4.0415",
         "192.6246",
         "53.6356",
         "38.0",
         "10.2156",
         "38.0",
         "10.2156",
         "60.3306",
         "18.6558",
         "7.6204",
         "2.276"
        ],
        [
         "2025-05-16 22:00:00+02:00",
         "17.0",
         "11.636001",
         "0.0",
         "0.0",
         "81.55646",
         "0.0",
         "962.39044",
         "12.0",
         "5.0911684",
         "278.13",
         "0.0",
         "0.0",
         "0.0",
         "0.0",
         "0.0",
         "0.0",
         "10.522766",
         "7.4395",
         "2.4074",
         "0.0",
         "0.0",
         "0.0",
         "0.0",
         "25.2294",
         "8.0429",
         "0.0",
         "0.0",
         "73.114",
         "23.6921",
         "92.0",
         "28.4589",
         "15.3892",
         "5.314",
         "354.43",
         "121.1373",
         "0.0",
         "0.0",
         "1.0",
         "0.5064",
         "0.0",
         "0.0",
         "1.0",
         "0.5064",
         "1.0",
         "0.5064",
         "14.6844",
         "5.6219",
         "7.3349",
         "2.3324"
        ],
        [
         "2025-05-16 23:00:00+02:00",
         "0.0",
         "10.736",
         "0.0",
         "0.0",
         "85.116035",
         "0.0",
         "962.60065",
         "1.0",
         "4.353619",
         "262.8751",
         "0.0",
         "0.0",
         "0.0",
         "0.0",
         "0.0",
         "0.0",
         "9.665226",
         "7.273",
         "2.3848",
         "0.0",
         "0.0",
         "0.0",
         "0.0",
         "35.2241",
         "10.912",
         "0.0",
         "0.0",
         "73.2402",
         "23.7542",
         "86.0",
         "25.8752",
         "12.9879",
         "4.267",
         "347.2227",
         "106.4087",
         "0.0",
         "0.0",
         "0.0",
         "0.0",
         "0.0",
         "0.0",
         "0.0",
         "0.0",
         "0.0",
         "0.0",
         "0.0",
         "0.0",
         "7.303",
         "2.3273"
        ],
        [
         "2025-05-17 00:00:00+02:00",
         "0.0",
         "10.436",
         "0.0",
         "0.0",
         "84.50696",
         "0.0",
         "963.0172",
         "0.0",
         "2.50064",
         "239.74365",
         "0.0",
         "0.0",
         "0.0",
         "0.0",
         "0.0",
         "0.0",
         "9.533258",
         "7.423",
         "2.3593",
         "0.0",
         "0.0",
         "0.0",
         "0.0",
         "40.4025",
         "11.894",
         "0.0",
         "0.0",
         "73.3471",
         "23.8223",
         "42.0",
         "13.1085",
         "11.1668",
         "4.0909",
         "346.4953",
         "107.8112",
         "0.0",
         "0.0",
         "0.0",
         "0.0",
         "0.0",
         "0.0",
         "0.0",
         "0.0",
         "0.0",
         "0.0",
         "0.0",
         "0.0",
         "7.1966",
         "2.2962"
        ],
        [
         "2025-05-17 01:00:00+02:00",
         "0.0",
         "9.686",
         "0.0",
         "0.0",
         "85.58414",
         "0.0",
         "962.7811",
         "0.0",
         "2.1897945",
         "189.46225",
         "0.0",
         "0.0",
         "0.0",
         "0.0",
         "0.0",
         "0.0",
         "8.692008",
         "7.2125",
         "2.3388",
         "0.0",
         "0.0",
         "0.0",
         "0.0",
         "41.4932",
         "11.7544",
         "0.0",
         "0.0",
         "73.3733",
         "23.885",
         "21.0",
         "7.8675",
         "12.569",
         "4.4117",
         "337.1663",
         "123.3343",
         "0.0",
         "0.0",
         "0.0",
         "0.0",
         "0.0",
         "0.0",
         "0.0",
         "0.0",
         "0.0",
         "0.0",
         "0.0",
         "0.0",
         "7.3655",
         "2.2721"
        ]
       ],
       "shape": {
        "columns": 49,
        "rows": 5
       }
      },
      "text/html": [
       "<div>\n",
       "<style scoped>\n",
       "    .dataframe tbody tr th:only-of-type {\n",
       "        vertical-align: middle;\n",
       "    }\n",
       "\n",
       "    .dataframe tbody tr th {\n",
       "        vertical-align: top;\n",
       "    }\n",
       "\n",
       "    .dataframe thead th {\n",
       "        text-align: right;\n",
       "    }\n",
       "</style>\n",
       "<table border=\"1\" class=\"dataframe\">\n",
       "  <thead>\n",
       "    <tr style=\"text-align: right;\">\n",
       "      <th></th>\n",
       "      <th>Solaire (MW)</th>\n",
       "      <th>temperature_2m_run_13</th>\n",
       "      <th>sunshine_duration_run_13</th>\n",
       "      <th>is_day_run_13</th>\n",
       "      <th>relative_humidity_2m_run_13</th>\n",
       "      <th>precipitation_run_13</th>\n",
       "      <th>surface_pressure_run_13</th>\n",
       "      <th>cloud_cover_run_13</th>\n",
       "      <th>wind_speed_10m_run_13</th>\n",
       "      <th>wind_direction_10m_run_13</th>\n",
       "      <th>...</th>\n",
       "      <th>direct_normal_irradiance_delta_minmax</th>\n",
       "      <th>direct_normal_irradiance_std</th>\n",
       "      <th>shortwave_radiation_delta_minmax</th>\n",
       "      <th>shortwave_radiation_std</th>\n",
       "      <th>global_tilted_irradiance_delta_minmax</th>\n",
       "      <th>global_tilted_irradiance_std</th>\n",
       "      <th>terrestrial_radiation_delta_minmax</th>\n",
       "      <th>terrestrial_radiation_std</th>\n",
       "      <th>apparent_temperature_delta_minmax</th>\n",
       "      <th>apparent_temperature_std</th>\n",
       "    </tr>\n",
       "  </thead>\n",
       "  <tbody>\n",
       "    <tr>\n",
       "      <th>2025-05-16 21:00:00+02:00</th>\n",
       "      <td>73.5</td>\n",
       "      <td>14.036000</td>\n",
       "      <td>1684.2335</td>\n",
       "      <td>1.0</td>\n",
       "      <td>73.322000</td>\n",
       "      <td>0.0</td>\n",
       "      <td>962.17224</td>\n",
       "      <td>54.0</td>\n",
       "      <td>7.059122</td>\n",
       "      <td>289.35907</td>\n",
       "      <td>...</td>\n",
       "      <td>192.6246</td>\n",
       "      <td>53.6356</td>\n",
       "      <td>38.0</td>\n",
       "      <td>10.2156</td>\n",
       "      <td>38.0</td>\n",
       "      <td>10.2156</td>\n",
       "      <td>60.3306</td>\n",
       "      <td>18.6558</td>\n",
       "      <td>7.6204</td>\n",
       "      <td>2.2760</td>\n",
       "    </tr>\n",
       "    <tr>\n",
       "      <th>2025-05-16 22:00:00+02:00</th>\n",
       "      <td>17.0</td>\n",
       "      <td>11.636001</td>\n",
       "      <td>0.0000</td>\n",
       "      <td>0.0</td>\n",
       "      <td>81.556460</td>\n",
       "      <td>0.0</td>\n",
       "      <td>962.39044</td>\n",
       "      <td>12.0</td>\n",
       "      <td>5.091168</td>\n",
       "      <td>278.13000</td>\n",
       "      <td>...</td>\n",
       "      <td>0.0000</td>\n",
       "      <td>0.0000</td>\n",
       "      <td>1.0</td>\n",
       "      <td>0.5064</td>\n",
       "      <td>1.0</td>\n",
       "      <td>0.5064</td>\n",
       "      <td>14.6844</td>\n",
       "      <td>5.6219</td>\n",
       "      <td>7.3349</td>\n",
       "      <td>2.3324</td>\n",
       "    </tr>\n",
       "    <tr>\n",
       "      <th>2025-05-16 23:00:00+02:00</th>\n",
       "      <td>0.0</td>\n",
       "      <td>10.736000</td>\n",
       "      <td>0.0000</td>\n",
       "      <td>0.0</td>\n",
       "      <td>85.116035</td>\n",
       "      <td>0.0</td>\n",
       "      <td>962.60065</td>\n",
       "      <td>1.0</td>\n",
       "      <td>4.353619</td>\n",
       "      <td>262.87510</td>\n",
       "      <td>...</td>\n",
       "      <td>0.0000</td>\n",
       "      <td>0.0000</td>\n",
       "      <td>0.0</td>\n",
       "      <td>0.0000</td>\n",
       "      <td>0.0</td>\n",
       "      <td>0.0000</td>\n",
       "      <td>0.0000</td>\n",
       "      <td>0.0000</td>\n",
       "      <td>7.3030</td>\n",
       "      <td>2.3273</td>\n",
       "    </tr>\n",
       "    <tr>\n",
       "      <th>2025-05-17 00:00:00+02:00</th>\n",
       "      <td>0.0</td>\n",
       "      <td>10.436000</td>\n",
       "      <td>0.0000</td>\n",
       "      <td>0.0</td>\n",
       "      <td>84.506960</td>\n",
       "      <td>0.0</td>\n",
       "      <td>963.01720</td>\n",
       "      <td>0.0</td>\n",
       "      <td>2.500640</td>\n",
       "      <td>239.74365</td>\n",
       "      <td>...</td>\n",
       "      <td>0.0000</td>\n",
       "      <td>0.0000</td>\n",
       "      <td>0.0</td>\n",
       "      <td>0.0000</td>\n",
       "      <td>0.0</td>\n",
       "      <td>0.0000</td>\n",
       "      <td>0.0000</td>\n",
       "      <td>0.0000</td>\n",
       "      <td>7.1966</td>\n",
       "      <td>2.2962</td>\n",
       "    </tr>\n",
       "    <tr>\n",
       "      <th>2025-05-17 01:00:00+02:00</th>\n",
       "      <td>0.0</td>\n",
       "      <td>9.686000</td>\n",
       "      <td>0.0000</td>\n",
       "      <td>0.0</td>\n",
       "      <td>85.584140</td>\n",
       "      <td>0.0</td>\n",
       "      <td>962.78110</td>\n",
       "      <td>0.0</td>\n",
       "      <td>2.189795</td>\n",
       "      <td>189.46225</td>\n",
       "      <td>...</td>\n",
       "      <td>0.0000</td>\n",
       "      <td>0.0000</td>\n",
       "      <td>0.0</td>\n",
       "      <td>0.0000</td>\n",
       "      <td>0.0</td>\n",
       "      <td>0.0000</td>\n",
       "      <td>0.0000</td>\n",
       "      <td>0.0000</td>\n",
       "      <td>7.3655</td>\n",
       "      <td>2.2721</td>\n",
       "    </tr>\n",
       "  </tbody>\n",
       "</table>\n",
       "<p>5 rows × 49 columns</p>\n",
       "</div>"
      ],
      "text/plain": [
       "                           Solaire (MW)  temperature_2m_run_13  \\\n",
       "2025-05-16 21:00:00+02:00          73.5              14.036000   \n",
       "2025-05-16 22:00:00+02:00          17.0              11.636001   \n",
       "2025-05-16 23:00:00+02:00           0.0              10.736000   \n",
       "2025-05-17 00:00:00+02:00           0.0              10.436000   \n",
       "2025-05-17 01:00:00+02:00           0.0               9.686000   \n",
       "\n",
       "                           sunshine_duration_run_13  is_day_run_13  \\\n",
       "2025-05-16 21:00:00+02:00                 1684.2335            1.0   \n",
       "2025-05-16 22:00:00+02:00                    0.0000            0.0   \n",
       "2025-05-16 23:00:00+02:00                    0.0000            0.0   \n",
       "2025-05-17 00:00:00+02:00                    0.0000            0.0   \n",
       "2025-05-17 01:00:00+02:00                    0.0000            0.0   \n",
       "\n",
       "                           relative_humidity_2m_run_13  precipitation_run_13  \\\n",
       "2025-05-16 21:00:00+02:00                    73.322000                   0.0   \n",
       "2025-05-16 22:00:00+02:00                    81.556460                   0.0   \n",
       "2025-05-16 23:00:00+02:00                    85.116035                   0.0   \n",
       "2025-05-17 00:00:00+02:00                    84.506960                   0.0   \n",
       "2025-05-17 01:00:00+02:00                    85.584140                   0.0   \n",
       "\n",
       "                           surface_pressure_run_13  cloud_cover_run_13  \\\n",
       "2025-05-16 21:00:00+02:00                962.17224                54.0   \n",
       "2025-05-16 22:00:00+02:00                962.39044                12.0   \n",
       "2025-05-16 23:00:00+02:00                962.60065                 1.0   \n",
       "2025-05-17 00:00:00+02:00                963.01720                 0.0   \n",
       "2025-05-17 01:00:00+02:00                962.78110                 0.0   \n",
       "\n",
       "                           wind_speed_10m_run_13  wind_direction_10m_run_13  \\\n",
       "2025-05-16 21:00:00+02:00               7.059122                  289.35907   \n",
       "2025-05-16 22:00:00+02:00               5.091168                  278.13000   \n",
       "2025-05-16 23:00:00+02:00               4.353619                  262.87510   \n",
       "2025-05-17 00:00:00+02:00               2.500640                  239.74365   \n",
       "2025-05-17 01:00:00+02:00               2.189795                  189.46225   \n",
       "\n",
       "                           ...  direct_normal_irradiance_delta_minmax  \\\n",
       "2025-05-16 21:00:00+02:00  ...                               192.6246   \n",
       "2025-05-16 22:00:00+02:00  ...                                 0.0000   \n",
       "2025-05-16 23:00:00+02:00  ...                                 0.0000   \n",
       "2025-05-17 00:00:00+02:00  ...                                 0.0000   \n",
       "2025-05-17 01:00:00+02:00  ...                                 0.0000   \n",
       "\n",
       "                           direct_normal_irradiance_std  \\\n",
       "2025-05-16 21:00:00+02:00                       53.6356   \n",
       "2025-05-16 22:00:00+02:00                        0.0000   \n",
       "2025-05-16 23:00:00+02:00                        0.0000   \n",
       "2025-05-17 00:00:00+02:00                        0.0000   \n",
       "2025-05-17 01:00:00+02:00                        0.0000   \n",
       "\n",
       "                           shortwave_radiation_delta_minmax  \\\n",
       "2025-05-16 21:00:00+02:00                              38.0   \n",
       "2025-05-16 22:00:00+02:00                               1.0   \n",
       "2025-05-16 23:00:00+02:00                               0.0   \n",
       "2025-05-17 00:00:00+02:00                               0.0   \n",
       "2025-05-17 01:00:00+02:00                               0.0   \n",
       "\n",
       "                           shortwave_radiation_std  \\\n",
       "2025-05-16 21:00:00+02:00                  10.2156   \n",
       "2025-05-16 22:00:00+02:00                   0.5064   \n",
       "2025-05-16 23:00:00+02:00                   0.0000   \n",
       "2025-05-17 00:00:00+02:00                   0.0000   \n",
       "2025-05-17 01:00:00+02:00                   0.0000   \n",
       "\n",
       "                           global_tilted_irradiance_delta_minmax  \\\n",
       "2025-05-16 21:00:00+02:00                                   38.0   \n",
       "2025-05-16 22:00:00+02:00                                    1.0   \n",
       "2025-05-16 23:00:00+02:00                                    0.0   \n",
       "2025-05-17 00:00:00+02:00                                    0.0   \n",
       "2025-05-17 01:00:00+02:00                                    0.0   \n",
       "\n",
       "                           global_tilted_irradiance_std  \\\n",
       "2025-05-16 21:00:00+02:00                       10.2156   \n",
       "2025-05-16 22:00:00+02:00                        0.5064   \n",
       "2025-05-16 23:00:00+02:00                        0.0000   \n",
       "2025-05-17 00:00:00+02:00                        0.0000   \n",
       "2025-05-17 01:00:00+02:00                        0.0000   \n",
       "\n",
       "                           terrestrial_radiation_delta_minmax  \\\n",
       "2025-05-16 21:00:00+02:00                             60.3306   \n",
       "2025-05-16 22:00:00+02:00                             14.6844   \n",
       "2025-05-16 23:00:00+02:00                              0.0000   \n",
       "2025-05-17 00:00:00+02:00                              0.0000   \n",
       "2025-05-17 01:00:00+02:00                              0.0000   \n",
       "\n",
       "                           terrestrial_radiation_std  \\\n",
       "2025-05-16 21:00:00+02:00                    18.6558   \n",
       "2025-05-16 22:00:00+02:00                     5.6219   \n",
       "2025-05-16 23:00:00+02:00                     0.0000   \n",
       "2025-05-17 00:00:00+02:00                     0.0000   \n",
       "2025-05-17 01:00:00+02:00                     0.0000   \n",
       "\n",
       "                           apparent_temperature_delta_minmax  \\\n",
       "2025-05-16 21:00:00+02:00                             7.6204   \n",
       "2025-05-16 22:00:00+02:00                             7.3349   \n",
       "2025-05-16 23:00:00+02:00                             7.3030   \n",
       "2025-05-17 00:00:00+02:00                             7.1966   \n",
       "2025-05-17 01:00:00+02:00                             7.3655   \n",
       "\n",
       "                           apparent_temperature_std  \n",
       "2025-05-16 21:00:00+02:00                    2.2760  \n",
       "2025-05-16 22:00:00+02:00                    2.3324  \n",
       "2025-05-16 23:00:00+02:00                    2.3273  \n",
       "2025-05-17 00:00:00+02:00                    2.2962  \n",
       "2025-05-17 01:00:00+02:00                    2.2721  \n",
       "\n",
       "[5 rows x 49 columns]"
      ]
     },
     "metadata": {},
     "output_type": "display_data"
    }
   ],
   "source": [
    "inspect_dataframe(df)"
   ]
  },
  {
   "cell_type": "markdown",
   "id": "4c7dedf3",
   "metadata": {},
   "source": [
    "**Insights :**\n",
    "\n",
    "- **Le dataset contient 20 064 records et 49 features (48 imputs et 1 output)**\n",
    "- Toutes les colonnes sont des flottantes, alors que la **colonne is_day devrait être un booléen.**"
   ]
  },
  {
   "cell_type": "code",
   "execution_count": 6,
   "id": "cd6ed12e",
   "metadata": {},
   "outputs": [
    {
     "data": {
      "application/vnd.microsoft.datawrangler.viewer.v0+json": {
       "columns": [
        {
         "name": "index",
         "rawType": "object",
         "type": "string"
        },
        {
         "name": "0",
         "rawType": "int64",
         "type": "integer"
        }
       ],
       "ref": "f0847298-083f-4b29-94e8-b2b7812a20dd",
       "rows": [
        [
         "Solaire (MW)",
         "2"
        ],
        [
         "temperature_2m_run_13",
         "0"
        ],
        [
         "sunshine_duration_run_13",
         "0"
        ],
        [
         "is_day_run_13",
         "0"
        ],
        [
         "relative_humidity_2m_run_13",
         "0"
        ],
        [
         "precipitation_run_13",
         "0"
        ],
        [
         "surface_pressure_run_13",
         "0"
        ],
        [
         "cloud_cover_run_13",
         "0"
        ],
        [
         "wind_speed_10m_run_13",
         "0"
        ],
        [
         "wind_direction_10m_run_13",
         "0"
        ],
        [
         "direct_radiation_run_13",
         "0"
        ],
        [
         "diffuse_radiation_run_13",
         "0"
        ],
        [
         "direct_normal_irradiance_run_13",
         "0"
        ],
        [
         "shortwave_radiation_run_13",
         "0"
        ],
        [
         "global_tilted_irradiance_run_13",
         "0"
        ],
        [
         "terrestrial_radiation_run_13",
         "0"
        ],
        [
         "apparent_temperature_run_13",
         "0"
        ],
        [
         "temperature_2m_delta_minmax",
         "0"
        ],
        [
         "temperature_2m_std",
         "0"
        ],
        [
         "sunshine_duration_delta_minmax",
         "0"
        ],
        [
         "sunshine_duration_std",
         "0"
        ],
        [
         "is_day_delta_minmax",
         "0"
        ],
        [
         "is_day_std",
         "0"
        ],
        [
         "relative_humidity_2m_delta_minmax",
         "0"
        ],
        [
         "relative_humidity_2m_std",
         "0"
        ],
        [
         "precipitation_delta_minmax",
         "0"
        ],
        [
         "precipitation_std",
         "0"
        ],
        [
         "surface_pressure_delta_minmax",
         "0"
        ],
        [
         "surface_pressure_std",
         "0"
        ],
        [
         "cloud_cover_delta_minmax",
         "0"
        ],
        [
         "cloud_cover_std",
         "0"
        ],
        [
         "wind_speed_10m_delta_minmax",
         "0"
        ],
        [
         "wind_speed_10m_std",
         "0"
        ],
        [
         "wind_direction_10m_delta_minmax",
         "0"
        ],
        [
         "wind_direction_10m_std",
         "0"
        ],
        [
         "direct_radiation_delta_minmax",
         "0"
        ],
        [
         "direct_radiation_std",
         "0"
        ],
        [
         "diffuse_radiation_delta_minmax",
         "0"
        ],
        [
         "diffuse_radiation_std",
         "0"
        ],
        [
         "direct_normal_irradiance_delta_minmax",
         "0"
        ],
        [
         "direct_normal_irradiance_std",
         "0"
        ],
        [
         "shortwave_radiation_delta_minmax",
         "0"
        ],
        [
         "shortwave_radiation_std",
         "0"
        ],
        [
         "global_tilted_irradiance_delta_minmax",
         "0"
        ],
        [
         "global_tilted_irradiance_std",
         "0"
        ],
        [
         "terrestrial_radiation_delta_minmax",
         "0"
        ],
        [
         "terrestrial_radiation_std",
         "0"
        ],
        [
         "apparent_temperature_delta_minmax",
         "0"
        ],
        [
         "apparent_temperature_std",
         "0"
        ]
       ],
       "shape": {
        "columns": 1,
        "rows": 49
       }
      },
      "text/plain": [
       "Solaire (MW)                             2\n",
       "temperature_2m_run_13                    0\n",
       "sunshine_duration_run_13                 0\n",
       "is_day_run_13                            0\n",
       "relative_humidity_2m_run_13              0\n",
       "precipitation_run_13                     0\n",
       "surface_pressure_run_13                  0\n",
       "cloud_cover_run_13                       0\n",
       "wind_speed_10m_run_13                    0\n",
       "wind_direction_10m_run_13                0\n",
       "direct_radiation_run_13                  0\n",
       "diffuse_radiation_run_13                 0\n",
       "direct_normal_irradiance_run_13          0\n",
       "shortwave_radiation_run_13               0\n",
       "global_tilted_irradiance_run_13          0\n",
       "terrestrial_radiation_run_13             0\n",
       "apparent_temperature_run_13              0\n",
       "temperature_2m_delta_minmax              0\n",
       "temperature_2m_std                       0\n",
       "sunshine_duration_delta_minmax           0\n",
       "sunshine_duration_std                    0\n",
       "is_day_delta_minmax                      0\n",
       "is_day_std                               0\n",
       "relative_humidity_2m_delta_minmax        0\n",
       "relative_humidity_2m_std                 0\n",
       "precipitation_delta_minmax               0\n",
       "precipitation_std                        0\n",
       "surface_pressure_delta_minmax            0\n",
       "surface_pressure_std                     0\n",
       "cloud_cover_delta_minmax                 0\n",
       "cloud_cover_std                          0\n",
       "wind_speed_10m_delta_minmax              0\n",
       "wind_speed_10m_std                       0\n",
       "wind_direction_10m_delta_minmax          0\n",
       "wind_direction_10m_std                   0\n",
       "direct_radiation_delta_minmax            0\n",
       "direct_radiation_std                     0\n",
       "diffuse_radiation_delta_minmax           0\n",
       "diffuse_radiation_std                    0\n",
       "direct_normal_irradiance_delta_minmax    0\n",
       "direct_normal_irradiance_std             0\n",
       "shortwave_radiation_delta_minmax         0\n",
       "shortwave_radiation_std                  0\n",
       "global_tilted_irradiance_delta_minmax    0\n",
       "global_tilted_irradiance_std             0\n",
       "terrestrial_radiation_delta_minmax       0\n",
       "terrestrial_radiation_std                0\n",
       "apparent_temperature_delta_minmax        0\n",
       "apparent_temperature_std                 0\n",
       "dtype: int64"
      ]
     },
     "execution_count": 6,
     "metadata": {},
     "output_type": "execute_result"
    }
   ],
   "source": [
    "df.isna().sum()"
   ]
  },
  {
   "cell_type": "markdown",
   "id": "873c0303",
   "metadata": {},
   "source": [
    "Le dataset contient 2 valeurs manquantes sur la colonne output."
   ]
  },
  {
   "cell_type": "code",
   "execution_count": 7,
   "id": "a070fd4f",
   "metadata": {},
   "outputs": [
    {
     "name": "stdout",
     "output_type": "stream",
     "text": [
      "                           Solaire (MW)  temperature_2m_run_13  \\\n",
      "2023-10-29 02:00:00+02:00           NaN                 12.686   \n",
      "2024-10-27 02:00:00+02:00           NaN                 10.836   \n",
      "\n",
      "                           sunshine_duration_run_13  is_day_run_13  \\\n",
      "2023-10-29 02:00:00+02:00                       0.0            0.0   \n",
      "2024-10-27 02:00:00+02:00                       0.0            0.0   \n",
      "\n",
      "                           relative_humidity_2m_run_13  precipitation_run_13  \\\n",
      "2023-10-29 02:00:00+02:00                     66.40961                   0.0   \n",
      "2024-10-27 02:00:00+02:00                     98.35062                   0.3   \n",
      "\n",
      "                           surface_pressure_run_13  cloud_cover_run_13  \\\n",
      "2023-10-29 02:00:00+02:00                 949.9066                89.0   \n",
      "2024-10-27 02:00:00+02:00                 961.2005               100.0   \n",
      "\n",
      "                           wind_speed_10m_run_13  wind_direction_10m_run_13  \\\n",
      "2023-10-29 02:00:00+02:00              18.079027                  125.27251   \n",
      "2024-10-27 02:00:00+02:00               5.081613                  292.93213   \n",
      "\n",
      "                           ...  direct_normal_irradiance_delta_minmax  \\\n",
      "2023-10-29 02:00:00+02:00  ...                                    0.0   \n",
      "2024-10-27 02:00:00+02:00  ...                                    0.0   \n",
      "\n",
      "                           direct_normal_irradiance_std  \\\n",
      "2023-10-29 02:00:00+02:00                           0.0   \n",
      "2024-10-27 02:00:00+02:00                           0.0   \n",
      "\n",
      "                           shortwave_radiation_delta_minmax  \\\n",
      "2023-10-29 02:00:00+02:00                               0.0   \n",
      "2024-10-27 02:00:00+02:00                               0.0   \n",
      "\n",
      "                           shortwave_radiation_std  \\\n",
      "2023-10-29 02:00:00+02:00                      0.0   \n",
      "2024-10-27 02:00:00+02:00                      0.0   \n",
      "\n",
      "                           global_tilted_irradiance_delta_minmax  \\\n",
      "2023-10-29 02:00:00+02:00                                    0.0   \n",
      "2024-10-27 02:00:00+02:00                                    0.0   \n",
      "\n",
      "                           global_tilted_irradiance_std  \\\n",
      "2023-10-29 02:00:00+02:00                           0.0   \n",
      "2024-10-27 02:00:00+02:00                           0.0   \n",
      "\n",
      "                           terrestrial_radiation_delta_minmax  \\\n",
      "2023-10-29 02:00:00+02:00                                 0.0   \n",
      "2024-10-27 02:00:00+02:00                                 0.0   \n",
      "\n",
      "                           terrestrial_radiation_std  \\\n",
      "2023-10-29 02:00:00+02:00                        0.0   \n",
      "2024-10-27 02:00:00+02:00                        0.0   \n",
      "\n",
      "                           apparent_temperature_delta_minmax  \\\n",
      "2023-10-29 02:00:00+02:00                             8.9536   \n",
      "2024-10-27 02:00:00+02:00                             6.2946   \n",
      "\n",
      "                           apparent_temperature_std  \n",
      "2023-10-29 02:00:00+02:00                    2.1425  \n",
      "2024-10-27 02:00:00+02:00                    1.7518  \n",
      "\n",
      "[2 rows x 49 columns]\n"
     ]
    }
   ],
   "source": [
    "nan_values = df[df[\"Solaire (MW)\"].isna()]\n",
    "print(nan_values.head())"
   ]
  },
  {
   "cell_type": "markdown",
   "id": "ba002aff",
   "metadata": {},
   "source": [
    "Ces valeurs manquantes semblent être isolées, de plus les mesures sont de nuit, ce qui implique une production d'énergie nulle.\n",
    "\n",
    "Propositions : \n",
    "- Imputation de la valeur à 0 ;\n",
    "- Délétions simples des lignes."
   ]
  },
  {
   "cell_type": "code",
   "execution_count": 8,
   "id": "45996c4d",
   "metadata": {},
   "outputs": [
    {
     "data": {
      "application/vnd.microsoft.datawrangler.viewer.v0+json": {
       "columns": [
        {
         "name": "index",
         "rawType": "object",
         "type": "string"
        },
        {
         "name": "Solaire (MW)",
         "rawType": "float64",
         "type": "float"
        },
        {
         "name": "temperature_2m_run_13",
         "rawType": "float64",
         "type": "float"
        },
        {
         "name": "sunshine_duration_run_13",
         "rawType": "float64",
         "type": "float"
        },
        {
         "name": "is_day_run_13",
         "rawType": "float64",
         "type": "float"
        },
        {
         "name": "relative_humidity_2m_run_13",
         "rawType": "float64",
         "type": "float"
        },
        {
         "name": "precipitation_run_13",
         "rawType": "float64",
         "type": "float"
        },
        {
         "name": "surface_pressure_run_13",
         "rawType": "float64",
         "type": "float"
        },
        {
         "name": "cloud_cover_run_13",
         "rawType": "float64",
         "type": "float"
        },
        {
         "name": "wind_speed_10m_run_13",
         "rawType": "float64",
         "type": "float"
        },
        {
         "name": "wind_direction_10m_run_13",
         "rawType": "float64",
         "type": "float"
        },
        {
         "name": "direct_radiation_run_13",
         "rawType": "float64",
         "type": "float"
        },
        {
         "name": "diffuse_radiation_run_13",
         "rawType": "float64",
         "type": "float"
        },
        {
         "name": "direct_normal_irradiance_run_13",
         "rawType": "float64",
         "type": "float"
        },
        {
         "name": "shortwave_radiation_run_13",
         "rawType": "float64",
         "type": "float"
        },
        {
         "name": "global_tilted_irradiance_run_13",
         "rawType": "float64",
         "type": "float"
        },
        {
         "name": "terrestrial_radiation_run_13",
         "rawType": "float64",
         "type": "float"
        },
        {
         "name": "apparent_temperature_run_13",
         "rawType": "float64",
         "type": "float"
        },
        {
         "name": "temperature_2m_delta_minmax",
         "rawType": "float64",
         "type": "float"
        },
        {
         "name": "temperature_2m_std",
         "rawType": "float64",
         "type": "float"
        },
        {
         "name": "sunshine_duration_delta_minmax",
         "rawType": "float64",
         "type": "float"
        },
        {
         "name": "sunshine_duration_std",
         "rawType": "float64",
         "type": "float"
        },
        {
         "name": "is_day_delta_minmax",
         "rawType": "float64",
         "type": "float"
        },
        {
         "name": "is_day_std",
         "rawType": "float64",
         "type": "float"
        },
        {
         "name": "relative_humidity_2m_delta_minmax",
         "rawType": "float64",
         "type": "float"
        },
        {
         "name": "relative_humidity_2m_std",
         "rawType": "float64",
         "type": "float"
        },
        {
         "name": "precipitation_delta_minmax",
         "rawType": "float64",
         "type": "float"
        },
        {
         "name": "precipitation_std",
         "rawType": "float64",
         "type": "float"
        },
        {
         "name": "surface_pressure_delta_minmax",
         "rawType": "float64",
         "type": "float"
        },
        {
         "name": "surface_pressure_std",
         "rawType": "float64",
         "type": "float"
        },
        {
         "name": "cloud_cover_delta_minmax",
         "rawType": "float64",
         "type": "float"
        },
        {
         "name": "cloud_cover_std",
         "rawType": "float64",
         "type": "float"
        },
        {
         "name": "wind_speed_10m_delta_minmax",
         "rawType": "float64",
         "type": "float"
        },
        {
         "name": "wind_speed_10m_std",
         "rawType": "float64",
         "type": "float"
        },
        {
         "name": "wind_direction_10m_delta_minmax",
         "rawType": "float64",
         "type": "float"
        },
        {
         "name": "wind_direction_10m_std",
         "rawType": "float64",
         "type": "float"
        },
        {
         "name": "direct_radiation_delta_minmax",
         "rawType": "float64",
         "type": "float"
        },
        {
         "name": "direct_radiation_std",
         "rawType": "float64",
         "type": "float"
        },
        {
         "name": "diffuse_radiation_delta_minmax",
         "rawType": "float64",
         "type": "float"
        },
        {
         "name": "diffuse_radiation_std",
         "rawType": "float64",
         "type": "float"
        },
        {
         "name": "direct_normal_irradiance_delta_minmax",
         "rawType": "float64",
         "type": "float"
        },
        {
         "name": "direct_normal_irradiance_std",
         "rawType": "float64",
         "type": "float"
        },
        {
         "name": "shortwave_radiation_delta_minmax",
         "rawType": "float64",
         "type": "float"
        },
        {
         "name": "shortwave_radiation_std",
         "rawType": "float64",
         "type": "float"
        },
        {
         "name": "global_tilted_irradiance_delta_minmax",
         "rawType": "float64",
         "type": "float"
        },
        {
         "name": "global_tilted_irradiance_std",
         "rawType": "float64",
         "type": "float"
        },
        {
         "name": "terrestrial_radiation_delta_minmax",
         "rawType": "float64",
         "type": "float"
        },
        {
         "name": "terrestrial_radiation_std",
         "rawType": "float64",
         "type": "float"
        },
        {
         "name": "apparent_temperature_delta_minmax",
         "rawType": "float64",
         "type": "float"
        },
        {
         "name": "apparent_temperature_std",
         "rawType": "float64",
         "type": "float"
        }
       ],
       "ref": "b781c947-3dd8-49d2-9133-c977ac7f98db",
       "rows": [
        [
         "count",
         "20062.0",
         "20064.0",
         "20064.0",
         "20064.0",
         "20064.0",
         "20064.0",
         "20064.0",
         "20064.0",
         "20064.0",
         "20064.0",
         "20064.0",
         "20064.0",
         "20064.0",
         "20064.0",
         "20064.0",
         "20064.0",
         "20064.0",
         "20064.0",
         "20064.0",
         "20064.0",
         "20064.0",
         "20064.0",
         "20064.0",
         "20064.0",
         "20064.0",
         "20064.0",
         "20064.0",
         "20064.0",
         "20064.0",
         "20064.0",
         "20064.0",
         "20064.0",
         "20064.0",
         "20064.0",
         "20064.0",
         "20064.0",
         "20064.0",
         "20064.0",
         "20064.0",
         "20064.0",
         "20064.0",
         "20064.0",
         "20064.0",
         "20064.0",
         "20064.0",
         "20064.0",
         "20064.0",
         "20064.0",
         "20064.0"
        ],
        [
         "mean",
         "563.1201774499053",
         "12.252552015448714",
         "1143.6984296280036",
         "0.5088716108452951",
         "78.83500757849882",
         "0.16285885167464112",
         "962.9208456294857",
         "65.36996610845296",
         "13.681230667520436",
         "203.87109656793263",
         "97.84738835725678",
         "59.61712519936204",
         "176.3230477801585",
         "157.4645135566188",
         "157.46451357576257",
         "317.3152253103479",
         "10.122850918488991",
         "6.98688250099681",
         "2.0785648076156296",
         "1035.7186203598485",
         "397.7078870713716",
         "0.019487639553429026",
         "0.007717005582137161",
         "33.22735160486444",
         "10.152189000199362",
         "0.6206638755980861",
         "0.18712053429027115",
         "73.05719663576556",
         "23.799736757376397",
         "66.10316985645933",
         "23.525318725079746",
         "16.871530263157897",
         "5.029018804824561",
         "229.46488601973684",
         "70.3436316686603",
         "117.30268141945774",
         "38.40696709529506",
         "46.92444178628389",
         "14.700443256578946",
         "222.67568930921055",
         "73.22149095893144",
         "104.48340311004785",
         "33.0337819726874",
         "104.48340316487241",
         "33.03378186303828",
         "25.738320225279107",
         "7.701765540271131",
         "7.687682600677832",
         "2.2395851076555022"
        ],
        [
         "std",
         "772.6785140907236",
         "6.834711089984883",
         "1620.4057256201663",
         "0.4999337469573579",
         "16.914763769257096",
         "0.5332414364621577",
         "7.243450361663104",
         "41.154791082777464",
         "9.098998449324718",
         "91.17520958266687",
         "182.94532137971623",
         "83.41454956116102",
         "280.13905055239053",
         "236.0398609692723",
         "236.0398609610018",
         "396.28497575464434",
         "8.27340254367798",
         "1.8248158064297875",
         "0.5312944116464188",
         "1536.8722952811006",
         "619.595269603409",
         "0.13823466949934923",
         "0.05630461019425315",
         "11.313581269778476",
         "3.5193704301530375",
         "1.3710250007814917",
         "0.4076931426838858",
         "2.683151310285418",
         "0.7244275524818647",
         "35.626525043384646",
         "14.02494928262535",
         "6.520848805955426",
         "1.9758995556216772",
         "103.50272605981752",
         "36.43525224152379",
         "176.73266639016813",
         "59.35047525459073",
         "67.3890275743752",
         "21.586345832800205",
         "277.68729320195973",
         "94.56834493315174",
         "152.78001950655414",
         "49.374714280141504",
         "152.78001950356506",
         "49.37471431651509",
         "26.074958872656932",
         "7.712627955734779",
         "2.054109451789759",
         "0.5696924059479074"
        ],
        [
         "min",
         "0.0",
         "-4.8640003",
         "0.0",
         "0.0",
         "20.366566",
         "0.0",
         "928.6973",
         "0.0",
         "0.0",
         "2.2025495",
         "0.0",
         "0.0",
         "0.0",
         "0.0",
         "0.0",
         "0.0",
         "-9.233213",
         "1.841",
         "0.5701",
         "0.0",
         "0.0",
         "0.0",
         "0.0",
         "4.3325",
         "1.2831",
         "0.0",
         "0.0",
         "63.8686",
         "21.0771",
         "0.0",
         "0.0",
         "3.306",
         "1.0054",
         "16.2966",
         "5.593",
         "0.0",
         "0.0",
         "0.0",
         "0.0",
         "0.0",
         "0.0",
         "0.0",
         "0.0",
         "0.0",
         "0.0",
         "0.0",
         "0.0",
         "2.2663",
         "0.6863"
        ],
        [
         "25%",
         "0.0",
         "7.2860003",
         "0.0",
         "0.0",
         "66.96532",
         "0.0",
         "959.7078",
         "19.0",
         "6.1437774",
         "119.32541625",
         "0.0",
         "0.0",
         "0.0",
         "0.0",
         "0.0",
         "0.0",
         "3.85481665",
         "5.723",
         "1.707575",
         "0.0",
         "0.0",
         "0.0",
         "0.0",
         "25.4825",
         "7.695600000000001",
         "0.0",
         "0.0",
         "71.2133",
         "23.3069",
         "37.0",
         "11.27955",
         "12.32195",
         "3.636",
         "125.82852500000001",
         "35.985175",
         "0.0",
         "0.0",
         "0.0",
         "0.0",
         "0.0",
         "0.0",
         "0.0",
         "0.0",
         "0.0",
         "0.0",
         "0.0",
         "0.0",
         "6.2208",
         "1.8500750000000001"
        ],
        [
         "50%",
         "79.5",
         "11.586",
         "0.0",
         "1.0",
         "82.37602",
         "0.0",
         "963.193125",
         "94.0",
         "12.2201305",
         "239.03632",
         "0.0",
         "6.0",
         "0.0",
         "6.0",
         "6.000001",
         "51.7466185",
         "9.177738000000002",
         "6.842",
         "2.0364500000000003",
         "0.0",
         "0.0",
         "0.0",
         "0.0",
         "32.409400000000005",
         "9.9369",
         "0.1",
         "0.0277",
         "73.1114",
         "23.881149999999998",
         "81.0",
         "26.587400000000002",
         "16.07195",
         "4.75965",
         "259.50855",
         "72.9351",
         "4.0",
         "1.281",
         "8.0",
         "2.3616",
         "42.261449999999996",
         "13.0908",
         "12.0",
         "3.7859499999999997",
         "12.0",
         "3.7859499999999997",
         "25.082",
         "7.93525",
         "7.46105",
         "2.1758"
        ],
        [
         "75%",
         "1034.1875",
         "16.886",
         "3600.0",
         "1.0",
         "93.15162749999999",
         "0.1",
         "966.8379",
         "100.0",
         "19.386593",
         "290.85452",
         "105.0",
         "102.0",
         "289.065005",
         "258.0",
         "258.0",
         "624.8826325",
         "15.788871499999999",
         "8.0625",
         "2.390425",
         "2840.584",
         "899.956925",
         "0.0",
         "0.0",
         "40.02545",
         "12.271825",
         "0.6",
         "0.167775",
         "74.91885",
         "24.315625",
         "98.0",
         "34.948175",
         "20.24555",
         "6.051875",
         "324.62065",
         "96.956375",
         "195.0",
         "61.660975",
         "80.0",
         "24.576475000000002",
         "467.41607500000003",
         "145.92595",
         "174.0",
         "53.50625",
         "174.0",
         "53.506275",
         "48.543075",
         "14.97115",
         "8.8762",
         "2.5512"
        ],
        [
         "max",
         "3380.75",
         "36.486",
         "3600.0",
         "1.0",
         "100.0",
         "13.6",
         "984.05927",
         "100.0",
         "52.68222",
         "360.0",
         "842.0",
         "444.0",
         "962.02057",
         "970.0",
         "970.0",
         "1237.1584",
         "38.985317",
         "18.0565",
         "5.2859",
         "3600.0",
         "1867.9484",
         "1.0",
         "0.5189",
         "81.4439",
         "26.6681",
         "23.9",
         "6.6149",
         "81.9431",
         "25.9161",
         "100.0",
         "51.5277",
         "52.3744",
         "16.42",
         "359.326",
         "168.5247",
         "817.0",
         "317.6254",
         "345.0",
         "120.3444",
         "963.6752",
         "386.6238",
         "787.0",
         "277.2046",
         "787.0",
         "277.2046",
         "74.5886",
         "21.1266",
         "18.8351",
         "5.2169"
        ]
       ],
       "shape": {
        "columns": 49,
        "rows": 8
       }
      },
      "text/html": [
       "<div>\n",
       "<style scoped>\n",
       "    .dataframe tbody tr th:only-of-type {\n",
       "        vertical-align: middle;\n",
       "    }\n",
       "\n",
       "    .dataframe tbody tr th {\n",
       "        vertical-align: top;\n",
       "    }\n",
       "\n",
       "    .dataframe thead th {\n",
       "        text-align: right;\n",
       "    }\n",
       "</style>\n",
       "<table border=\"1\" class=\"dataframe\">\n",
       "  <thead>\n",
       "    <tr style=\"text-align: right;\">\n",
       "      <th></th>\n",
       "      <th>Solaire (MW)</th>\n",
       "      <th>temperature_2m_run_13</th>\n",
       "      <th>sunshine_duration_run_13</th>\n",
       "      <th>is_day_run_13</th>\n",
       "      <th>relative_humidity_2m_run_13</th>\n",
       "      <th>precipitation_run_13</th>\n",
       "      <th>surface_pressure_run_13</th>\n",
       "      <th>cloud_cover_run_13</th>\n",
       "      <th>wind_speed_10m_run_13</th>\n",
       "      <th>wind_direction_10m_run_13</th>\n",
       "      <th>...</th>\n",
       "      <th>direct_normal_irradiance_delta_minmax</th>\n",
       "      <th>direct_normal_irradiance_std</th>\n",
       "      <th>shortwave_radiation_delta_minmax</th>\n",
       "      <th>shortwave_radiation_std</th>\n",
       "      <th>global_tilted_irradiance_delta_minmax</th>\n",
       "      <th>global_tilted_irradiance_std</th>\n",
       "      <th>terrestrial_radiation_delta_minmax</th>\n",
       "      <th>terrestrial_radiation_std</th>\n",
       "      <th>apparent_temperature_delta_minmax</th>\n",
       "      <th>apparent_temperature_std</th>\n",
       "    </tr>\n",
       "  </thead>\n",
       "  <tbody>\n",
       "    <tr>\n",
       "      <th>count</th>\n",
       "      <td>20062.000000</td>\n",
       "      <td>20064.000000</td>\n",
       "      <td>20064.000000</td>\n",
       "      <td>20064.000000</td>\n",
       "      <td>20064.000000</td>\n",
       "      <td>20064.000000</td>\n",
       "      <td>20064.000000</td>\n",
       "      <td>20064.000000</td>\n",
       "      <td>20064.000000</td>\n",
       "      <td>20064.000000</td>\n",
       "      <td>...</td>\n",
       "      <td>20064.000000</td>\n",
       "      <td>20064.000000</td>\n",
       "      <td>20064.000000</td>\n",
       "      <td>20064.000000</td>\n",
       "      <td>20064.000000</td>\n",
       "      <td>20064.000000</td>\n",
       "      <td>20064.000000</td>\n",
       "      <td>20064.000000</td>\n",
       "      <td>20064.000000</td>\n",
       "      <td>20064.000000</td>\n",
       "    </tr>\n",
       "    <tr>\n",
       "      <th>mean</th>\n",
       "      <td>563.120177</td>\n",
       "      <td>12.252552</td>\n",
       "      <td>1143.698430</td>\n",
       "      <td>0.508872</td>\n",
       "      <td>78.835008</td>\n",
       "      <td>0.162859</td>\n",
       "      <td>962.920846</td>\n",
       "      <td>65.369966</td>\n",
       "      <td>13.681231</td>\n",
       "      <td>203.871097</td>\n",
       "      <td>...</td>\n",
       "      <td>222.675689</td>\n",
       "      <td>73.221491</td>\n",
       "      <td>104.483403</td>\n",
       "      <td>33.033782</td>\n",
       "      <td>104.483403</td>\n",
       "      <td>33.033782</td>\n",
       "      <td>25.738320</td>\n",
       "      <td>7.701766</td>\n",
       "      <td>7.687683</td>\n",
       "      <td>2.239585</td>\n",
       "    </tr>\n",
       "    <tr>\n",
       "      <th>std</th>\n",
       "      <td>772.678514</td>\n",
       "      <td>6.834711</td>\n",
       "      <td>1620.405726</td>\n",
       "      <td>0.499934</td>\n",
       "      <td>16.914764</td>\n",
       "      <td>0.533241</td>\n",
       "      <td>7.243450</td>\n",
       "      <td>41.154791</td>\n",
       "      <td>9.098998</td>\n",
       "      <td>91.175210</td>\n",
       "      <td>...</td>\n",
       "      <td>277.687293</td>\n",
       "      <td>94.568345</td>\n",
       "      <td>152.780020</td>\n",
       "      <td>49.374714</td>\n",
       "      <td>152.780020</td>\n",
       "      <td>49.374714</td>\n",
       "      <td>26.074959</td>\n",
       "      <td>7.712628</td>\n",
       "      <td>2.054109</td>\n",
       "      <td>0.569692</td>\n",
       "    </tr>\n",
       "    <tr>\n",
       "      <th>min</th>\n",
       "      <td>0.000000</td>\n",
       "      <td>-4.864000</td>\n",
       "      <td>0.000000</td>\n",
       "      <td>0.000000</td>\n",
       "      <td>20.366566</td>\n",
       "      <td>0.000000</td>\n",
       "      <td>928.697300</td>\n",
       "      <td>0.000000</td>\n",
       "      <td>0.000000</td>\n",
       "      <td>2.202549</td>\n",
       "      <td>...</td>\n",
       "      <td>0.000000</td>\n",
       "      <td>0.000000</td>\n",
       "      <td>0.000000</td>\n",
       "      <td>0.000000</td>\n",
       "      <td>0.000000</td>\n",
       "      <td>0.000000</td>\n",
       "      <td>0.000000</td>\n",
       "      <td>0.000000</td>\n",
       "      <td>2.266300</td>\n",
       "      <td>0.686300</td>\n",
       "    </tr>\n",
       "    <tr>\n",
       "      <th>25%</th>\n",
       "      <td>0.000000</td>\n",
       "      <td>7.286000</td>\n",
       "      <td>0.000000</td>\n",
       "      <td>0.000000</td>\n",
       "      <td>66.965320</td>\n",
       "      <td>0.000000</td>\n",
       "      <td>959.707800</td>\n",
       "      <td>19.000000</td>\n",
       "      <td>6.143777</td>\n",
       "      <td>119.325416</td>\n",
       "      <td>...</td>\n",
       "      <td>0.000000</td>\n",
       "      <td>0.000000</td>\n",
       "      <td>0.000000</td>\n",
       "      <td>0.000000</td>\n",
       "      <td>0.000000</td>\n",
       "      <td>0.000000</td>\n",
       "      <td>0.000000</td>\n",
       "      <td>0.000000</td>\n",
       "      <td>6.220800</td>\n",
       "      <td>1.850075</td>\n",
       "    </tr>\n",
       "    <tr>\n",
       "      <th>50%</th>\n",
       "      <td>79.500000</td>\n",
       "      <td>11.586000</td>\n",
       "      <td>0.000000</td>\n",
       "      <td>1.000000</td>\n",
       "      <td>82.376020</td>\n",
       "      <td>0.000000</td>\n",
       "      <td>963.193125</td>\n",
       "      <td>94.000000</td>\n",
       "      <td>12.220130</td>\n",
       "      <td>239.036320</td>\n",
       "      <td>...</td>\n",
       "      <td>42.261450</td>\n",
       "      <td>13.090800</td>\n",
       "      <td>12.000000</td>\n",
       "      <td>3.785950</td>\n",
       "      <td>12.000000</td>\n",
       "      <td>3.785950</td>\n",
       "      <td>25.082000</td>\n",
       "      <td>7.935250</td>\n",
       "      <td>7.461050</td>\n",
       "      <td>2.175800</td>\n",
       "    </tr>\n",
       "    <tr>\n",
       "      <th>75%</th>\n",
       "      <td>1034.187500</td>\n",
       "      <td>16.886000</td>\n",
       "      <td>3600.000000</td>\n",
       "      <td>1.000000</td>\n",
       "      <td>93.151627</td>\n",
       "      <td>0.100000</td>\n",
       "      <td>966.837900</td>\n",
       "      <td>100.000000</td>\n",
       "      <td>19.386593</td>\n",
       "      <td>290.854520</td>\n",
       "      <td>...</td>\n",
       "      <td>467.416075</td>\n",
       "      <td>145.925950</td>\n",
       "      <td>174.000000</td>\n",
       "      <td>53.506250</td>\n",
       "      <td>174.000000</td>\n",
       "      <td>53.506275</td>\n",
       "      <td>48.543075</td>\n",
       "      <td>14.971150</td>\n",
       "      <td>8.876200</td>\n",
       "      <td>2.551200</td>\n",
       "    </tr>\n",
       "    <tr>\n",
       "      <th>max</th>\n",
       "      <td>3380.750000</td>\n",
       "      <td>36.486000</td>\n",
       "      <td>3600.000000</td>\n",
       "      <td>1.000000</td>\n",
       "      <td>100.000000</td>\n",
       "      <td>13.600000</td>\n",
       "      <td>984.059270</td>\n",
       "      <td>100.000000</td>\n",
       "      <td>52.682220</td>\n",
       "      <td>360.000000</td>\n",
       "      <td>...</td>\n",
       "      <td>963.675200</td>\n",
       "      <td>386.623800</td>\n",
       "      <td>787.000000</td>\n",
       "      <td>277.204600</td>\n",
       "      <td>787.000000</td>\n",
       "      <td>277.204600</td>\n",
       "      <td>74.588600</td>\n",
       "      <td>21.126600</td>\n",
       "      <td>18.835100</td>\n",
       "      <td>5.216900</td>\n",
       "    </tr>\n",
       "  </tbody>\n",
       "</table>\n",
       "<p>8 rows × 49 columns</p>\n",
       "</div>"
      ],
      "text/plain": [
       "       Solaire (MW)  temperature_2m_run_13  sunshine_duration_run_13  \\\n",
       "count  20062.000000           20064.000000              20064.000000   \n",
       "mean     563.120177              12.252552               1143.698430   \n",
       "std      772.678514               6.834711               1620.405726   \n",
       "min        0.000000              -4.864000                  0.000000   \n",
       "25%        0.000000               7.286000                  0.000000   \n",
       "50%       79.500000              11.586000                  0.000000   \n",
       "75%     1034.187500              16.886000               3600.000000   \n",
       "max     3380.750000              36.486000               3600.000000   \n",
       "\n",
       "       is_day_run_13  relative_humidity_2m_run_13  precipitation_run_13  \\\n",
       "count   20064.000000                 20064.000000          20064.000000   \n",
       "mean        0.508872                    78.835008              0.162859   \n",
       "std         0.499934                    16.914764              0.533241   \n",
       "min         0.000000                    20.366566              0.000000   \n",
       "25%         0.000000                    66.965320              0.000000   \n",
       "50%         1.000000                    82.376020              0.000000   \n",
       "75%         1.000000                    93.151627              0.100000   \n",
       "max         1.000000                   100.000000             13.600000   \n",
       "\n",
       "       surface_pressure_run_13  cloud_cover_run_13  wind_speed_10m_run_13  \\\n",
       "count             20064.000000        20064.000000           20064.000000   \n",
       "mean                962.920846           65.369966              13.681231   \n",
       "std                   7.243450           41.154791               9.098998   \n",
       "min                 928.697300            0.000000               0.000000   \n",
       "25%                 959.707800           19.000000               6.143777   \n",
       "50%                 963.193125           94.000000              12.220130   \n",
       "75%                 966.837900          100.000000              19.386593   \n",
       "max                 984.059270          100.000000              52.682220   \n",
       "\n",
       "       wind_direction_10m_run_13  ...  direct_normal_irradiance_delta_minmax  \\\n",
       "count               20064.000000  ...                           20064.000000   \n",
       "mean                  203.871097  ...                             222.675689   \n",
       "std                    91.175210  ...                             277.687293   \n",
       "min                     2.202549  ...                               0.000000   \n",
       "25%                   119.325416  ...                               0.000000   \n",
       "50%                   239.036320  ...                              42.261450   \n",
       "75%                   290.854520  ...                             467.416075   \n",
       "max                   360.000000  ...                             963.675200   \n",
       "\n",
       "       direct_normal_irradiance_std  shortwave_radiation_delta_minmax  \\\n",
       "count                  20064.000000                      20064.000000   \n",
       "mean                      73.221491                        104.483403   \n",
       "std                       94.568345                        152.780020   \n",
       "min                        0.000000                          0.000000   \n",
       "25%                        0.000000                          0.000000   \n",
       "50%                       13.090800                         12.000000   \n",
       "75%                      145.925950                        174.000000   \n",
       "max                      386.623800                        787.000000   \n",
       "\n",
       "       shortwave_radiation_std  global_tilted_irradiance_delta_minmax  \\\n",
       "count             20064.000000                           20064.000000   \n",
       "mean                 33.033782                             104.483403   \n",
       "std                  49.374714                             152.780020   \n",
       "min                   0.000000                               0.000000   \n",
       "25%                   0.000000                               0.000000   \n",
       "50%                   3.785950                              12.000000   \n",
       "75%                  53.506250                             174.000000   \n",
       "max                 277.204600                             787.000000   \n",
       "\n",
       "       global_tilted_irradiance_std  terrestrial_radiation_delta_minmax  \\\n",
       "count                  20064.000000                        20064.000000   \n",
       "mean                      33.033782                           25.738320   \n",
       "std                       49.374714                           26.074959   \n",
       "min                        0.000000                            0.000000   \n",
       "25%                        0.000000                            0.000000   \n",
       "50%                        3.785950                           25.082000   \n",
       "75%                       53.506275                           48.543075   \n",
       "max                      277.204600                           74.588600   \n",
       "\n",
       "       terrestrial_radiation_std  apparent_temperature_delta_minmax  \\\n",
       "count               20064.000000                       20064.000000   \n",
       "mean                    7.701766                           7.687683   \n",
       "std                     7.712628                           2.054109   \n",
       "min                     0.000000                           2.266300   \n",
       "25%                     0.000000                           6.220800   \n",
       "50%                     7.935250                           7.461050   \n",
       "75%                    14.971150                           8.876200   \n",
       "max                    21.126600                          18.835100   \n",
       "\n",
       "       apparent_temperature_std  \n",
       "count              20064.000000  \n",
       "mean                   2.239585  \n",
       "std                    0.569692  \n",
       "min                    0.686300  \n",
       "25%                    1.850075  \n",
       "50%                    2.175800  \n",
       "75%                    2.551200  \n",
       "max                    5.216900  \n",
       "\n",
       "[8 rows x 49 columns]"
      ]
     },
     "execution_count": 8,
     "metadata": {},
     "output_type": "execute_result"
    }
   ],
   "source": [
    "df.describe()"
   ]
  },
  {
   "cell_type": "code",
   "execution_count": 9,
   "id": "0a10de9e",
   "metadata": {},
   "outputs": [],
   "source": [
    "# Temporal data, indexed\n",
    "df.index = pd.to_datetime(df.index, utc=True).tz_convert(\"Europe/Paris\")"
   ]
  },
  {
   "cell_type": "markdown",
   "id": "479bc2ac",
   "metadata": {},
   "source": [
    "### Analyse univariée"
   ]
  },
  {
   "cell_type": "markdown",
   "id": "27a14573",
   "metadata": {},
   "source": [
    "Dans un premier temps nous étudierons la variable cible, la production solaire *Solaire (MW)*. Dans la littérature, les variables physiquement impactantes sur la production des panneaux solaires sont les variables de radiation *direct_radiation*, *diffuse radiation* et *shortwave_radiation*, l'irradiance *global_tilted_irradiance*, la durée d'ensoleillement *sunshine_duration*, la température *temperature_2m*, la nébulosité *cloud_cover* et la variable catégorielle de journée *is_day*."
   ]
  },
  {
   "cell_type": "code",
   "execution_count": 10,
   "id": "86e4dbb8",
   "metadata": {},
   "outputs": [
    {
     "data": {
      "application/vnd.microsoft.datawrangler.viewer.v0+json": {
       "columns": [
        {
         "name": "index",
         "rawType": "object",
         "type": "string"
        },
        {
         "name": "Solaire (MW)",
         "rawType": "float64",
         "type": "float"
        }
       ],
       "ref": "46ad9d8c-e5c3-4c33-bb3e-e7f5f66d0efc",
       "rows": [
        [
         "count",
         "20062.0"
        ],
        [
         "mean",
         "563.1201774499053"
        ],
        [
         "std",
         "772.6785140907236"
        ],
        [
         "min",
         "0.0"
        ],
        [
         "25%",
         "0.0"
        ],
        [
         "50%",
         "79.5"
        ],
        [
         "75%",
         "1034.1875"
        ],
        [
         "max",
         "3380.75"
        ]
       ],
       "shape": {
        "columns": 1,
        "rows": 8
       }
      },
      "text/plain": [
       "count    20062.000000\n",
       "mean       563.120177\n",
       "std        772.678514\n",
       "min          0.000000\n",
       "25%          0.000000\n",
       "50%         79.500000\n",
       "75%       1034.187500\n",
       "max       3380.750000\n",
       "Name: Solaire (MW), dtype: float64"
      ]
     },
     "execution_count": 10,
     "metadata": {},
     "output_type": "execute_result"
    }
   ],
   "source": [
    "series = df[\"Solaire (MW)\"]\n",
    "series.describe()"
   ]
  },
  {
   "cell_type": "code",
   "execution_count": null,
   "id": "1fb1dc09",
   "metadata": {},
   "outputs": [],
   "source": [
    "production_series = series[series > 0]"
   ]
  },
  {
   "cell_type": "code",
   "execution_count": 65,
   "id": "09d33c8c",
   "metadata": {},
   "outputs": [],
   "source": [
    "def statistical_univariate_analysis(subdf: pd.DataFrame, row_fig: int, col_fig: int, figsize: tuple) -> None: \n",
    "    \"\"\"_summary_\n",
    "\n",
    "    Args:\n",
    "        subdf (pd.DataFrame): _description_\n",
    "        row_fig (int): _description_\n",
    "        col_fig (int): _description_\n",
    "    \"\"\"\n",
    "    fig, axs = plt.subplots(row_fig, col_fig, figsize=figsize)\n",
    "    fig.suptitle(f'Analyse univariée de {subdf.columns[0]}', fontsize=16)\n",
    "    axs = axs.flatten()\n",
    "    col_list = subdf.columns\n",
    "\n",
    "    for i, col in enumerate(col_list):\n",
    "        sns.violinplot(subdf[col], ax=axs[i])\n",
    "        axs[i].set_title(f\"Distribution de {col}\")\n",
    "    plt.show()"
   ]
  },
  {
   "cell_type": "code",
   "execution_count": 66,
   "id": "ef1654b7",
   "metadata": {},
   "outputs": [
    {
     "name": "stdout",
     "output_type": "stream",
     "text": [
      "['global_tilted_irradiance_run_13', 'global_tilted_irradiance_delta_minmax', 'global_tilted_irradiance_std'] 3\n"
     ]
    }
   ],
   "source": [
    "col_radiation = [col for col in df.columns if \"global_tilted_irradiance\" in col]\n",
    "print(col_radiation, len(col_radiation))\n",
    "subdf = df[col_radiation]\n",
    "subdf = subdf[subdf > 0]"
   ]
  },
  {
   "cell_type": "code",
   "execution_count": 67,
   "id": "74b9ce6e",
   "metadata": {},
   "outputs": [
    {
     "data": {
      "image/png": "[encoded data removed]",
      "text/plain": [
       "<Figure size 1800x600 with 3 Axes>"
      ]
     },
     "metadata": {},
     "output_type": "display_data"
    }
   ],
   "source": [
    "statistical_univariate_analysis(subdf, 1, 3, (18, 6))"
   ]
  },
  {
   "cell_type": "markdown",
   "id": "75a7c8f8",
   "metadata": {},
   "source": [
    "### Analyse bivariée"
   ]
  },
  {
   "cell_type": "code",
   "execution_count": 12,
   "id": "e63f3e95",
   "metadata": {},
   "outputs": [],
   "source": [
    "def corr_viz(df: pd.DataFrame) -> pd.DataFrame:\n",
    "    \n",
    "    \"\"\"_summary_\n",
    "\n",
    "    Args:\n",
    "        df (pd.DataFrame): _description_\n",
    "\n",
    "    Returns:\n",
    "        pd.DataFrame: _description_\n",
    "    \"\"\"\n",
    "    \n",
    "    corr_matrix = df.corr(method=\"pearson\")\n",
    "     \n",
    "    return corr_matrix"
   ]
  },
  {
   "cell_type": "code",
   "execution_count": 13,
   "id": "2fbb18c3",
   "metadata": {},
   "outputs": [
    {
     "data": {
      "application/vnd.microsoft.datawrangler.viewer.v0+json": {
       "columns": [
        {
         "name": "index",
         "rawType": "object",
         "type": "string"
        },
        {
         "name": "Solaire (MW)",
         "rawType": "float64",
         "type": "float"
        },
        {
         "name": "temperature_2m_run_13",
         "rawType": "float64",
         "type": "float"
        },
        {
         "name": "sunshine_duration_run_13",
         "rawType": "float64",
         "type": "float"
        },
        {
         "name": "is_day_run_13",
         "rawType": "float64",
         "type": "float"
        },
        {
         "name": "relative_humidity_2m_run_13",
         "rawType": "float64",
         "type": "float"
        },
        {
         "name": "precipitation_run_13",
         "rawType": "float64",
         "type": "float"
        },
        {
         "name": "surface_pressure_run_13",
         "rawType": "float64",
         "type": "float"
        },
        {
         "name": "cloud_cover_run_13",
         "rawType": "float64",
         "type": "float"
        },
        {
         "name": "wind_speed_10m_run_13",
         "rawType": "float64",
         "type": "float"
        },
        {
         "name": "wind_direction_10m_run_13",
         "rawType": "float64",
         "type": "float"
        },
        {
         "name": "direct_radiation_run_13",
         "rawType": "float64",
         "type": "float"
        },
        {
         "name": "diffuse_radiation_run_13",
         "rawType": "float64",
         "type": "float"
        },
        {
         "name": "direct_normal_irradiance_run_13",
         "rawType": "float64",
         "type": "float"
        },
        {
         "name": "shortwave_radiation_run_13",
         "rawType": "float64",
         "type": "float"
        },
        {
         "name": "global_tilted_irradiance_run_13",
         "rawType": "float64",
         "type": "float"
        },
        {
         "name": "terrestrial_radiation_run_13",
         "rawType": "float64",
         "type": "float"
        },
        {
         "name": "apparent_temperature_run_13",
         "rawType": "float64",
         "type": "float"
        },
        {
         "name": "temperature_2m_delta_minmax",
         "rawType": "float64",
         "type": "float"
        },
        {
         "name": "temperature_2m_std",
         "rawType": "float64",
         "type": "float"
        },
        {
         "name": "sunshine_duration_delta_minmax",
         "rawType": "float64",
         "type": "float"
        },
        {
         "name": "sunshine_duration_std",
         "rawType": "float64",
         "type": "float"
        },
        {
         "name": "is_day_delta_minmax",
         "rawType": "float64",
         "type": "float"
        },
        {
         "name": "is_day_std",
         "rawType": "float64",
         "type": "float"
        },
        {
         "name": "relative_humidity_2m_delta_minmax",
         "rawType": "float64",
         "type": "float"
        },
        {
         "name": "relative_humidity_2m_std",
         "rawType": "float64",
         "type": "float"
        },
        {
         "name": "precipitation_delta_minmax",
         "rawType": "float64",
         "type": "float"
        },
        {
         "name": "precipitation_std",
         "rawType": "float64",
         "type": "float"
        },
        {
         "name": "surface_pressure_delta_minmax",
         "rawType": "float64",
         "type": "float"
        },
        {
         "name": "surface_pressure_std",
         "rawType": "float64",
         "type": "float"
        },
        {
         "name": "cloud_cover_delta_minmax",
         "rawType": "float64",
         "type": "float"
        },
        {
         "name": "cloud_cover_std",
         "rawType": "float64",
         "type": "float"
        },
        {
         "name": "wind_speed_10m_delta_minmax",
         "rawType": "float64",
         "type": "float"
        },
        {
         "name": "wind_speed_10m_std",
         "rawType": "float64",
         "type": "float"
        },
        {
         "name": "wind_direction_10m_delta_minmax",
         "rawType": "float64",
         "type": "float"
        },
        {
         "name": "wind_direction_10m_std",
         "rawType": "float64",
         "type": "float"
        },
        {
         "name": "direct_radiation_delta_minmax",
         "rawType": "float64",
         "type": "float"
        },
        {
         "name": "direct_radiation_std",
         "rawType": "float64",
         "type": "float"
        },
        {
         "name": "diffuse_radiation_delta_minmax",
         "rawType": "float64",
         "type": "float"
        },
        {
         "name": "diffuse_radiation_std",
         "rawType": "float64",
         "type": "float"
        },
        {
         "name": "direct_normal_irradiance_delta_minmax",
         "rawType": "float64",
         "type": "float"
        },
        {
         "name": "direct_normal_irradiance_std",
         "rawType": "float64",
         "type": "float"
        },
        {
         "name": "shortwave_radiation_delta_minmax",
         "rawType": "float64",
         "type": "float"
        },
        {
         "name": "shortwave_radiation_std",
         "rawType": "float64",
         "type": "float"
        },
        {
         "name": "global_tilted_irradiance_delta_minmax",
         "rawType": "float64",
         "type": "float"
        },
        {
         "name": "global_tilted_irradiance_std",
         "rawType": "float64",
         "type": "float"
        },
        {
         "name": "terrestrial_radiation_delta_minmax",
         "rawType": "float64",
         "type": "float"
        },
        {
         "name": "terrestrial_radiation_std",
         "rawType": "float64",
         "type": "float"
        },
        {
         "name": "apparent_temperature_delta_minmax",
         "rawType": "float64",
         "type": "float"
        },
        {
         "name": "apparent_temperature_std",
         "rawType": "float64",
         "type": "float"
        }
       ],
       "ref": "1c9eec29-4551-4694-aab1-ad4da09b3adf",
       "rows": [
        [
         "Solaire (MW)",
         "1.0",
         "0.4029216072223297",
         "0.7206314917944546",
         "0.7047545665530498",
         "-0.48532005621438506",
         "-0.05425484052010214",
         "0.07694292898777663",
         "-0.14602329268845587",
         "0.056888018281862705",
         "0.2065833012729957",
         "0.8137861947556531",
         "0.7523610486603627",
         "0.7662004792330217",
         "0.8966163940747928",
         "0.8966163941335796",
         "0.8923499034555198",
         "0.3765160211860842",
         "0.09926633435433022",
         "0.13811912627975925",
         "0.34117193615057984",
         "0.3150282412087973",
         "-0.08800880978485053",
         "-0.0854632363277291",
         "0.02794932041132393",
         "0.02337786894186152",
         "-0.07076257474170075",
         "-0.07289183519325448",
         "-0.23916260230037253",
         "-0.3136720664442509",
         "0.061282060457185",
         "0.0370693717801206",
         "0.024885840027002053",
         "0.014052536096376638",
         "-0.004722371422759225",
         "0.05128787477126154",
         "0.7555603396452226",
         "0.7316616391575497",
         "0.7263155023732576",
         "0.7180346458827948",
         "0.6955102308736978",
         "0.6669963841665221",
         "0.6608427217302706",
         "0.6447849091970699",
         "0.6608427215608317",
         "0.6447849082141436",
         "0.46746263264520355",
         "0.4818906685779319",
         "0.11040284458157648",
         "0.12414932153377863"
        ],
        [
         "temperature_2m_run_13",
         "0.4029216072223297",
         "1.0",
         "0.46596312598671535",
         "0.3426501219147027",
         "-0.5315731264617632",
         "-0.07655247489931746",
         "-0.062427902971306536",
         "-0.21905869523635627",
         "0.06335159040769751",
         "-0.0381628273132761",
         "0.5284043137179231",
         "0.37268074568154447",
         "0.48663956008582593",
         "0.5412479612472159",
         "0.5412479612227702",
         "0.47277439883419997",
         "0.9808319452091758",
         "-0.03696918423533338",
         "0.001693609037630657",
         "0.09360818917511388",
         "0.07273363712567216",
         "-0.02811978451244303",
         "-0.02950232111369969",
         "-0.13739249639238985",
         "-0.14134809792894082",
         "0.02462853598022606",
         "0.02302648555488005",
         "-0.8747096778637908",
         "-0.9247470446133393",
         "-0.008591047150182963",
         "-0.034604048066407544",
         "-0.1623170470472068",
         "-0.15831975733465123",
         "0.04123482516620102",
         "0.06465144370391196",
         "0.34522228373405645",
         "0.32585848667707873",
         "0.34222779641698176",
         "0.3369307024663258",
         "0.2621657448102151",
         "0.23803400035404715",
         "0.2773298589568138",
         "0.26461997860999437",
         "0.2773298590117701",
         "0.26461997973721757",
         "0.28035708148218075",
         "0.2744313963420162",
         "0.07352157584348504",
         "0.11241728042362413"
        ],
        [
         "sunshine_duration_run_13",
         "0.7206314917944546",
         "0.46596312598671535",
         "1.0",
         "0.6897779670956474",
         "-0.596037483849654",
         "-0.13611074501433199",
         "0.07443513702526039",
         "-0.26862789056238173",
         "-0.014527920142178076",
         "0.12739755677893913",
         "0.7804095255282385",
         "0.6149108684653632",
         "0.893415251724677",
         "0.8221695427710715",
         "0.8221695429412614",
         "0.7098889581619525",
         "0.4367955314981518",
         "0.03781141981718442",
         "0.07595245825751361",
         "0.30486850219334666",
         "0.2509883900748391",
         "-0.06853499659592141",
         "-0.06637657201768273",
         "-0.004896498723862962",
         "-0.02098581217282837",
         "-0.10488750927545419",
         "-0.10894281992529457",
         "-0.32761363561475015",
         "-0.3644958299341721",
         "0.07132810399030372",
         "0.04437186657060153",
         "-0.06791049470459211",
         "-0.07196120241058268",
         "0.08863110567009341",
         "0.1392388724625175",
         "0.579138151275907",
         "0.5520100483578598",
         "0.5287693564512532",
         "0.5195879050429404",
         "0.6250459825122165",
         "0.5877795139866",
         "0.47711202662997526",
         "0.4553662322273495",
         "0.47711202713255063",
         "0.45536623003023513",
         "0.6088235366137823",
         "0.6136274941789736",
         "0.05589323971685557",
         "0.08876484523996854"
        ],
        [
         "is_day_run_13",
         "0.7047545665530498",
         "0.3426501219147027",
         "0.6897779670956474",
         "1.0",
         "-0.36080713630541167",
         "0.022382175322644086",
         "-0.011167657289267306",
         "-0.011207535666915791",
         "0.08016409530201034",
         "0.22375940967407126",
         "0.5244765249161947",
         "0.6967915703112777",
         "0.611838642145113",
         "0.6527417900932216",
         "0.6527417902172654",
         "0.7785582172061987",
         "0.31239402481360307",
         "0.0959430759041589",
         "0.13610713026994448",
         "0.648400597553691",
         "0.6193840892905061",
         "-0.012238433189252596",
         "-0.009107877561022777",
         "0.06807948358976777",
         "0.04666446767782834",
         "0.03387397292374307",
         "0.034290827801226324",
         "-0.21051489249384336",
         "-0.277003621270945",
         "-0.01383377857689554",
         "-0.033090810026927917",
         "0.04799426214641088",
         "0.03573596757038834",
         "-0.021381102631692902",
         "0.026942675102378653",
         "0.6498885218723526",
         "0.6336898219214597",
         "0.676041712229404",
         "0.6612329092365554",
         "0.7745389701245305",
         "0.7481697522285682",
         "0.6662294451228804",
         "0.6519364952583844",
         "0.6662294454885573",
         "0.6519364930003223",
         "0.8711450259378972",
         "0.8813573272147467",
         "0.14368747241472846",
         "0.1688969049546049"
        ],
        [
         "relative_humidity_2m_run_13",
         "-0.48532005621438506",
         "-0.5315731264617632",
         "-0.596037483849654",
         "-0.36080713630541167",
         "1.0",
         "0.25155829703678134",
         "-0.09193388463920833",
         "0.4545703440859136",
         "-0.05652967360538889",
         "0.16083524114891765",
         "-0.6246873550039242",
         "-0.36666944878258734",
         "-0.6535093691393355",
         "-0.6137488610448398",
         "-0.613748860843999",
         "-0.47606165798056593",
         "-0.44982988069700386",
         "-0.055086791530847945",
         "-0.041489409900737385",
         "-0.027206162588708005",
         "0.002400434535136557",
         "0.041893481192066054",
         "0.03809515024973149",
         "-0.08360940197929032",
         "-0.08068069988040712",
         "0.21096442764144488",
         "0.21603124104771362",
         "0.4356788498766658",
         "0.3844934401027653",
         "0.013772868790296664",
         "0.04058932147203116",
         "0.11618030364974023",
         "0.10132078732200499",
         "-0.19291142344035325",
         "-0.2118075003226812",
         "-0.3362497333944083",
         "-0.31118705343800257",
         "-0.31466719876544186",
         "-0.30891752359803226",
         "-0.2950699208460773",
         "-0.26302716112632996",
         "-0.2348763096077412",
         "-0.21706780762512076",
         "-0.23487630947146593",
         "-0.21706780710096862",
         "-0.2893619748080781",
         "-0.29056976096458614",
         "-0.08422172104098334",
         "-0.07764551101373776"
        ]
       ],
       "shape": {
        "columns": 49,
        "rows": 5
       }
      },
      "text/html": [
       "<div>\n",
       "<style scoped>\n",
       "    .dataframe tbody tr th:only-of-type {\n",
       "        vertical-align: middle;\n",
       "    }\n",
       "\n",
       "    .dataframe tbody tr th {\n",
       "        vertical-align: top;\n",
       "    }\n",
       "\n",
       "    .dataframe thead th {\n",
       "        text-align: right;\n",
       "    }\n",
       "</style>\n",
       "<table border=\"1\" class=\"dataframe\">\n",
       "  <thead>\n",
       "    <tr style=\"text-align: right;\">\n",
       "      <th></th>\n",
       "      <th>Solaire (MW)</th>\n",
       "      <th>temperature_2m_run_13</th>\n",
       "      <th>sunshine_duration_run_13</th>\n",
       "      <th>is_day_run_13</th>\n",
       "      <th>relative_humidity_2m_run_13</th>\n",
       "      <th>precipitation_run_13</th>\n",
       "      <th>surface_pressure_run_13</th>\n",
       "      <th>cloud_cover_run_13</th>\n",
       "      <th>wind_speed_10m_run_13</th>\n",
       "      <th>wind_direction_10m_run_13</th>\n",
       "      <th>...</th>\n",
       "      <th>direct_normal_irradiance_delta_minmax</th>\n",
       "      <th>direct_normal_irradiance_std</th>\n",
       "      <th>shortwave_radiation_delta_minmax</th>\n",
       "      <th>shortwave_radiation_std</th>\n",
       "      <th>global_tilted_irradiance_delta_minmax</th>\n",
       "      <th>global_tilted_irradiance_std</th>\n",
       "      <th>terrestrial_radiation_delta_minmax</th>\n",
       "      <th>terrestrial_radiation_std</th>\n",
       "      <th>apparent_temperature_delta_minmax</th>\n",
       "      <th>apparent_temperature_std</th>\n",
       "    </tr>\n",
       "  </thead>\n",
       "  <tbody>\n",
       "    <tr>\n",
       "      <th>Solaire (MW)</th>\n",
       "      <td>1.000000</td>\n",
       "      <td>0.402922</td>\n",
       "      <td>0.720631</td>\n",
       "      <td>0.704755</td>\n",
       "      <td>-0.485320</td>\n",
       "      <td>-0.054255</td>\n",
       "      <td>0.076943</td>\n",
       "      <td>-0.146023</td>\n",
       "      <td>0.056888</td>\n",
       "      <td>0.206583</td>\n",
       "      <td>...</td>\n",
       "      <td>0.695510</td>\n",
       "      <td>0.666996</td>\n",
       "      <td>0.660843</td>\n",
       "      <td>0.644785</td>\n",
       "      <td>0.660843</td>\n",
       "      <td>0.644785</td>\n",
       "      <td>0.467463</td>\n",
       "      <td>0.481891</td>\n",
       "      <td>0.110403</td>\n",
       "      <td>0.124149</td>\n",
       "    </tr>\n",
       "    <tr>\n",
       "      <th>temperature_2m_run_13</th>\n",
       "      <td>0.402922</td>\n",
       "      <td>1.000000</td>\n",
       "      <td>0.465963</td>\n",
       "      <td>0.342650</td>\n",
       "      <td>-0.531573</td>\n",
       "      <td>-0.076552</td>\n",
       "      <td>-0.062428</td>\n",
       "      <td>-0.219059</td>\n",
       "      <td>0.063352</td>\n",
       "      <td>-0.038163</td>\n",
       "      <td>...</td>\n",
       "      <td>0.262166</td>\n",
       "      <td>0.238034</td>\n",
       "      <td>0.277330</td>\n",
       "      <td>0.264620</td>\n",
       "      <td>0.277330</td>\n",
       "      <td>0.264620</td>\n",
       "      <td>0.280357</td>\n",
       "      <td>0.274431</td>\n",
       "      <td>0.073522</td>\n",
       "      <td>0.112417</td>\n",
       "    </tr>\n",
       "    <tr>\n",
       "      <th>sunshine_duration_run_13</th>\n",
       "      <td>0.720631</td>\n",
       "      <td>0.465963</td>\n",
       "      <td>1.000000</td>\n",
       "      <td>0.689778</td>\n",
       "      <td>-0.596037</td>\n",
       "      <td>-0.136111</td>\n",
       "      <td>0.074435</td>\n",
       "      <td>-0.268628</td>\n",
       "      <td>-0.014528</td>\n",
       "      <td>0.127398</td>\n",
       "      <td>...</td>\n",
       "      <td>0.625046</td>\n",
       "      <td>0.587780</td>\n",
       "      <td>0.477112</td>\n",
       "      <td>0.455366</td>\n",
       "      <td>0.477112</td>\n",
       "      <td>0.455366</td>\n",
       "      <td>0.608824</td>\n",
       "      <td>0.613627</td>\n",
       "      <td>0.055893</td>\n",
       "      <td>0.088765</td>\n",
       "    </tr>\n",
       "    <tr>\n",
       "      <th>is_day_run_13</th>\n",
       "      <td>0.704755</td>\n",
       "      <td>0.342650</td>\n",
       "      <td>0.689778</td>\n",
       "      <td>1.000000</td>\n",
       "      <td>-0.360807</td>\n",
       "      <td>0.022382</td>\n",
       "      <td>-0.011168</td>\n",
       "      <td>-0.011208</td>\n",
       "      <td>0.080164</td>\n",
       "      <td>0.223759</td>\n",
       "      <td>...</td>\n",
       "      <td>0.774539</td>\n",
       "      <td>0.748170</td>\n",
       "      <td>0.666229</td>\n",
       "      <td>0.651936</td>\n",
       "      <td>0.666229</td>\n",
       "      <td>0.651936</td>\n",
       "      <td>0.871145</td>\n",
       "      <td>0.881357</td>\n",
       "      <td>0.143687</td>\n",
       "      <td>0.168897</td>\n",
       "    </tr>\n",
       "    <tr>\n",
       "      <th>relative_humidity_2m_run_13</th>\n",
       "      <td>-0.485320</td>\n",
       "      <td>-0.531573</td>\n",
       "      <td>-0.596037</td>\n",
       "      <td>-0.360807</td>\n",
       "      <td>1.000000</td>\n",
       "      <td>0.251558</td>\n",
       "      <td>-0.091934</td>\n",
       "      <td>0.454570</td>\n",
       "      <td>-0.056530</td>\n",
       "      <td>0.160835</td>\n",
       "      <td>...</td>\n",
       "      <td>-0.295070</td>\n",
       "      <td>-0.263027</td>\n",
       "      <td>-0.234876</td>\n",
       "      <td>-0.217068</td>\n",
       "      <td>-0.234876</td>\n",
       "      <td>-0.217068</td>\n",
       "      <td>-0.289362</td>\n",
       "      <td>-0.290570</td>\n",
       "      <td>-0.084222</td>\n",
       "      <td>-0.077646</td>\n",
       "    </tr>\n",
       "  </tbody>\n",
       "</table>\n",
       "<p>5 rows × 49 columns</p>\n",
       "</div>"
      ],
      "text/plain": [
       "                             Solaire (MW)  temperature_2m_run_13  \\\n",
       "Solaire (MW)                     1.000000               0.402922   \n",
       "temperature_2m_run_13            0.402922               1.000000   \n",
       "sunshine_duration_run_13         0.720631               0.465963   \n",
       "is_day_run_13                    0.704755               0.342650   \n",
       "relative_humidity_2m_run_13     -0.485320              -0.531573   \n",
       "\n",
       "                             sunshine_duration_run_13  is_day_run_13  \\\n",
       "Solaire (MW)                                 0.720631       0.704755   \n",
       "temperature_2m_run_13                        0.465963       0.342650   \n",
       "sunshine_duration_run_13                     1.000000       0.689778   \n",
       "is_day_run_13                                0.689778       1.000000   \n",
       "relative_humidity_2m_run_13                 -0.596037      -0.360807   \n",
       "\n",
       "                             relative_humidity_2m_run_13  \\\n",
       "Solaire (MW)                                   -0.485320   \n",
       "temperature_2m_run_13                          -0.531573   \n",
       "sunshine_duration_run_13                       -0.596037   \n",
       "is_day_run_13                                  -0.360807   \n",
       "relative_humidity_2m_run_13                     1.000000   \n",
       "\n",
       "                             precipitation_run_13  surface_pressure_run_13  \\\n",
       "Solaire (MW)                            -0.054255                 0.076943   \n",
       "temperature_2m_run_13                   -0.076552                -0.062428   \n",
       "sunshine_duration_run_13                -0.136111                 0.074435   \n",
       "is_day_run_13                            0.022382                -0.011168   \n",
       "relative_humidity_2m_run_13              0.251558                -0.091934   \n",
       "\n",
       "                             cloud_cover_run_13  wind_speed_10m_run_13  \\\n",
       "Solaire (MW)                          -0.146023               0.056888   \n",
       "temperature_2m_run_13                 -0.219059               0.063352   \n",
       "sunshine_duration_run_13              -0.268628              -0.014528   \n",
       "is_day_run_13                         -0.011208               0.080164   \n",
       "relative_humidity_2m_run_13            0.454570              -0.056530   \n",
       "\n",
       "                             wind_direction_10m_run_13  ...  \\\n",
       "Solaire (MW)                                  0.206583  ...   \n",
       "temperature_2m_run_13                        -0.038163  ...   \n",
       "sunshine_duration_run_13                      0.127398  ...   \n",
       "is_day_run_13                                 0.223759  ...   \n",
       "relative_humidity_2m_run_13                   0.160835  ...   \n",
       "\n",
       "                             direct_normal_irradiance_delta_minmax  \\\n",
       "Solaire (MW)                                              0.695510   \n",
       "temperature_2m_run_13                                     0.262166   \n",
       "sunshine_duration_run_13                                  0.625046   \n",
       "is_day_run_13                                             0.774539   \n",
       "relative_humidity_2m_run_13                              -0.295070   \n",
       "\n",
       "                             direct_normal_irradiance_std  \\\n",
       "Solaire (MW)                                     0.666996   \n",
       "temperature_2m_run_13                            0.238034   \n",
       "sunshine_duration_run_13                         0.587780   \n",
       "is_day_run_13                                    0.748170   \n",
       "relative_humidity_2m_run_13                     -0.263027   \n",
       "\n",
       "                             shortwave_radiation_delta_minmax  \\\n",
       "Solaire (MW)                                         0.660843   \n",
       "temperature_2m_run_13                                0.277330   \n",
       "sunshine_duration_run_13                             0.477112   \n",
       "is_day_run_13                                        0.666229   \n",
       "relative_humidity_2m_run_13                         -0.234876   \n",
       "\n",
       "                             shortwave_radiation_std  \\\n",
       "Solaire (MW)                                0.644785   \n",
       "temperature_2m_run_13                       0.264620   \n",
       "sunshine_duration_run_13                    0.455366   \n",
       "is_day_run_13                               0.651936   \n",
       "relative_humidity_2m_run_13                -0.217068   \n",
       "\n",
       "                             global_tilted_irradiance_delta_minmax  \\\n",
       "Solaire (MW)                                              0.660843   \n",
       "temperature_2m_run_13                                     0.277330   \n",
       "sunshine_duration_run_13                                  0.477112   \n",
       "is_day_run_13                                             0.666229   \n",
       "relative_humidity_2m_run_13                              -0.234876   \n",
       "\n",
       "                             global_tilted_irradiance_std  \\\n",
       "Solaire (MW)                                     0.644785   \n",
       "temperature_2m_run_13                            0.264620   \n",
       "sunshine_duration_run_13                         0.455366   \n",
       "is_day_run_13                                    0.651936   \n",
       "relative_humidity_2m_run_13                     -0.217068   \n",
       "\n",
       "                             terrestrial_radiation_delta_minmax  \\\n",
       "Solaire (MW)                                           0.467463   \n",
       "temperature_2m_run_13                                  0.280357   \n",
       "sunshine_duration_run_13                               0.608824   \n",
       "is_day_run_13                                          0.871145   \n",
       "relative_humidity_2m_run_13                           -0.289362   \n",
       "\n",
       "                             terrestrial_radiation_std  \\\n",
       "Solaire (MW)                                  0.481891   \n",
       "temperature_2m_run_13                         0.274431   \n",
       "sunshine_duration_run_13                      0.613627   \n",
       "is_day_run_13                                 0.881357   \n",
       "relative_humidity_2m_run_13                  -0.290570   \n",
       "\n",
       "                             apparent_temperature_delta_minmax  \\\n",
       "Solaire (MW)                                          0.110403   \n",
       "temperature_2m_run_13                                 0.073522   \n",
       "sunshine_duration_run_13                              0.055893   \n",
       "is_day_run_13                                         0.143687   \n",
       "relative_humidity_2m_run_13                          -0.084222   \n",
       "\n",
       "                             apparent_temperature_std  \n",
       "Solaire (MW)                                 0.124149  \n",
       "temperature_2m_run_13                        0.112417  \n",
       "sunshine_duration_run_13                     0.088765  \n",
       "is_day_run_13                                0.168897  \n",
       "relative_humidity_2m_run_13                 -0.077646  \n",
       "\n",
       "[5 rows x 49 columns]"
      ]
     },
     "execution_count": 13,
     "metadata": {},
     "output_type": "execute_result"
    }
   ],
   "source": [
    "corr_matrix = corr_viz(df)\n",
    "corr_matrix.head()"
   ]
  },
  {
   "cell_type": "markdown",
   "id": "634a48b5",
   "metadata": {},
   "source": []
  },
  {
   "cell_type": "code",
   "execution_count": null,
   "id": "2fb93bfd",
   "metadata": {},
   "outputs": [],
   "source": [
    "df = df[[]]"
   ]
  },
  {
   "cell_type": "markdown",
   "id": "400ce9d5",
   "metadata": {},
   "source": [
    "### Analyse temporelle"
   ]
  },
  {
   "cell_type": "markdown",
   "id": "4212fb8a",
   "metadata": {},
   "source": [
    "#### Visualisation annuelle"
   ]
  },
  {
   "cell_type": "code",
   "execution_count": null,
   "id": "7f059034",
   "metadata": {},
   "outputs": [],
   "source": [
    "fig = plt.figure(figsize=(12, 6))\n",
    "plt.title(\"Série temporelle production solaire (2023 - 2025)\")\n",
    "solar_ts = df[\"Solaire (MW)\"]\n",
    "sns.lineplot(solar_ts)\n",
    "sns.lineplot(solar_ts.rolling(640).mean())\n",
    "plt.show()"
   ]
  },
  {
   "cell_type": "markdown",
   "id": "fecdcace",
   "metadata": {},
   "source": [
    "Il peut déjà être remarqué une **dérive positive à l'échelle annuelle** (sûrement due à l'augmentation de la capacité totale installée sur le territoire), ainsi qu'une saisonnalité annuelle (saison hiver-été), que l'on peut intuitivement corréler à l'irradiance. Nous pouvons de plus regarder la structure de la série temporelle pour 72 heures. On peut s'attendre à une saisonnalité journalière corrélée au cycle solaire."
   ]
  },
  {
   "cell_type": "code",
   "execution_count": null,
   "id": "a7408cc1",
   "metadata": {},
   "outputs": [
    {
     "data": {
      "text/plain": [
       "Rolling [window=24,center=False,axis=0,method=single]"
      ]
     },
     "execution_count": 41,
     "metadata": {},
     "output_type": "execute_result"
    }
   ],
   "source": []
  },
  {
   "cell_type": "code",
   "execution_count": 9,
   "id": "7cf21cac",
   "metadata": {},
   "outputs": [
    {
     "data": {
      "text/plain": [
       "<Axes: title={'center': 'Série temporelle production solaire (3 jours)'}, ylabel='Solaire (MW)'>"
      ]
     },
     "execution_count": 9,
     "metadata": {},
     "output_type": "execute_result"
    },
    {
     "data": {
      "image/png": "[encoded data removed]",
      "text/plain": [
       "<Figure size 1200x600 with 1 Axes>"
      ]
     },
     "metadata": {},
     "output_type": "display_data"
    }
   ],
   "source": [
    "fig = plt.figure(figsize=(12, 6))\n",
    "plt.title(\"Série temporelle production solaire (3 jours)\")\n",
    "sns.lineplot(solar_ts[:72])"
   ]
  },
  {
   "cell_type": "markdown",
   "id": "2fbe5976",
   "metadata": {},
   "source": [
    "Nous observons évidemment une saisonnalité journalière correspondant au cycle solaire. Regardons maintenant l'autocorrélation et l'autocorrélation partielle de la série sur 96 lags ( 4 jours)."
   ]
  },
  {
   "cell_type": "code",
   "execution_count": 10,
   "id": "a710a48e",
   "metadata": {},
   "outputs": [
    {
     "data": {
      "image/png": "[encoded data removed]",
      "text/plain": [
       "<Figure size 640x480 with 1 Axes>"
      ]
     },
     "metadata": {},
     "output_type": "display_data"
    },
    {
     "data": {
      "image/png": "[encoded data removed]",
      "text/plain": [
       "<Figure size 640x480 with 1 Axes>"
      ]
     },
     "metadata": {},
     "output_type": "display_data"
    }
   ],
   "source": [
    "plot_acf(solar_ts, lags=72)\n",
    "plot_pacf(solar_ts, lags=72)\n",
    "plt.show()"
   ]
  },
  {
   "cell_type": "markdown",
   "id": "7a4ebaf1",
   "metadata": {},
   "source": [
    "Il semble nécessaire d'effectuer une différenciation saisonnière d'ordre 24 pour regarder la stationnarité de la série et l'ACF/PACF ensuite pour les ordres MA et AR."
   ]
  },
  {
   "cell_type": "code",
   "execution_count": 11,
   "id": "0c0a2085",
   "metadata": {},
   "outputs": [],
   "source": [
    "# Différenciation saisonnière d'ordre 24\n",
    "solar_ts_diff24 = solar_ts.diff(24).dropna()"
   ]
  },
  {
   "cell_type": "code",
   "execution_count": 12,
   "id": "e9f018c7",
   "metadata": {},
   "outputs": [
    {
     "data": {
      "image/png": "[encoded data removed]",
      "text/plain": [
       "<Figure size 640x480 with 1 Axes>"
      ]
     },
     "metadata": {},
     "output_type": "display_data"
    },
    {
     "data": {
      "image/png": "[encoded data removed]",
      "text/plain": [
       "<Figure size 640x480 with 1 Axes>"
      ]
     },
     "metadata": {},
     "output_type": "display_data"
    }
   ],
   "source": [
    "plot_acf(solar_ts_diff24, lags=96)\n",
    "plot_pacf(solar_ts_diff24, lags=96)\n",
    "plt.show()"
   ]
  },
  {
   "cell_type": "code",
   "execution_count": 13,
   "id": "0335c76a",
   "metadata": {},
   "outputs": [
    {
     "data": {
      "text/plain": [
       "(np.float64(-28.20952763449581),\n",
       " 0.0,\n",
       " 46,\n",
       " 19991,\n",
       " {'1%': np.float64(-3.4306771542132264),\n",
       "  '5%': np.float64(-2.8616845906605723),\n",
       "  '10%': np.float64(-2.566846961658408)},\n",
       " np.float64(229694.2407444884))"
      ]
     },
     "execution_count": 13,
     "metadata": {},
     "output_type": "execute_result"
    }
   ],
   "source": [
    "adfuller(solar_ts_diff24)"
   ]
  },
  {
   "cell_type": "markdown",
   "id": "63bc924d",
   "metadata": {},
   "source": [
    "Nous pouvons remarquer que la différenciation saisonnière a bien marché et a supprimé complètement la saisonnalité principale. de plus le test d'adfuller indique que la série est stationnaire (-28 bien inférieur aux valeurs critiques, et p-value négligeable).\n",
    "Concernant l'ordre AR : \n",
    "- La PACF indique une coupure nette après le lag 1, on peut donc proposer en première approche un modèle AR(1) ;\n",
    "- L'ACF décroit rapidement en dessous de 0.25 après 10 lags, et le pattern stationnaire a été supprimé. Cela inidique une structure avec moyenne mobile (MA).\n",
    "\n",
    "Nous pouvons donc proposer en première approche le modèle suivant : **SARIMAX(1,0,q)(0,1,0)_24**. Le paramètre de la moyenne mobile peut-être retrouvée avec une méthode itérative basée sur une minimisation de l'AIC."
   ]
  },
  {
   "cell_type": "code",
   "execution_count": null,
   "id": "ea629920",
   "metadata": {},
   "outputs": [],
   "source": []
  }
 ],
 "metadata": {
  "kernelspec": {
   "display_name": "solar_forecasting",
   "language": "python",
   "name": "python3"
  },
  "language_info": {
   "codemirror_mode": {
    "name": "ipython",
    "version": 3
   },
   "file_extension": ".py",
   "mimetype": "text/x-python",
   "name": "python",
   "nbconvert_exporter": "python",
   "pygments_lexer": "ipython3",
   "version": "3.12.9"
  }
 },
 "nbformat": 4,
 "nbformat_minor": 5
}
