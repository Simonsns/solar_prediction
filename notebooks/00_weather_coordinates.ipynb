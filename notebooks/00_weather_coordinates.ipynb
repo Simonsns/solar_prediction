{
 "cells": [
  {
   "cell_type": "markdown",
   "id": "365e623a",
   "metadata": {},
   "source": [
    "# Calcul des coordonnées des variables météorologiques"
   ]
  },
  {
   "cell_type": "code",
   "execution_count": 1,
   "id": "17a471d1",
   "metadata": {},
   "outputs": [],
   "source": [
    "import pandas as pd\n",
    "import geopandas as gpd\n",
    "import os\n",
    "import numpy as np\n",
    "from shapely.geometry import Point"
   ]
  },
  {
   "cell_type": "code",
   "execution_count": 2,
   "id": "d90c0840",
   "metadata": {},
   "outputs": [],
   "source": [
    "# Confirmation d'être à la racine du dossier\n",
    "project_root = os.path.abspath(os.path.join(os.getcwd(), os.pardir))\n",
    "os.chdir(project_root)"
   ]
  },
  {
   "cell_type": "code",
   "execution_count": 19,
   "id": "994ba63c",
   "metadata": {},
   "outputs": [],
   "source": [
    "# Import de la data\n",
    "puiss_solaire = gpd.read_file(\"data/processed/occ_puiss_solaire_installee_iris.gpkg\")\n",
    "puiss_solaire[\"maxPuis\"] = puiss_solaire[\"maxPuis\"].astype(float)"
   ]
  },
  {
   "cell_type": "code",
   "execution_count": 20,
   "id": "ab8a4353",
   "metadata": {},
   "outputs": [],
   "source": [
    "def compute_barycentre(lat: np.ndarray, lon: np.ndarray, weights: np.ndarray) -> np.ndarray:\n",
    "    \"\"\"Calcule le barycentre pondéré par un poids pour une zone donnée\n",
    "\n",
    "    Args:\n",
    "        lat (np.ndarray): Toutes les latitudes des objets qui possèdent un poids\n",
    "        long (np.ndarray):  Toutes les longitudes des objets qui possèdent un poids\n",
    "        weights (np.ndarray): Poids assignés aux objets\n",
    "\n",
    "    Returns:\n",
    "        np.ndarray: latitude et longitude du barycentre\n",
    "    \"\"\"\n",
    "    assert lat.shape == lon.shape == weights.shape\n",
    "\n",
    "    return np.array([np.sum(lat*weights)/np.sum(weights), np.sum(lon*weights)/np.sum(weights)])"
   ]
  },
  {
   "cell_type": "code",
   "execution_count": 21,
   "id": "c7bc91a4",
   "metadata": {},
   "outputs": [],
   "source": [
    "def search_weather_coordinates(gdf: gpd.GeoDataFrame, weights: np.ndarray):\n",
    "    \n",
    "    \"\"\"_summary_\n",
    "\n",
    "    Args:\n",
    "        gdf (gpd.GeoDataFrame): _description_\n",
    "        weights (np.ndarray): _description_\n",
    "\n",
    "    Returns:\n",
    "        _type_: _description_\n",
    "    \"\"\"\n",
    "\n",
    "    # Creation des features\n",
    "    centroid = gdf.centroid\n",
    "    x = np.array(centroid.x)\n",
    "    y = np.array(centroid.y)\n",
    "\n",
    "    barycentre_coord = compute_barycentre(x, y, weights)\n",
    "\n",
    "    return barycentre_coord"
   ]
  },
  {
   "cell_type": "code",
   "execution_count": 22,
   "id": "c8257b5e",
   "metadata": {},
   "outputs": [
    {
     "data": {
      "text/html": [
       "<div>\n",
       "<style scoped>\n",
       "    .dataframe tbody tr th:only-of-type {\n",
       "        vertical-align: middle;\n",
       "    }\n",
       "\n",
       "    .dataframe tbody tr th {\n",
       "        vertical-align: top;\n",
       "    }\n",
       "\n",
       "    .dataframe thead th {\n",
       "        text-align: right;\n",
       "    }\n",
       "</style>\n",
       "<table border=\"1\" class=\"dataframe\">\n",
       "  <thead>\n",
       "    <tr style=\"text-align: right;\">\n",
       "      <th></th>\n",
       "      <th>cleabs</th>\n",
       "      <th>code_insee</th>\n",
       "      <th>nom_commune</th>\n",
       "      <th>iris</th>\n",
       "      <th>code_iris</th>\n",
       "      <th>nom_iris</th>\n",
       "      <th>type_iris</th>\n",
       "      <th>codeDepartement</th>\n",
       "      <th>codeRegion</th>\n",
       "      <th>dateMiseEnService</th>\n",
       "      <th>filiere</th>\n",
       "      <th>debitMaximal</th>\n",
       "      <th>maxPuis</th>\n",
       "      <th>geometry</th>\n",
       "    </tr>\n",
       "  </thead>\n",
       "  <tbody>\n",
       "    <tr>\n",
       "      <th>0</th>\n",
       "      <td>IRIS____0000000112030101</td>\n",
       "      <td>11203</td>\n",
       "      <td>Lézignan-Corbières</td>\n",
       "      <td>0101</td>\n",
       "      <td>112030101</td>\n",
       "      <td>Zone d'Activités</td>\n",
       "      <td>A</td>\n",
       "      <td>11</td>\n",
       "      <td>76</td>\n",
       "      <td>05/11/2009</td>\n",
       "      <td>Solaire</td>\n",
       "      <td>0.0</td>\n",
       "      <td>168.94</td>\n",
       "      <td>MULTIPOLYGON (((681614.1 6228809.3, 681235.6 6...</td>\n",
       "    </tr>\n",
       "    <tr>\n",
       "      <th>1</th>\n",
       "      <td>IRIS____0000000314330102</td>\n",
       "      <td>31433</td>\n",
       "      <td>Portet-sur-Garonne</td>\n",
       "      <td>0102</td>\n",
       "      <td>314330102</td>\n",
       "      <td>Zone d'Activités</td>\n",
       "      <td>A</td>\n",
       "      <td>31</td>\n",
       "      <td>76</td>\n",
       "      <td>27/07/2011</td>\n",
       "      <td>Solaire</td>\n",
       "      <td>0.0</td>\n",
       "      <td>135.00</td>\n",
       "      <td>MULTIPOLYGON (((568930.3 6269968.2, 568893.9 6...</td>\n",
       "    </tr>\n",
       "    <tr>\n",
       "      <th>2</th>\n",
       "      <td>IRIS____0000000661720102</td>\n",
       "      <td>66172</td>\n",
       "      <td>Saint-Estève</td>\n",
       "      <td>0102</td>\n",
       "      <td>661720102</td>\n",
       "      <td>Zone d'Activités</td>\n",
       "      <td>A</td>\n",
       "      <td>66</td>\n",
       "      <td>76</td>\n",
       "      <td>05/08/2011</td>\n",
       "      <td>Solaire</td>\n",
       "      <td>0.0</td>\n",
       "      <td>108.30</td>\n",
       "      <td>MULTIPOLYGON (((684756.5 6180601, 684832.5 618...</td>\n",
       "    </tr>\n",
       "    <tr>\n",
       "      <th>3</th>\n",
       "      <td>IRIS____0000000652580103</td>\n",
       "      <td>65258</td>\n",
       "      <td>Lannemezan</td>\n",
       "      <td>0103</td>\n",
       "      <td>652580103</td>\n",
       "      <td>Quartier Demi-Lune</td>\n",
       "      <td>A</td>\n",
       "      <td>65</td>\n",
       "      <td>76</td>\n",
       "      <td>01/12/2023</td>\n",
       "      <td>Solaire</td>\n",
       "      <td>0.0</td>\n",
       "      <td>250.00</td>\n",
       "      <td>MULTIPOLYGON (((488692.5 6229018.2, 488639.6 6...</td>\n",
       "    </tr>\n",
       "    <tr>\n",
       "      <th>4</th>\n",
       "      <td>IRIS____0000000092250103</td>\n",
       "      <td>09225</td>\n",
       "      <td>Pamiers</td>\n",
       "      <td>0103</td>\n",
       "      <td>092250103</td>\n",
       "      <td>Z.I. de Pic</td>\n",
       "      <td>A</td>\n",
       "      <td>09</td>\n",
       "      <td>76</td>\n",
       "      <td>12/04/2013</td>\n",
       "      <td>Solaire</td>\n",
       "      <td>0.0</td>\n",
       "      <td>100.00</td>\n",
       "      <td>MULTIPOLYGON (((587623.3 6224907.7, 587610.9 6...</td>\n",
       "    </tr>\n",
       "  </tbody>\n",
       "</table>\n",
       "</div>"
      ],
      "text/plain": [
       "                     cleabs code_insee         nom_commune  iris  code_iris  \\\n",
       "0  IRIS____0000000112030101      11203  Lézignan-Corbières  0101  112030101   \n",
       "1  IRIS____0000000314330102      31433  Portet-sur-Garonne  0102  314330102   \n",
       "2  IRIS____0000000661720102      66172        Saint-Estève  0102  661720102   \n",
       "3  IRIS____0000000652580103      65258          Lannemezan  0103  652580103   \n",
       "4  IRIS____0000000092250103      09225             Pamiers  0103  092250103   \n",
       "\n",
       "             nom_iris type_iris codeDepartement codeRegion dateMiseEnService  \\\n",
       "0    Zone d'Activités         A              11         76        05/11/2009   \n",
       "1    Zone d'Activités         A              31         76        27/07/2011   \n",
       "2    Zone d'Activités         A              66         76        05/08/2011   \n",
       "3  Quartier Demi-Lune         A              65         76        01/12/2023   \n",
       "4         Z.I. de Pic         A              09         76        12/04/2013   \n",
       "\n",
       "   filiere debitMaximal  maxPuis  \\\n",
       "0  Solaire          0.0   168.94   \n",
       "1  Solaire          0.0   135.00   \n",
       "2  Solaire          0.0   108.30   \n",
       "3  Solaire          0.0   250.00   \n",
       "4  Solaire          0.0   100.00   \n",
       "\n",
       "                                            geometry  \n",
       "0  MULTIPOLYGON (((681614.1 6228809.3, 681235.6 6...  \n",
       "1  MULTIPOLYGON (((568930.3 6269968.2, 568893.9 6...  \n",
       "2  MULTIPOLYGON (((684756.5 6180601, 684832.5 618...  \n",
       "3  MULTIPOLYGON (((488692.5 6229018.2, 488639.6 6...  \n",
       "4  MULTIPOLYGON (((587623.3 6224907.7, 587610.9 6...  "
      ]
     },
     "execution_count": 22,
     "metadata": {},
     "output_type": "execute_result"
    }
   ],
   "source": [
    "puiss_solaire.head()"
   ]
  },
  {
   "cell_type": "code",
   "execution_count": 25,
   "id": "abb47d26",
   "metadata": {},
   "outputs": [
    {
     "name": "stdout",
     "output_type": "stream",
     "text": [
      "POINT (646749.197872009 6280856.568014578)\n"
     ]
    }
   ],
   "source": [
    "# Calcul du barycentre représentant le scénario central\n",
    "central_coord = Point(search_weather_coordinates(puiss_solaire, puiss_solaire[\"maxPuis\"]))\n",
    "print(central_coord)"
   ]
  },
  {
   "cell_type": "code",
   "execution_count": 26,
   "id": "bc8e98a6",
   "metadata": {},
   "outputs": [],
   "source": [
    "dict_coord = {}\n",
    "for departement in puiss_solaire[\"codeDepartement\"].unique():\n",
    "    temp_gdf = puiss_solaire[puiss_solaire[\"codeDepartement\"]==departement]\n",
    "    dep_coord = search_weather_coordinates(temp_gdf, temp_gdf[\"maxPuis\"])\n",
    "    dict_coord[departement] = Point(dep_coord)"
   ]
  },
  {
   "cell_type": "code",
   "execution_count": null,
   "id": "b5dbbc2a",
   "metadata": {},
   "outputs": [],
   "source": [
    "dict_coord[1000] = central_coord # Scénario central"
   ]
  },
  {
   "cell_type": "code",
   "execution_count": null,
   "id": "aecb8d18",
   "metadata": {},
   "outputs": [
    {
     "name": "stdout",
     "output_type": "stream",
     "text": [
      "                      geometry\n",
      "11    POINT (2.44042 43.19964)\n",
      "31    POINT (1.28317 43.48915)\n",
      "66    POINT (2.72224 42.62486)\n",
      "65    POINT (0.18671 43.23553)\n",
      "09     POINT (1.5799 43.07568)\n",
      "34    POINT (3.54115 43.55647)\n",
      "81     POINT (2.10443 43.7987)\n",
      "82    POINT (1.24372 43.98832)\n",
      "12      POINT (2.59696 44.278)\n",
      "32     POINT (0.5125 43.71799)\n",
      "30    POINT (4.37733 43.97766)\n",
      "48     POINT (3.28697 44.4936)\n",
      "46    POINT (1.65832 44.72196)\n",
      "1000  POINT (2.34041 43.62476)\n"
     ]
    }
   ],
   "source": [
    "s_gdf = gpd.GeoDataFrame(pd.DataFrame.from_dict(dict_coord, orient='index', columns=[\"geometry\"]), geometry=\"geometry\", crs=\"EPSG:2154\") # Création du GeoDataFrame pour illustration\n",
    "s_gdf = s_gdf.to_crs(4326) # Coordonnées de Mercator pour l'API\n",
    "print(s_gdf)"
   ]
  },
  {
   "cell_type": "code",
   "execution_count": 35,
   "id": "7a353d61",
   "metadata": {},
   "outputs": [],
   "source": [
    "s_gdf.to_file(\"data/processed/weather_coordinates.gpkg\")"
   ]
  },
  {
   "cell_type": "code",
   "execution_count": null,
   "id": "8ac140e2",
   "metadata": {},
   "outputs": [],
   "source": []
  }
 ],
 "metadata": {
  "kernelspec": {
   "display_name": "solar_forecasting",
   "language": "python",
   "name": "python3"
  },
  "language_info": {
   "codemirror_mode": {
    "name": "ipython",
    "version": 3
   },
   "file_extension": ".py",
   "mimetype": "text/x-python",
   "name": "python",
   "nbconvert_exporter": "python",
   "pygments_lexer": "ipython3",
   "version": "3.12.9"
  }
 },
 "nbformat": 4,
 "nbformat_minor": 5
}
