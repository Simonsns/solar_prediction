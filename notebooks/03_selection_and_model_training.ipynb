{
 "cells": [
  {
   "cell_type": "markdown",
   "id": "390601e9",
   "metadata": {},
   "source": [
    "# Selection et entrainement des modèles "
   ]
  },
  {
   "cell_type": "markdown",
   "id": "9f8b13eb",
   "metadata": {},
   "source": [
    "***Résumé Exécutif du Feature Engineering - Prévision Solaire J+1***\n",
    "\n",
    "L'étape de feature_engineering a consisté à la prise en compte des conclusions de l'analyse exploratoire (EDA), ainsi que la création de garde-fous données manquantes/outliers ainsi que la création de features cycliques et de variables laggées.\n",
    "\n",
    "**Données** : Dataset horaire sur 2.5 ans (01/2023 - 05/2025) de production RTE et prévisions OpenMétéo. Identification de 2 valeurs manquantes nocturnes dans la cible, qui seront imputées à 0.\n",
    "\n",
    "**Gardes-fous :**\n",
    "- Création de tests IQR/Z-score et raise des outliers en intersection des deux filtres ;\n",
    "- Interpolation des séquences temporelles inférieures à 3h consécutives ;\n",
    "- Lors d'une absence de séquence de plus de 3 heures, création d'un reporting des séquences les plus longues, et potentiellement création d'un futur algorithme KNN - Filtre de Kalman.\n",
    "\n",
    "**Features créées :**\n",
    "- Création de features cycliques heures + mois, en fonction de la saisonnalité du cycle solaire ;\n",
    "- Création de features laggées (data leakage évité): \n",
    "  - Retard de 24, 32 et 48 (observation des cross-correlation + cohérent physiquement) ;\n",
    "  - Moyennes mobiles de 24, 32 et 48 périodes (analogue aux features retard).\n",
    " \n",
    "**Etapes effectuées dans ce notebook** :\n",
    "\n",
    "- Transformations statistiques pour les données LSTM et/ou SARIMAX si nécessaire ;\n",
    "- Baseline SARIMAX avec les features physiques les plus corrélées ;\n",
    "- Sélection de features (Embedding via LightGBM) ;\n",
    "- Validation croisée \"Expanding Window\" avec optimisation des hyperparamètres (Optuna) ;\n",
    "- Développement de modèles LightGBM et LSTM, avec MC dropout et regression quantile pour quantifier l'incertitude des modèles."
   ]
  },
  {
   "cell_type": "markdown",
   "id": "d1d73410",
   "metadata": {},
   "source": [
    "### Import des librairies"
   ]
  },
  {
   "cell_type": "code",
   "execution_count": 1,
   "id": "5c5ca856",
   "metadata": {},
   "outputs": [],
   "source": [
    "# Base\n",
    "import os\n",
    "import pandas as pd\n",
    "import numpy as np\n",
    "import seaborn as sns\n",
    "import matplotlib.pyplot as plt\n",
    "from typing import Optional, Dict\n",
    "import logging\n",
    "\n",
    "# Modèles\n",
    "import statsmodels.api as sm\n",
    "from statsmodels.tsa.statespace.sarimax import SARIMAX\n",
    "from scipy.stats import jarque_bera, shapiro\n",
    "import lightgbm as lgb\n",
    "from sklearn.model_selection import TimeSeriesSplit, train_test_split\n",
    "from sklearn.preprocessing import StandardScaler, MinMaxScaler\n",
    "from sklearn.metrics import mean_squared_error"
   ]
  },
  {
   "cell_type": "code",
   "execution_count": 2,
   "id": "e2ef55cb",
   "metadata": {},
   "outputs": [],
   "source": [
    "# Confirmation d'être à la racine du dossier\n",
    "project_root = os.path.abspath(os.path.join(os.getcwd(), os.pardir))\n",
    "os.chdir(project_root)"
   ]
  },
  {
   "cell_type": "markdown",
   "id": "3becbebd",
   "metadata": {},
   "source": []
  },
  {
   "cell_type": "markdown",
   "id": "c62b2914",
   "metadata": {},
   "source": [
    "#### Préparation des datasets d'entrainement"
   ]
  },
  {
   "cell_type": "code",
   "execution_count": 3,
   "id": "b2c4f75c",
   "metadata": {},
   "outputs": [],
   "source": [
    "df = pd.read_csv(\"data/processed/df_engineered.csv\", index_col=0)\n",
    "df.index = pd.to_datetime(df.index, utc=True).tz_convert(\"Europe/Paris\")"
   ]
  },
  {
   "cell_type": "code",
   "execution_count": 4,
   "id": "0ace9b60",
   "metadata": {},
   "outputs": [],
   "source": [
    "def prepare_data_for_nn(df: pd.DataFrame, target_col: str, features_to_use: Optional[list[str]] = None):\n",
    "    \"\"\"Retourne pour dataframe df les données d'entrée du modèle X transformée par MinMaxScaler (X_scaled) et la colonne cible (target_col)\n",
    "\n",
    "    Args:\n",
    "        df (pd.DataFrame): DataFrame df avec toutes les colonnes, colonne cible comprise.\n",
    "        target_col (str): Colonne cible.\n",
    "        features_to_use (Optional[list[str]], optional): Features à utiliser (optionnel). Defaults to None.\n",
    "\n",
    "    Returns:\n",
    "        X_scaled (pd.DataFrame), y (pd.Series) : DataFrame scalé et colonne cible.\n",
    "    \"\"\"\n",
    "    if features_to_use:\n",
    "        X = df[features_to_use]\n",
    "    else:\n",
    "        X = df.drop(columns=target_col)\n",
    "    y = df[target_col]\n",
    "\n",
    "    # Scaling des features\n",
    "    scaler = MinMaxScaler()\n",
    "    X_scaled = pd.DataFrame(scaler.fit_transform(X), index = X.index, columns=X.columns)\n",
    "\n",
    "    return X_scaled, y"
   ]
  },
  {
   "cell_type": "code",
   "execution_count": 5,
   "id": "eff322cd",
   "metadata": {},
   "outputs": [],
   "source": [
    "def time_series_fold(X: pd.DataFrame, y: pd.Series):\n",
    "    \n",
    "    \"\"\"_summary_\n",
    "\n",
    "    Args:\n",
    "        X (pd.DataFrame): _description_\n",
    "        y (pd.Series): _description_\n",
    "\n",
    "    Returns:\n",
    "        _type_: _description_\n",
    "    \"\"\"\n",
    "\n",
    "    dict_ts_fold = {}\n",
    "    tscv = TimeSeriesSplit(gap=0, n_splits=5)\n",
    "    X_array = np.array(X) \n",
    "    y_array = np.array(y)\n",
    "\n",
    "    for i, (train_index, test_index) in enumerate(tscv.split(X)):\n",
    "        X_train, X_test = X_array[train_index], X_array[test_index]\n",
    "        y_train, y_test = y_array[train_index], y_array[test_index] \n",
    "        dict_ts_fold[f'train_{i}'] = [X_train, y_train]\n",
    "        dict_ts_fold[f'test_{i}'] = [X_test, y_test]\n",
    "    \n",
    "    return dict_ts_fold"
   ]
  },
  {
   "cell_type": "code",
   "execution_count": 6,
   "id": "59b59288",
   "metadata": {},
   "outputs": [
    {
     "data": {
      "text/plain": [
       "Index(['solar_mw', 'temperature_2m', 'relative_humidity_2m', 'precipitation',\n",
       "       'surface_pressure', 'cloud_cover', 'wind_speed_10m',\n",
       "       'wind_direction_10m', 'global_tilted_irradiance',\n",
       "       'temperature_2m_delta_minmax', 'temperature_2m_std',\n",
       "       'relative_humidity_2m_delta_minmax', 'relative_humidity_2m_std',\n",
       "       'precipitation_delta_minmax', 'precipitation_std',\n",
       "       'surface_pressure_delta_minmax', 'surface_pressure_std',\n",
       "       'cloud_cover_delta_minmax', 'cloud_cover_std',\n",
       "       'wind_speed_10m_delta_minmax', 'wind_speed_10m_std',\n",
       "       'wind_direction_10m_delta_minmax', 'wind_direction_10m_std',\n",
       "       'global_tilted_irradiance_delta_minmax', 'global_tilted_irradiance_std',\n",
       "       'month_sin', 'month_cos', 'hour_sin', 'hour_cos',\n",
       "       'global_tilted_irradiance_lag_24', 'global_tilted_irradiance_ma_24',\n",
       "       'global_tilted_irradiance_lag_32', 'global_tilted_irradiance_ma_32',\n",
       "       'global_tilted_irradiance_lag_48', 'global_tilted_irradiance_ma_48',\n",
       "       'relative_humidity_2m_lag_24', 'relative_humidity_2m_ma_24',\n",
       "       'relative_humidity_2m_lag_32', 'relative_humidity_2m_ma_32',\n",
       "       'relative_humidity_2m_lag_48', 'relative_humidity_2m_ma_48',\n",
       "       'temperature_2m_lag_24', 'temperature_2m_ma_24',\n",
       "       'temperature_2m_lag_32', 'temperature_2m_ma_32',\n",
       "       'temperature_2m_lag_48', 'temperature_2m_ma_48',\n",
       "       'wind_speed_10m_lag_24', 'wind_speed_10m_ma_24',\n",
       "       'wind_speed_10m_lag_32', 'wind_speed_10m_ma_32',\n",
       "       'wind_speed_10m_lag_48', 'wind_speed_10m_ma_48'],\n",
       "      dtype='object')"
      ]
     },
     "execution_count": 6,
     "metadata": {},
     "output_type": "execute_result"
    }
   ],
   "source": [
    "df.columns"
   ]
  },
  {
   "cell_type": "code",
   "execution_count": 7,
   "id": "c486be05",
   "metadata": {},
   "outputs": [],
   "source": [
    "feature_sarimax = ['temperature_2m', 'relative_humidity_2m', 'precipitation', \n",
    "        'cloud_cover', 'wind_speed_10m',\n",
    "       'wind_direction_10m', 'global_tilted_irradiance',\n",
    "       'global_tilted_irradiance_delta_minmax', 'global_tilted_irradiance_std']"
   ]
  },
  {
   "cell_type": "code",
   "execution_count": 8,
   "id": "da3a6bf4",
   "metadata": {},
   "outputs": [],
   "source": [
    "X = df[feature_sarimax]\n",
    "y = df[\"solar_mw\"]\n",
    "scaler = StandardScaler()\n",
    "folds = time_series_fold(X, y)"
   ]
  }
 ],
 "metadata": {
  "kernelspec": {
   "display_name": "solar_forecasting",
   "language": "python",
   "name": "python3"
  },
  "language_info": {
   "codemirror_mode": {
    "name": "ipython",
    "version": 3
   },
   "file_extension": ".py",
   "mimetype": "text/x-python",
   "name": "python",
   "nbconvert_exporter": "python",
   "pygments_lexer": "ipython3",
   "version": "3.12.9"
  }
 },
 "nbformat": 4,
 "nbformat_minor": 5
}
